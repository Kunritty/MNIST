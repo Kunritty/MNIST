{
 "cells": [
  {
   "cell_type": "markdown",
   "id": "0d6047a8",
   "metadata": {
    "papermill": {
     "duration": 0.00913,
     "end_time": "2024-09-01T08:54:01.889788",
     "exception": false,
     "start_time": "2024-09-01T08:54:01.880658",
     "status": "completed"
    },
    "tags": []
   },
   "source": [
    "This is my first attempt at creating and training my own neural network. I'll be training my model on the MNIST dataset to recognize numbers 0-9. This will be a convolutional neural network built from scratch. The problem is simple enough to not really need a pretrained base model.\n",
    "\n",
    "\n",
    "I may try to expand this project to include a drawing board where users can draw their own numbers and have my model predict them."
   ]
  },
  {
   "cell_type": "markdown",
   "id": "f40c34d7",
   "metadata": {
    "papermill": {
     "duration": 0.007876,
     "end_time": "2024-09-01T08:54:01.906053",
     "exception": false,
     "start_time": "2024-09-01T08:54:01.898177",
     "status": "completed"
    },
    "tags": []
   },
   "source": [
    "# Imports #"
   ]
  },
  {
   "cell_type": "code",
   "execution_count": 1,
   "id": "5ceebc11",
   "metadata": {
    "_cell_guid": "b1076dfc-b9ad-4769-8c92-a6c4dae69d19",
    "_uuid": "8f2839f25d086af736a60e9eeb907d3b93b6e0e5",
    "execution": {
     "iopub.execute_input": "2024-09-01T08:54:01.924099Z",
     "iopub.status.busy": "2024-09-01T08:54:01.923714Z",
     "iopub.status.idle": "2024-09-01T08:54:15.540212Z",
     "shell.execute_reply": "2024-09-01T08:54:15.539220Z"
    },
    "papermill": {
     "duration": 13.628103,
     "end_time": "2024-09-01T08:54:15.542596",
     "exception": false,
     "start_time": "2024-09-01T08:54:01.914493",
     "status": "completed"
    },
    "tags": []
   },
   "outputs": [],
   "source": [
    "import numpy as np \n",
    "import pandas as pd \n",
    "import tensorflow as tf\n",
    "import matplotlib.pyplot as plt\n",
    "import seaborn as sns\n",
    "\n",
    "from tensorflow import keras\n",
    "from tensorflow.keras import layers\n",
    "from tensorflow.keras.utils import to_categorical\n",
    "from tensorflow.keras.callbacks import ReduceLROnPlateau, EarlyStopping\n",
    "from sklearn.model_selection import train_test_split\n",
    "\n",
    "\n",
    "SEED = 31415\n",
    "\n",
    "np.random.seed(SEED)\n",
    "tf.random.set_seed(SEED)"
   ]
  },
  {
   "cell_type": "markdown",
   "id": "ac39a6ed",
   "metadata": {
    "papermill": {
     "duration": 0.008261,
     "end_time": "2024-09-01T08:54:15.559582",
     "exception": false,
     "start_time": "2024-09-01T08:54:15.551321",
     "status": "completed"
    },
    "tags": []
   },
   "source": [
    "# Loading Data #"
   ]
  },
  {
   "cell_type": "code",
   "execution_count": 2,
   "id": "eb751d22",
   "metadata": {
    "execution": {
     "iopub.execute_input": "2024-09-01T08:54:15.577701Z",
     "iopub.status.busy": "2024-09-01T08:54:15.576818Z",
     "iopub.status.idle": "2024-09-01T08:54:18.932755Z",
     "shell.execute_reply": "2024-09-01T08:54:18.931771Z"
    },
    "papermill": {
     "duration": 3.367059,
     "end_time": "2024-09-01T08:54:18.934868",
     "exception": false,
     "start_time": "2024-09-01T08:54:15.567809",
     "status": "completed"
    },
    "tags": []
   },
   "outputs": [
    {
     "name": "stdout",
     "output_type": "stream",
     "text": [
      "(42000, 785)\n"
     ]
    },
    {
     "data": {
      "text/html": [
       "<div>\n",
       "<style scoped>\n",
       "    .dataframe tbody tr th:only-of-type {\n",
       "        vertical-align: middle;\n",
       "    }\n",
       "\n",
       "    .dataframe tbody tr th {\n",
       "        vertical-align: top;\n",
       "    }\n",
       "\n",
       "    .dataframe thead th {\n",
       "        text-align: right;\n",
       "    }\n",
       "</style>\n",
       "<table border=\"1\" class=\"dataframe\">\n",
       "  <thead>\n",
       "    <tr style=\"text-align: right;\">\n",
       "      <th></th>\n",
       "      <th>label</th>\n",
       "      <th>pixel0</th>\n",
       "      <th>pixel1</th>\n",
       "      <th>pixel2</th>\n",
       "      <th>pixel3</th>\n",
       "      <th>pixel4</th>\n",
       "      <th>pixel5</th>\n",
       "      <th>pixel6</th>\n",
       "      <th>pixel7</th>\n",
       "      <th>pixel8</th>\n",
       "      <th>...</th>\n",
       "      <th>pixel774</th>\n",
       "      <th>pixel775</th>\n",
       "      <th>pixel776</th>\n",
       "      <th>pixel777</th>\n",
       "      <th>pixel778</th>\n",
       "      <th>pixel779</th>\n",
       "      <th>pixel780</th>\n",
       "      <th>pixel781</th>\n",
       "      <th>pixel782</th>\n",
       "      <th>pixel783</th>\n",
       "    </tr>\n",
       "  </thead>\n",
       "  <tbody>\n",
       "    <tr>\n",
       "      <th>0</th>\n",
       "      <td>1</td>\n",
       "      <td>0</td>\n",
       "      <td>0</td>\n",
       "      <td>0</td>\n",
       "      <td>0</td>\n",
       "      <td>0</td>\n",
       "      <td>0</td>\n",
       "      <td>0</td>\n",
       "      <td>0</td>\n",
       "      <td>0</td>\n",
       "      <td>...</td>\n",
       "      <td>0</td>\n",
       "      <td>0</td>\n",
       "      <td>0</td>\n",
       "      <td>0</td>\n",
       "      <td>0</td>\n",
       "      <td>0</td>\n",
       "      <td>0</td>\n",
       "      <td>0</td>\n",
       "      <td>0</td>\n",
       "      <td>0</td>\n",
       "    </tr>\n",
       "    <tr>\n",
       "      <th>1</th>\n",
       "      <td>0</td>\n",
       "      <td>0</td>\n",
       "      <td>0</td>\n",
       "      <td>0</td>\n",
       "      <td>0</td>\n",
       "      <td>0</td>\n",
       "      <td>0</td>\n",
       "      <td>0</td>\n",
       "      <td>0</td>\n",
       "      <td>0</td>\n",
       "      <td>...</td>\n",
       "      <td>0</td>\n",
       "      <td>0</td>\n",
       "      <td>0</td>\n",
       "      <td>0</td>\n",
       "      <td>0</td>\n",
       "      <td>0</td>\n",
       "      <td>0</td>\n",
       "      <td>0</td>\n",
       "      <td>0</td>\n",
       "      <td>0</td>\n",
       "    </tr>\n",
       "    <tr>\n",
       "      <th>2</th>\n",
       "      <td>1</td>\n",
       "      <td>0</td>\n",
       "      <td>0</td>\n",
       "      <td>0</td>\n",
       "      <td>0</td>\n",
       "      <td>0</td>\n",
       "      <td>0</td>\n",
       "      <td>0</td>\n",
       "      <td>0</td>\n",
       "      <td>0</td>\n",
       "      <td>...</td>\n",
       "      <td>0</td>\n",
       "      <td>0</td>\n",
       "      <td>0</td>\n",
       "      <td>0</td>\n",
       "      <td>0</td>\n",
       "      <td>0</td>\n",
       "      <td>0</td>\n",
       "      <td>0</td>\n",
       "      <td>0</td>\n",
       "      <td>0</td>\n",
       "    </tr>\n",
       "    <tr>\n",
       "      <th>3</th>\n",
       "      <td>4</td>\n",
       "      <td>0</td>\n",
       "      <td>0</td>\n",
       "      <td>0</td>\n",
       "      <td>0</td>\n",
       "      <td>0</td>\n",
       "      <td>0</td>\n",
       "      <td>0</td>\n",
       "      <td>0</td>\n",
       "      <td>0</td>\n",
       "      <td>...</td>\n",
       "      <td>0</td>\n",
       "      <td>0</td>\n",
       "      <td>0</td>\n",
       "      <td>0</td>\n",
       "      <td>0</td>\n",
       "      <td>0</td>\n",
       "      <td>0</td>\n",
       "      <td>0</td>\n",
       "      <td>0</td>\n",
       "      <td>0</td>\n",
       "    </tr>\n",
       "    <tr>\n",
       "      <th>4</th>\n",
       "      <td>0</td>\n",
       "      <td>0</td>\n",
       "      <td>0</td>\n",
       "      <td>0</td>\n",
       "      <td>0</td>\n",
       "      <td>0</td>\n",
       "      <td>0</td>\n",
       "      <td>0</td>\n",
       "      <td>0</td>\n",
       "      <td>0</td>\n",
       "      <td>...</td>\n",
       "      <td>0</td>\n",
       "      <td>0</td>\n",
       "      <td>0</td>\n",
       "      <td>0</td>\n",
       "      <td>0</td>\n",
       "      <td>0</td>\n",
       "      <td>0</td>\n",
       "      <td>0</td>\n",
       "      <td>0</td>\n",
       "      <td>0</td>\n",
       "    </tr>\n",
       "  </tbody>\n",
       "</table>\n",
       "<p>5 rows × 785 columns</p>\n",
       "</div>"
      ],
      "text/plain": [
       "   label  pixel0  pixel1  pixel2  pixel3  pixel4  pixel5  pixel6  pixel7  \\\n",
       "0      1       0       0       0       0       0       0       0       0   \n",
       "1      0       0       0       0       0       0       0       0       0   \n",
       "2      1       0       0       0       0       0       0       0       0   \n",
       "3      4       0       0       0       0       0       0       0       0   \n",
       "4      0       0       0       0       0       0       0       0       0   \n",
       "\n",
       "   pixel8  ...  pixel774  pixel775  pixel776  pixel777  pixel778  pixel779  \\\n",
       "0       0  ...         0         0         0         0         0         0   \n",
       "1       0  ...         0         0         0         0         0         0   \n",
       "2       0  ...         0         0         0         0         0         0   \n",
       "3       0  ...         0         0         0         0         0         0   \n",
       "4       0  ...         0         0         0         0         0         0   \n",
       "\n",
       "   pixel780  pixel781  pixel782  pixel783  \n",
       "0         0         0         0         0  \n",
       "1         0         0         0         0  \n",
       "2         0         0         0         0  \n",
       "3         0         0         0         0  \n",
       "4         0         0         0         0  \n",
       "\n",
       "[5 rows x 785 columns]"
      ]
     },
     "execution_count": 2,
     "metadata": {},
     "output_type": "execute_result"
    }
   ],
   "source": [
    "df_train = pd.read_csv(\"../input/digit-recognizer/train.csv\")\n",
    "print(df_train.shape)\n",
    "df_train.head()"
   ]
  },
  {
   "cell_type": "code",
   "execution_count": 3,
   "id": "37f9bd05",
   "metadata": {
    "execution": {
     "iopub.execute_input": "2024-09-01T08:54:18.953937Z",
     "iopub.status.busy": "2024-09-01T08:54:18.953591Z",
     "iopub.status.idle": "2024-09-01T08:54:20.994917Z",
     "shell.execute_reply": "2024-09-01T08:54:20.993915Z"
    },
    "papermill": {
     "duration": 2.053094,
     "end_time": "2024-09-01T08:54:20.997064",
     "exception": false,
     "start_time": "2024-09-01T08:54:18.943970",
     "status": "completed"
    },
    "tags": []
   },
   "outputs": [
    {
     "name": "stdout",
     "output_type": "stream",
     "text": [
      "(28000, 784)\n"
     ]
    },
    {
     "data": {
      "text/html": [
       "<div>\n",
       "<style scoped>\n",
       "    .dataframe tbody tr th:only-of-type {\n",
       "        vertical-align: middle;\n",
       "    }\n",
       "\n",
       "    .dataframe tbody tr th {\n",
       "        vertical-align: top;\n",
       "    }\n",
       "\n",
       "    .dataframe thead th {\n",
       "        text-align: right;\n",
       "    }\n",
       "</style>\n",
       "<table border=\"1\" class=\"dataframe\">\n",
       "  <thead>\n",
       "    <tr style=\"text-align: right;\">\n",
       "      <th></th>\n",
       "      <th>pixel0</th>\n",
       "      <th>pixel1</th>\n",
       "      <th>pixel2</th>\n",
       "      <th>pixel3</th>\n",
       "      <th>pixel4</th>\n",
       "      <th>pixel5</th>\n",
       "      <th>pixel6</th>\n",
       "      <th>pixel7</th>\n",
       "      <th>pixel8</th>\n",
       "      <th>pixel9</th>\n",
       "      <th>...</th>\n",
       "      <th>pixel774</th>\n",
       "      <th>pixel775</th>\n",
       "      <th>pixel776</th>\n",
       "      <th>pixel777</th>\n",
       "      <th>pixel778</th>\n",
       "      <th>pixel779</th>\n",
       "      <th>pixel780</th>\n",
       "      <th>pixel781</th>\n",
       "      <th>pixel782</th>\n",
       "      <th>pixel783</th>\n",
       "    </tr>\n",
       "  </thead>\n",
       "  <tbody>\n",
       "    <tr>\n",
       "      <th>0</th>\n",
       "      <td>0</td>\n",
       "      <td>0</td>\n",
       "      <td>0</td>\n",
       "      <td>0</td>\n",
       "      <td>0</td>\n",
       "      <td>0</td>\n",
       "      <td>0</td>\n",
       "      <td>0</td>\n",
       "      <td>0</td>\n",
       "      <td>0</td>\n",
       "      <td>...</td>\n",
       "      <td>0</td>\n",
       "      <td>0</td>\n",
       "      <td>0</td>\n",
       "      <td>0</td>\n",
       "      <td>0</td>\n",
       "      <td>0</td>\n",
       "      <td>0</td>\n",
       "      <td>0</td>\n",
       "      <td>0</td>\n",
       "      <td>0</td>\n",
       "    </tr>\n",
       "    <tr>\n",
       "      <th>1</th>\n",
       "      <td>0</td>\n",
       "      <td>0</td>\n",
       "      <td>0</td>\n",
       "      <td>0</td>\n",
       "      <td>0</td>\n",
       "      <td>0</td>\n",
       "      <td>0</td>\n",
       "      <td>0</td>\n",
       "      <td>0</td>\n",
       "      <td>0</td>\n",
       "      <td>...</td>\n",
       "      <td>0</td>\n",
       "      <td>0</td>\n",
       "      <td>0</td>\n",
       "      <td>0</td>\n",
       "      <td>0</td>\n",
       "      <td>0</td>\n",
       "      <td>0</td>\n",
       "      <td>0</td>\n",
       "      <td>0</td>\n",
       "      <td>0</td>\n",
       "    </tr>\n",
       "    <tr>\n",
       "      <th>2</th>\n",
       "      <td>0</td>\n",
       "      <td>0</td>\n",
       "      <td>0</td>\n",
       "      <td>0</td>\n",
       "      <td>0</td>\n",
       "      <td>0</td>\n",
       "      <td>0</td>\n",
       "      <td>0</td>\n",
       "      <td>0</td>\n",
       "      <td>0</td>\n",
       "      <td>...</td>\n",
       "      <td>0</td>\n",
       "      <td>0</td>\n",
       "      <td>0</td>\n",
       "      <td>0</td>\n",
       "      <td>0</td>\n",
       "      <td>0</td>\n",
       "      <td>0</td>\n",
       "      <td>0</td>\n",
       "      <td>0</td>\n",
       "      <td>0</td>\n",
       "    </tr>\n",
       "    <tr>\n",
       "      <th>3</th>\n",
       "      <td>0</td>\n",
       "      <td>0</td>\n",
       "      <td>0</td>\n",
       "      <td>0</td>\n",
       "      <td>0</td>\n",
       "      <td>0</td>\n",
       "      <td>0</td>\n",
       "      <td>0</td>\n",
       "      <td>0</td>\n",
       "      <td>0</td>\n",
       "      <td>...</td>\n",
       "      <td>0</td>\n",
       "      <td>0</td>\n",
       "      <td>0</td>\n",
       "      <td>0</td>\n",
       "      <td>0</td>\n",
       "      <td>0</td>\n",
       "      <td>0</td>\n",
       "      <td>0</td>\n",
       "      <td>0</td>\n",
       "      <td>0</td>\n",
       "    </tr>\n",
       "    <tr>\n",
       "      <th>4</th>\n",
       "      <td>0</td>\n",
       "      <td>0</td>\n",
       "      <td>0</td>\n",
       "      <td>0</td>\n",
       "      <td>0</td>\n",
       "      <td>0</td>\n",
       "      <td>0</td>\n",
       "      <td>0</td>\n",
       "      <td>0</td>\n",
       "      <td>0</td>\n",
       "      <td>...</td>\n",
       "      <td>0</td>\n",
       "      <td>0</td>\n",
       "      <td>0</td>\n",
       "      <td>0</td>\n",
       "      <td>0</td>\n",
       "      <td>0</td>\n",
       "      <td>0</td>\n",
       "      <td>0</td>\n",
       "      <td>0</td>\n",
       "      <td>0</td>\n",
       "    </tr>\n",
       "  </tbody>\n",
       "</table>\n",
       "<p>5 rows × 784 columns</p>\n",
       "</div>"
      ],
      "text/plain": [
       "   pixel0  pixel1  pixel2  pixel3  pixel4  pixel5  pixel6  pixel7  pixel8  \\\n",
       "0       0       0       0       0       0       0       0       0       0   \n",
       "1       0       0       0       0       0       0       0       0       0   \n",
       "2       0       0       0       0       0       0       0       0       0   \n",
       "3       0       0       0       0       0       0       0       0       0   \n",
       "4       0       0       0       0       0       0       0       0       0   \n",
       "\n",
       "   pixel9  ...  pixel774  pixel775  pixel776  pixel777  pixel778  pixel779  \\\n",
       "0       0  ...         0         0         0         0         0         0   \n",
       "1       0  ...         0         0         0         0         0         0   \n",
       "2       0  ...         0         0         0         0         0         0   \n",
       "3       0  ...         0         0         0         0         0         0   \n",
       "4       0  ...         0         0         0         0         0         0   \n",
       "\n",
       "   pixel780  pixel781  pixel782  pixel783  \n",
       "0         0         0         0         0  \n",
       "1         0         0         0         0  \n",
       "2         0         0         0         0  \n",
       "3         0         0         0         0  \n",
       "4         0         0         0         0  \n",
       "\n",
       "[5 rows x 784 columns]"
      ]
     },
     "execution_count": 3,
     "metadata": {},
     "output_type": "execute_result"
    }
   ],
   "source": [
    "df_test = pd.read_csv(\"../input/digit-recognizer/test.csv\")\n",
    "print(df_test.shape)\n",
    "df_test.head()"
   ]
  },
  {
   "cell_type": "markdown",
   "id": "213b0981",
   "metadata": {
    "papermill": {
     "duration": 0.009506,
     "end_time": "2024-09-01T08:54:21.016196",
     "exception": false,
     "start_time": "2024-09-01T08:54:21.006690",
     "status": "completed"
    },
    "tags": []
   },
   "source": [
    "Each image is represented using 784 features. Each feature represents a pixel in a 28\\*28 grid. The pixels are numbered left to right, top to bottom where the top left pixel is pixel0 and the pixel directly below it is pixel28. The `label` feature in the training data is the represented number.\n",
    "\n",
    "Each pixel can have a value from 0-255 where 0 is black and 255 is white."
   ]
  },
  {
   "cell_type": "markdown",
   "id": "57969e1b",
   "metadata": {
    "papermill": {
     "duration": 0.008625,
     "end_time": "2024-09-01T08:54:21.033744",
     "exception": false,
     "start_time": "2024-09-01T08:54:21.025119",
     "status": "completed"
    },
    "tags": []
   },
   "source": [
    "# Data Analysis #\n",
    "\n"
   ]
  },
  {
   "cell_type": "code",
   "execution_count": 4,
   "id": "487ddc90",
   "metadata": {
    "execution": {
     "iopub.execute_input": "2024-09-01T08:54:21.053210Z",
     "iopub.status.busy": "2024-09-01T08:54:21.052502Z",
     "iopub.status.idle": "2024-09-01T08:54:21.102821Z",
     "shell.execute_reply": "2024-09-01T08:54:21.101912Z"
    },
    "papermill": {
     "duration": 0.0626,
     "end_time": "2024-09-01T08:54:21.105196",
     "exception": false,
     "start_time": "2024-09-01T08:54:21.042596",
     "status": "completed"
    },
    "tags": []
   },
   "outputs": [
    {
     "name": "stdout",
     "output_type": "stream",
     "text": [
      "Missing values:\n",
      "0\n",
      "0\n",
      "------------------\n",
      "int64    785\n",
      "Name: count, dtype: int64\n",
      "int64    784\n",
      "Name: count, dtype: int64\n"
     ]
    }
   ],
   "source": [
    "print(\"Missing values:\")\n",
    "print(df_train.isna().sum().sum())\n",
    "print(df_test.isna().sum().sum())\n",
    "print(\"------------------\")\n",
    "print(df_train.dtypes.value_counts())\n",
    "print(df_test.dtypes.value_counts())"
   ]
  },
  {
   "cell_type": "markdown",
   "id": "b522eb2a",
   "metadata": {
    "papermill": {
     "duration": 0.00889,
     "end_time": "2024-09-01T08:54:21.123425",
     "exception": false,
     "start_time": "2024-09-01T08:54:21.114535",
     "status": "completed"
    },
    "tags": []
   },
   "source": [
    "The dataset has no missing values and all columns are appropriately encoded as type `int64`. This reduces the amount of preprocessing needed."
   ]
  },
  {
   "cell_type": "code",
   "execution_count": 5,
   "id": "940e9394",
   "metadata": {
    "execution": {
     "iopub.execute_input": "2024-09-01T08:54:21.142972Z",
     "iopub.status.busy": "2024-09-01T08:54:21.142656Z",
     "iopub.status.idle": "2024-09-01T08:54:21.431221Z",
     "shell.execute_reply": "2024-09-01T08:54:21.430328Z"
    },
    "papermill": {
     "duration": 0.300692,
     "end_time": "2024-09-01T08:54:21.433295",
     "exception": false,
     "start_time": "2024-09-01T08:54:21.132603",
     "status": "completed"
    },
    "tags": []
   },
   "outputs": [
    {
     "data": {
      "text/plain": [
       "<Axes: xlabel='label', ylabel='count'>"
      ]
     },
     "execution_count": 5,
     "metadata": {},
     "output_type": "execute_result"
    },
    {
     "data": {
      "image/png": "[encoded data removed]",
      "text/plain": [
       "<Figure size 640x480 with 1 Axes>"
      ]
     },
     "metadata": {},
     "output_type": "display_data"
    }
   ],
   "source": [
    "sns.countplot(x=\"label\", data=df_train)"
   ]
  },
  {
   "cell_type": "markdown",
   "id": "cd3ca125",
   "metadata": {
    "papermill": {
     "duration": 0.00952,
     "end_time": "2024-09-01T08:54:21.452633",
     "exception": false,
     "start_time": "2024-09-01T08:54:21.443113",
     "status": "completed"
    },
    "tags": []
   },
   "source": [
    "We have a fairly even distribution of numbers within the training set."
   ]
  },
  {
   "cell_type": "markdown",
   "id": "2b4dc9a1",
   "metadata": {
    "papermill": {
     "duration": 0.009167,
     "end_time": "2024-09-01T08:54:21.471183",
     "exception": false,
     "start_time": "2024-09-01T08:54:21.462016",
     "status": "completed"
    },
    "tags": []
   },
   "source": [
    "# Preprocessing #\n",
    "\n",
    "We normalize the data and reshape it so that the CNN can handle it. "
   ]
  },
  {
   "cell_type": "code",
   "execution_count": 6,
   "id": "891266e8",
   "metadata": {
    "execution": {
     "iopub.execute_input": "2024-09-01T08:54:21.491539Z",
     "iopub.status.busy": "2024-09-01T08:54:21.491228Z",
     "iopub.status.idle": "2024-09-01T08:54:21.880496Z",
     "shell.execute_reply": "2024-09-01T08:54:21.879484Z"
    },
    "papermill": {
     "duration": 0.402181,
     "end_time": "2024-09-01T08:54:21.882904",
     "exception": false,
     "start_time": "2024-09-01T08:54:21.480723",
     "status": "completed"
    },
    "tags": []
   },
   "outputs": [],
   "source": [
    "X_train = df_train.copy()\n",
    "y_train = X_train.pop(\"label\")\n",
    "X_test = df_test.copy()\n",
    "\n",
    "#Normalize data\n",
    "X_train = X_train / 255\n",
    "X_test = X_test / 255\n",
    "\n",
    "#Reshape data, 28x28, 1 channel\n",
    "X_train = X_train.values.reshape(-1, 28, 28, 1)\n",
    "X_test = X_test.values.reshape(-1, 28, 28, 1)"
   ]
  },
  {
   "cell_type": "markdown",
   "id": "eb25f99b",
   "metadata": {
    "papermill": {
     "duration": 0.009506,
     "end_time": "2024-09-01T08:54:21.902139",
     "exception": false,
     "start_time": "2024-09-01T08:54:21.892633",
     "status": "completed"
    },
    "tags": []
   },
   "source": [
    "Here's a look at the first couple entries of our training data"
   ]
  },
  {
   "cell_type": "code",
   "execution_count": 7,
   "id": "db5b3d0d",
   "metadata": {
    "execution": {
     "iopub.execute_input": "2024-09-01T08:54:21.922418Z",
     "iopub.status.busy": "2024-09-01T08:54:21.921817Z",
     "iopub.status.idle": "2024-09-01T08:54:23.476587Z",
     "shell.execute_reply": "2024-09-01T08:54:23.475687Z"
    },
    "papermill": {
     "duration": 1.567388,
     "end_time": "2024-09-01T08:54:23.478862",
     "exception": false,
     "start_time": "2024-09-01T08:54:21.911474",
     "status": "completed"
    },
    "tags": []
   },
   "outputs": [
    {
     "data": {
      "image/png": "[encoded data removed]",
      "text/plain": [
       "<Figure size 2000x800 with 24 Axes>"
      ]
     },
     "metadata": {},
     "output_type": "display_data"
    }
   ],
   "source": [
    "#Display first n X_train entries\n",
    "n_rows, n_cols = 3, 8\n",
    "fig, axs = plt.subplots(n_rows, n_cols, figsize=(20,8))\n",
    "axs = axs.flatten()\n",
    "for i in range(n_rows*n_cols):\n",
    "    axs[i].imshow(X_train[i], cmap=\"gray\") \n",
    "    axs[i].set_title(y_train[i])\n",
    "    axs[i].axis(\"off\")"
   ]
  },
  {
   "cell_type": "markdown",
   "id": "c9224e9a",
   "metadata": {
    "papermill": {
     "duration": 0.009769,
     "end_time": "2024-09-01T08:54:23.498952",
     "exception": false,
     "start_time": "2024-09-01T08:54:23.489183",
     "status": "completed"
    },
    "tags": []
   },
   "source": [
    "One-hot encoding the target also helps the CNN training. "
   ]
  },
  {
   "cell_type": "code",
   "execution_count": 8,
   "id": "0a84b4d9",
   "metadata": {
    "execution": {
     "iopub.execute_input": "2024-09-01T08:54:23.519861Z",
     "iopub.status.busy": "2024-09-01T08:54:23.519572Z",
     "iopub.status.idle": "2024-09-01T08:54:23.525098Z",
     "shell.execute_reply": "2024-09-01T08:54:23.524417Z"
    },
    "papermill": {
     "duration": 0.018093,
     "end_time": "2024-09-01T08:54:23.526869",
     "exception": false,
     "start_time": "2024-09-01T08:54:23.508776",
     "status": "completed"
    },
    "tags": []
   },
   "outputs": [],
   "source": [
    "#e.g. 4 becomes [0,0,0,0,1,0,0,0,0,0]\n",
    "y_train = to_categorical(y_train, num_classes=10)"
   ]
  },
  {
   "cell_type": "markdown",
   "id": "83900a5e",
   "metadata": {
    "papermill": {
     "duration": 0.009696,
     "end_time": "2024-09-01T08:54:23.546596",
     "exception": false,
     "start_time": "2024-09-01T08:54:23.536900",
     "status": "completed"
    },
    "tags": []
   },
   "source": [
    "Now, we'll extract our validation data from our training data. Given that the dataset is relatively large, we'll use 10% of the training data as validation."
   ]
  },
  {
   "cell_type": "code",
   "execution_count": 9,
   "id": "018065f2",
   "metadata": {
    "execution": {
     "iopub.execute_input": "2024-09-01T08:54:23.567558Z",
     "iopub.status.busy": "2024-09-01T08:54:23.567267Z",
     "iopub.status.idle": "2024-09-01T08:54:23.952865Z",
     "shell.execute_reply": "2024-09-01T08:54:23.952095Z"
    },
    "papermill": {
     "duration": 0.398728,
     "end_time": "2024-09-01T08:54:23.955290",
     "exception": false,
     "start_time": "2024-09-01T08:54:23.556562",
     "status": "completed"
    },
    "tags": []
   },
   "outputs": [],
   "source": [
    "X_train, X_val, y_train, y_val = train_test_split(X_train, y_train, test_size=0.1, random_state=SEED)"
   ]
  },
  {
   "cell_type": "markdown",
   "id": "c62ff3d4",
   "metadata": {
    "papermill": {
     "duration": 0.010363,
     "end_time": "2024-09-01T08:54:23.977584",
     "exception": false,
     "start_time": "2024-09-01T08:54:23.967221",
     "status": "completed"
    },
    "tags": []
   },
   "source": [
    "# Model Creation and Training #\n",
    "\n",
    "To create the convolutional base, I opted for 3 blocks with batch normalization, same padding, and global pooling. Same padding is important since the images are already low resolution and border values seem to mainly be 0. Global pooling and batch normalization should help reduce overfitting and allow the model to capture the overall patterns."
   ]
  },
  {
   "cell_type": "markdown",
   "id": "c091ab0d",
   "metadata": {
    "papermill": {
     "duration": 0.010114,
     "end_time": "2024-09-01T08:54:23.998151",
     "exception": false,
     "start_time": "2024-09-01T08:54:23.988037",
     "status": "completed"
    },
    "tags": []
   },
   "source": [
    "To help prevent overfitting, I also created a model to augment data. I chose to incorporate small amounts of rotation, zoom, and translation. I chose to exclude image flipping since that could drastically change the number being represented, especially with 6 and 9. I also tried to change brightness but the images seemed very sensitive to brightness changes and i couldn't get it to produce recognizable images consistently.\n",
    "\n",
    "The augmentation seemed to work well because the validation loss followed the training loss much better after applying it."
   ]
  },
  {
   "cell_type": "code",
   "execution_count": 10,
   "id": "7bde1622",
   "metadata": {
    "execution": {
     "iopub.execute_input": "2024-09-01T08:54:24.021118Z",
     "iopub.status.busy": "2024-09-01T08:54:24.020769Z",
     "iopub.status.idle": "2024-09-01T08:54:27.469054Z",
     "shell.execute_reply": "2024-09-01T08:54:27.466553Z"
    },
    "papermill": {
     "duration": 3.463032,
     "end_time": "2024-09-01T08:54:27.471631",
     "exception": false,
     "start_time": "2024-09-01T08:54:24.008599",
     "status": "completed"
    },
    "tags": []
   },
   "outputs": [
    {
     "data": {
      "image/png": "[encoded data removed]",
      "text/plain": [
       "<Figure size 2000x800 with 24 Axes>"
      ]
     },
     "metadata": {},
     "output_type": "display_data"
    }
   ],
   "source": [
    "#Data augmentation\n",
    "image_gen = keras.Sequential([\n",
    "    layers.RandomRotation(0.05),\n",
    "    layers.RandomZoom(0.15),\n",
    "    layers.RandomHeight(0.1),\n",
    "    layers.RandomWidth(0.1),\n",
    "    layers.Resizing(28, 28),\n",
    "])\n",
    "\n",
    "#Show some augmented examples\n",
    "image_index = 14\n",
    "n_rows, n_cols = 3, 8\n",
    "\n",
    "example = X_train[image_index]\n",
    "label = np.argmax(y_train[image_index])\n",
    "augmented_examples = [image_gen(example) for _ in range(n_rows*n_cols)]\n",
    "\n",
    "fig, axs = plt.subplots(n_rows, n_cols, figsize=(20, 8))\n",
    "axs = axs.flatten()\n",
    "for i in range(n_rows * n_cols):\n",
    "    axs[i].imshow(augmented_examples[i], cmap=\"gray\")\n",
    "    axs[i].set_title(label)\n",
    "    axs[i].axis(\"off\")"
   ]
  },
  {
   "cell_type": "code",
   "execution_count": 11,
   "id": "94b88363",
   "metadata": {
    "execution": {
     "iopub.execute_input": "2024-09-01T08:54:27.503517Z",
     "iopub.status.busy": "2024-09-01T08:54:27.503145Z",
     "iopub.status.idle": "2024-09-01T08:54:27.633649Z",
     "shell.execute_reply": "2024-09-01T08:54:27.632764Z"
    },
    "papermill": {
     "duration": 0.148992,
     "end_time": "2024-09-01T08:54:27.635653",
     "exception": false,
     "start_time": "2024-09-01T08:54:27.486661",
     "status": "completed"
    },
    "tags": []
   },
   "outputs": [
    {
     "data": {
      "text/html": [
       "<pre style=\"white-space:pre;overflow-x:auto;line-height:normal;font-family:Menlo,'DejaVu Sans Mono',consolas,'Courier New',monospace\"><span style=\"font-weight: bold\">Model: \"sequential_1\"</span>\n",
       "</pre>\n"
      ],
      "text/plain": [
       "\u001b[1mModel: \"sequential_1\"\u001b[0m\n"
      ]
     },
     "metadata": {},
     "output_type": "display_data"
    },
    {
     "data": {
      "text/html": [
       "<pre style=\"white-space:pre;overflow-x:auto;line-height:normal;font-family:Menlo,'DejaVu Sans Mono',consolas,'Courier New',monospace\">┏━━━━━━━━━━━━━━━━━━━━━━━━━━━━━━━━━┳━━━━━━━━━━━━━━━━━━━━━━━━┳━━━━━━━━━━━━━━━┓\n",
       "┃<span style=\"font-weight: bold\"> Layer (type)                    </span>┃<span style=\"font-weight: bold\"> Output Shape           </span>┃<span style=\"font-weight: bold\">       Param # </span>┃\n",
       "┡━━━━━━━━━━━━━━━━━━━━━━━━━━━━━━━━━╇━━━━━━━━━━━━━━━━━━━━━━━━╇━━━━━━━━━━━━━━━┩\n",
       "│ random_rotation_1               │ (<span style=\"color: #00d7ff; text-decoration-color: #00d7ff\">None</span>, <span style=\"color: #00af00; text-decoration-color: #00af00\">28</span>, <span style=\"color: #00af00; text-decoration-color: #00af00\">28</span>, <span style=\"color: #00af00; text-decoration-color: #00af00\">1</span>)      │             <span style=\"color: #00af00; text-decoration-color: #00af00\">0</span> │\n",
       "│ (<span style=\"color: #0087ff; text-decoration-color: #0087ff\">RandomRotation</span>)                │                        │               │\n",
       "├─────────────────────────────────┼────────────────────────┼───────────────┤\n",
       "│ random_zoom_1 (<span style=\"color: #0087ff; text-decoration-color: #0087ff\">RandomZoom</span>)      │ (<span style=\"color: #00d7ff; text-decoration-color: #00d7ff\">None</span>, <span style=\"color: #00af00; text-decoration-color: #00af00\">28</span>, <span style=\"color: #00af00; text-decoration-color: #00af00\">28</span>, <span style=\"color: #00af00; text-decoration-color: #00af00\">1</span>)      │             <span style=\"color: #00af00; text-decoration-color: #00af00\">0</span> │\n",
       "├─────────────────────────────────┼────────────────────────┼───────────────┤\n",
       "│ random_height_1 (<span style=\"color: #0087ff; text-decoration-color: #0087ff\">RandomHeight</span>)  │ (<span style=\"color: #00d7ff; text-decoration-color: #00d7ff\">None</span>, <span style=\"color: #00d7ff; text-decoration-color: #00d7ff\">None</span>, <span style=\"color: #00af00; text-decoration-color: #00af00\">28</span>, <span style=\"color: #00af00; text-decoration-color: #00af00\">1</span>)    │             <span style=\"color: #00af00; text-decoration-color: #00af00\">0</span> │\n",
       "├─────────────────────────────────┼────────────────────────┼───────────────┤\n",
       "│ random_width_1 (<span style=\"color: #0087ff; text-decoration-color: #0087ff\">RandomWidth</span>)    │ (<span style=\"color: #00d7ff; text-decoration-color: #00d7ff\">None</span>, <span style=\"color: #00d7ff; text-decoration-color: #00d7ff\">None</span>, <span style=\"color: #00d7ff; text-decoration-color: #00d7ff\">None</span>, <span style=\"color: #00af00; text-decoration-color: #00af00\">1</span>)  │             <span style=\"color: #00af00; text-decoration-color: #00af00\">0</span> │\n",
       "├─────────────────────────────────┼────────────────────────┼───────────────┤\n",
       "│ resizing_1 (<span style=\"color: #0087ff; text-decoration-color: #0087ff\">Resizing</span>)           │ (<span style=\"color: #00d7ff; text-decoration-color: #00d7ff\">None</span>, <span style=\"color: #00af00; text-decoration-color: #00af00\">28</span>, <span style=\"color: #00af00; text-decoration-color: #00af00\">28</span>, <span style=\"color: #00af00; text-decoration-color: #00af00\">1</span>)      │             <span style=\"color: #00af00; text-decoration-color: #00af00\">0</span> │\n",
       "├─────────────────────────────────┼────────────────────────┼───────────────┤\n",
       "│ conv2d (<span style=\"color: #0087ff; text-decoration-color: #0087ff\">Conv2D</span>)                 │ (<span style=\"color: #00d7ff; text-decoration-color: #00d7ff\">None</span>, <span style=\"color: #00af00; text-decoration-color: #00af00\">28</span>, <span style=\"color: #00af00; text-decoration-color: #00af00\">28</span>, <span style=\"color: #00af00; text-decoration-color: #00af00\">32</span>)     │           <span style=\"color: #00af00; text-decoration-color: #00af00\">320</span> │\n",
       "├─────────────────────────────────┼────────────────────────┼───────────────┤\n",
       "│ batch_normalization             │ (<span style=\"color: #00d7ff; text-decoration-color: #00d7ff\">None</span>, <span style=\"color: #00af00; text-decoration-color: #00af00\">28</span>, <span style=\"color: #00af00; text-decoration-color: #00af00\">28</span>, <span style=\"color: #00af00; text-decoration-color: #00af00\">32</span>)     │           <span style=\"color: #00af00; text-decoration-color: #00af00\">128</span> │\n",
       "│ (<span style=\"color: #0087ff; text-decoration-color: #0087ff\">BatchNormalization</span>)            │                        │               │\n",
       "├─────────────────────────────────┼────────────────────────┼───────────────┤\n",
       "│ max_pooling2d (<span style=\"color: #0087ff; text-decoration-color: #0087ff\">MaxPooling2D</span>)    │ (<span style=\"color: #00d7ff; text-decoration-color: #00d7ff\">None</span>, <span style=\"color: #00af00; text-decoration-color: #00af00\">14</span>, <span style=\"color: #00af00; text-decoration-color: #00af00\">14</span>, <span style=\"color: #00af00; text-decoration-color: #00af00\">32</span>)     │             <span style=\"color: #00af00; text-decoration-color: #00af00\">0</span> │\n",
       "├─────────────────────────────────┼────────────────────────┼───────────────┤\n",
       "│ dropout (<span style=\"color: #0087ff; text-decoration-color: #0087ff\">Dropout</span>)               │ (<span style=\"color: #00d7ff; text-decoration-color: #00d7ff\">None</span>, <span style=\"color: #00af00; text-decoration-color: #00af00\">14</span>, <span style=\"color: #00af00; text-decoration-color: #00af00\">14</span>, <span style=\"color: #00af00; text-decoration-color: #00af00\">32</span>)     │             <span style=\"color: #00af00; text-decoration-color: #00af00\">0</span> │\n",
       "├─────────────────────────────────┼────────────────────────┼───────────────┤\n",
       "│ conv2d_1 (<span style=\"color: #0087ff; text-decoration-color: #0087ff\">Conv2D</span>)               │ (<span style=\"color: #00d7ff; text-decoration-color: #00d7ff\">None</span>, <span style=\"color: #00af00; text-decoration-color: #00af00\">14</span>, <span style=\"color: #00af00; text-decoration-color: #00af00\">14</span>, <span style=\"color: #00af00; text-decoration-color: #00af00\">64</span>)     │        <span style=\"color: #00af00; text-decoration-color: #00af00\">18,496</span> │\n",
       "├─────────────────────────────────┼────────────────────────┼───────────────┤\n",
       "│ batch_normalization_1           │ (<span style=\"color: #00d7ff; text-decoration-color: #00d7ff\">None</span>, <span style=\"color: #00af00; text-decoration-color: #00af00\">14</span>, <span style=\"color: #00af00; text-decoration-color: #00af00\">14</span>, <span style=\"color: #00af00; text-decoration-color: #00af00\">64</span>)     │           <span style=\"color: #00af00; text-decoration-color: #00af00\">256</span> │\n",
       "│ (<span style=\"color: #0087ff; text-decoration-color: #0087ff\">BatchNormalization</span>)            │                        │               │\n",
       "├─────────────────────────────────┼────────────────────────┼───────────────┤\n",
       "│ max_pooling2d_1 (<span style=\"color: #0087ff; text-decoration-color: #0087ff\">MaxPooling2D</span>)  │ (<span style=\"color: #00d7ff; text-decoration-color: #00d7ff\">None</span>, <span style=\"color: #00af00; text-decoration-color: #00af00\">7</span>, <span style=\"color: #00af00; text-decoration-color: #00af00\">7</span>, <span style=\"color: #00af00; text-decoration-color: #00af00\">64</span>)       │             <span style=\"color: #00af00; text-decoration-color: #00af00\">0</span> │\n",
       "├─────────────────────────────────┼────────────────────────┼───────────────┤\n",
       "│ dropout_1 (<span style=\"color: #0087ff; text-decoration-color: #0087ff\">Dropout</span>)             │ (<span style=\"color: #00d7ff; text-decoration-color: #00d7ff\">None</span>, <span style=\"color: #00af00; text-decoration-color: #00af00\">7</span>, <span style=\"color: #00af00; text-decoration-color: #00af00\">7</span>, <span style=\"color: #00af00; text-decoration-color: #00af00\">64</span>)       │             <span style=\"color: #00af00; text-decoration-color: #00af00\">0</span> │\n",
       "├─────────────────────────────────┼────────────────────────┼───────────────┤\n",
       "│ conv2d_2 (<span style=\"color: #0087ff; text-decoration-color: #0087ff\">Conv2D</span>)               │ (<span style=\"color: #00d7ff; text-decoration-color: #00d7ff\">None</span>, <span style=\"color: #00af00; text-decoration-color: #00af00\">7</span>, <span style=\"color: #00af00; text-decoration-color: #00af00\">7</span>, <span style=\"color: #00af00; text-decoration-color: #00af00\">128</span>)      │        <span style=\"color: #00af00; text-decoration-color: #00af00\">73,856</span> │\n",
       "├─────────────────────────────────┼────────────────────────┼───────────────┤\n",
       "│ batch_normalization_2           │ (<span style=\"color: #00d7ff; text-decoration-color: #00d7ff\">None</span>, <span style=\"color: #00af00; text-decoration-color: #00af00\">7</span>, <span style=\"color: #00af00; text-decoration-color: #00af00\">7</span>, <span style=\"color: #00af00; text-decoration-color: #00af00\">128</span>)      │           <span style=\"color: #00af00; text-decoration-color: #00af00\">512</span> │\n",
       "│ (<span style=\"color: #0087ff; text-decoration-color: #0087ff\">BatchNormalization</span>)            │                        │               │\n",
       "├─────────────────────────────────┼────────────────────────┼───────────────┤\n",
       "│ global_average_pooling2d        │ (<span style=\"color: #00d7ff; text-decoration-color: #00d7ff\">None</span>, <span style=\"color: #00af00; text-decoration-color: #00af00\">128</span>)            │             <span style=\"color: #00af00; text-decoration-color: #00af00\">0</span> │\n",
       "│ (<span style=\"color: #0087ff; text-decoration-color: #0087ff\">GlobalAveragePooling2D</span>)        │                        │               │\n",
       "├─────────────────────────────────┼────────────────────────┼───────────────┤\n",
       "│ flatten (<span style=\"color: #0087ff; text-decoration-color: #0087ff\">Flatten</span>)               │ (<span style=\"color: #00d7ff; text-decoration-color: #00d7ff\">None</span>, <span style=\"color: #00af00; text-decoration-color: #00af00\">128</span>)            │             <span style=\"color: #00af00; text-decoration-color: #00af00\">0</span> │\n",
       "├─────────────────────────────────┼────────────────────────┼───────────────┤\n",
       "│ dense (<span style=\"color: #0087ff; text-decoration-color: #0087ff\">Dense</span>)                   │ (<span style=\"color: #00d7ff; text-decoration-color: #00d7ff\">None</span>, <span style=\"color: #00af00; text-decoration-color: #00af00\">128</span>)            │        <span style=\"color: #00af00; text-decoration-color: #00af00\">16,512</span> │\n",
       "├─────────────────────────────────┼────────────────────────┼───────────────┤\n",
       "│ dropout_2 (<span style=\"color: #0087ff; text-decoration-color: #0087ff\">Dropout</span>)             │ (<span style=\"color: #00d7ff; text-decoration-color: #00d7ff\">None</span>, <span style=\"color: #00af00; text-decoration-color: #00af00\">128</span>)            │             <span style=\"color: #00af00; text-decoration-color: #00af00\">0</span> │\n",
       "├─────────────────────────────────┼────────────────────────┼───────────────┤\n",
       "│ dense_1 (<span style=\"color: #0087ff; text-decoration-color: #0087ff\">Dense</span>)                 │ (<span style=\"color: #00d7ff; text-decoration-color: #00d7ff\">None</span>, <span style=\"color: #00af00; text-decoration-color: #00af00\">10</span>)             │         <span style=\"color: #00af00; text-decoration-color: #00af00\">1,290</span> │\n",
       "└─────────────────────────────────┴────────────────────────┴───────────────┘\n",
       "</pre>\n"
      ],
      "text/plain": [
       "┏━━━━━━━━━━━━━━━━━━━━━━━━━━━━━━━━━┳━━━━━━━━━━━━━━━━━━━━━━━━┳━━━━━━━━━━━━━━━┓\n",
       "┃\u001b[1m \u001b[0m\u001b[1mLayer (type)                   \u001b[0m\u001b[1m \u001b[0m┃\u001b[1m \u001b[0m\u001b[1mOutput Shape          \u001b[0m\u001b[1m \u001b[0m┃\u001b[1m \u001b[0m\u001b[1m      Param #\u001b[0m\u001b[1m \u001b[0m┃\n",
       "┡━━━━━━━━━━━━━━━━━━━━━━━━━━━━━━━━━╇━━━━━━━━━━━━━━━━━━━━━━━━╇━━━━━━━━━━━━━━━┩\n",
       "│ random_rotation_1               │ (\u001b[38;5;45mNone\u001b[0m, \u001b[38;5;34m28\u001b[0m, \u001b[38;5;34m28\u001b[0m, \u001b[38;5;34m1\u001b[0m)      │             \u001b[38;5;34m0\u001b[0m │\n",
       "│ (\u001b[38;5;33mRandomRotation\u001b[0m)                │                        │               │\n",
       "├─────────────────────────────────┼────────────────────────┼───────────────┤\n",
       "│ random_zoom_1 (\u001b[38;5;33mRandomZoom\u001b[0m)      │ (\u001b[38;5;45mNone\u001b[0m, \u001b[38;5;34m28\u001b[0m, \u001b[38;5;34m28\u001b[0m, \u001b[38;5;34m1\u001b[0m)      │             \u001b[38;5;34m0\u001b[0m │\n",
       "├─────────────────────────────────┼────────────────────────┼───────────────┤\n",
       "│ random_height_1 (\u001b[38;5;33mRandomHeight\u001b[0m)  │ (\u001b[38;5;45mNone\u001b[0m, \u001b[38;5;45mNone\u001b[0m, \u001b[38;5;34m28\u001b[0m, \u001b[38;5;34m1\u001b[0m)    │             \u001b[38;5;34m0\u001b[0m │\n",
       "├─────────────────────────────────┼────────────────────────┼───────────────┤\n",
       "│ random_width_1 (\u001b[38;5;33mRandomWidth\u001b[0m)    │ (\u001b[38;5;45mNone\u001b[0m, \u001b[38;5;45mNone\u001b[0m, \u001b[38;5;45mNone\u001b[0m, \u001b[38;5;34m1\u001b[0m)  │             \u001b[38;5;34m0\u001b[0m │\n",
       "├─────────────────────────────────┼────────────────────────┼───────────────┤\n",
       "│ resizing_1 (\u001b[38;5;33mResizing\u001b[0m)           │ (\u001b[38;5;45mNone\u001b[0m, \u001b[38;5;34m28\u001b[0m, \u001b[38;5;34m28\u001b[0m, \u001b[38;5;34m1\u001b[0m)      │             \u001b[38;5;34m0\u001b[0m │\n",
       "├─────────────────────────────────┼────────────────────────┼───────────────┤\n",
       "│ conv2d (\u001b[38;5;33mConv2D\u001b[0m)                 │ (\u001b[38;5;45mNone\u001b[0m, \u001b[38;5;34m28\u001b[0m, \u001b[38;5;34m28\u001b[0m, \u001b[38;5;34m32\u001b[0m)     │           \u001b[38;5;34m320\u001b[0m │\n",
       "├─────────────────────────────────┼────────────────────────┼───────────────┤\n",
       "│ batch_normalization             │ (\u001b[38;5;45mNone\u001b[0m, \u001b[38;5;34m28\u001b[0m, \u001b[38;5;34m28\u001b[0m, \u001b[38;5;34m32\u001b[0m)     │           \u001b[38;5;34m128\u001b[0m │\n",
       "│ (\u001b[38;5;33mBatchNormalization\u001b[0m)            │                        │               │\n",
       "├─────────────────────────────────┼────────────────────────┼───────────────┤\n",
       "│ max_pooling2d (\u001b[38;5;33mMaxPooling2D\u001b[0m)    │ (\u001b[38;5;45mNone\u001b[0m, \u001b[38;5;34m14\u001b[0m, \u001b[38;5;34m14\u001b[0m, \u001b[38;5;34m32\u001b[0m)     │             \u001b[38;5;34m0\u001b[0m │\n",
       "├─────────────────────────────────┼────────────────────────┼───────────────┤\n",
       "│ dropout (\u001b[38;5;33mDropout\u001b[0m)               │ (\u001b[38;5;45mNone\u001b[0m, \u001b[38;5;34m14\u001b[0m, \u001b[38;5;34m14\u001b[0m, \u001b[38;5;34m32\u001b[0m)     │             \u001b[38;5;34m0\u001b[0m │\n",
       "├─────────────────────────────────┼────────────────────────┼───────────────┤\n",
       "│ conv2d_1 (\u001b[38;5;33mConv2D\u001b[0m)               │ (\u001b[38;5;45mNone\u001b[0m, \u001b[38;5;34m14\u001b[0m, \u001b[38;5;34m14\u001b[0m, \u001b[38;5;34m64\u001b[0m)     │        \u001b[38;5;34m18,496\u001b[0m │\n",
       "├─────────────────────────────────┼────────────────────────┼───────────────┤\n",
       "│ batch_normalization_1           │ (\u001b[38;5;45mNone\u001b[0m, \u001b[38;5;34m14\u001b[0m, \u001b[38;5;34m14\u001b[0m, \u001b[38;5;34m64\u001b[0m)     │           \u001b[38;5;34m256\u001b[0m │\n",
       "│ (\u001b[38;5;33mBatchNormalization\u001b[0m)            │                        │               │\n",
       "├─────────────────────────────────┼────────────────────────┼───────────────┤\n",
       "│ max_pooling2d_1 (\u001b[38;5;33mMaxPooling2D\u001b[0m)  │ (\u001b[38;5;45mNone\u001b[0m, \u001b[38;5;34m7\u001b[0m, \u001b[38;5;34m7\u001b[0m, \u001b[38;5;34m64\u001b[0m)       │             \u001b[38;5;34m0\u001b[0m │\n",
       "├─────────────────────────────────┼────────────────────────┼───────────────┤\n",
       "│ dropout_1 (\u001b[38;5;33mDropout\u001b[0m)             │ (\u001b[38;5;45mNone\u001b[0m, \u001b[38;5;34m7\u001b[0m, \u001b[38;5;34m7\u001b[0m, \u001b[38;5;34m64\u001b[0m)       │             \u001b[38;5;34m0\u001b[0m │\n",
       "├─────────────────────────────────┼────────────────────────┼───────────────┤\n",
       "│ conv2d_2 (\u001b[38;5;33mConv2D\u001b[0m)               │ (\u001b[38;5;45mNone\u001b[0m, \u001b[38;5;34m7\u001b[0m, \u001b[38;5;34m7\u001b[0m, \u001b[38;5;34m128\u001b[0m)      │        \u001b[38;5;34m73,856\u001b[0m │\n",
       "├─────────────────────────────────┼────────────────────────┼───────────────┤\n",
       "│ batch_normalization_2           │ (\u001b[38;5;45mNone\u001b[0m, \u001b[38;5;34m7\u001b[0m, \u001b[38;5;34m7\u001b[0m, \u001b[38;5;34m128\u001b[0m)      │           \u001b[38;5;34m512\u001b[0m │\n",
       "│ (\u001b[38;5;33mBatchNormalization\u001b[0m)            │                        │               │\n",
       "├─────────────────────────────────┼────────────────────────┼───────────────┤\n",
       "│ global_average_pooling2d        │ (\u001b[38;5;45mNone\u001b[0m, \u001b[38;5;34m128\u001b[0m)            │             \u001b[38;5;34m0\u001b[0m │\n",
       "│ (\u001b[38;5;33mGlobalAveragePooling2D\u001b[0m)        │                        │               │\n",
       "├─────────────────────────────────┼────────────────────────┼───────────────┤\n",
       "│ flatten (\u001b[38;5;33mFlatten\u001b[0m)               │ (\u001b[38;5;45mNone\u001b[0m, \u001b[38;5;34m128\u001b[0m)            │             \u001b[38;5;34m0\u001b[0m │\n",
       "├─────────────────────────────────┼────────────────────────┼───────────────┤\n",
       "│ dense (\u001b[38;5;33mDense\u001b[0m)                   │ (\u001b[38;5;45mNone\u001b[0m, \u001b[38;5;34m128\u001b[0m)            │        \u001b[38;5;34m16,512\u001b[0m │\n",
       "├─────────────────────────────────┼────────────────────────┼───────────────┤\n",
       "│ dropout_2 (\u001b[38;5;33mDropout\u001b[0m)             │ (\u001b[38;5;45mNone\u001b[0m, \u001b[38;5;34m128\u001b[0m)            │             \u001b[38;5;34m0\u001b[0m │\n",
       "├─────────────────────────────────┼────────────────────────┼───────────────┤\n",
       "│ dense_1 (\u001b[38;5;33mDense\u001b[0m)                 │ (\u001b[38;5;45mNone\u001b[0m, \u001b[38;5;34m10\u001b[0m)             │         \u001b[38;5;34m1,290\u001b[0m │\n",
       "└─────────────────────────────────┴────────────────────────┴───────────────┘\n"
      ]
     },
     "metadata": {},
     "output_type": "display_data"
    },
    {
     "data": {
      "text/html": [
       "<pre style=\"white-space:pre;overflow-x:auto;line-height:normal;font-family:Menlo,'DejaVu Sans Mono',consolas,'Courier New',monospace\"><span style=\"font-weight: bold\"> Total params: </span><span style=\"color: #00af00; text-decoration-color: #00af00\">111,370</span> (435.04 KB)\n",
       "</pre>\n"
      ],
      "text/plain": [
       "\u001b[1m Total params: \u001b[0m\u001b[38;5;34m111,370\u001b[0m (435.04 KB)\n"
      ]
     },
     "metadata": {},
     "output_type": "display_data"
    },
    {
     "data": {
      "text/html": [
       "<pre style=\"white-space:pre;overflow-x:auto;line-height:normal;font-family:Menlo,'DejaVu Sans Mono',consolas,'Courier New',monospace\"><span style=\"font-weight: bold\"> Trainable params: </span><span style=\"color: #00af00; text-decoration-color: #00af00\">110,922</span> (433.29 KB)\n",
       "</pre>\n"
      ],
      "text/plain": [
       "\u001b[1m Trainable params: \u001b[0m\u001b[38;5;34m110,922\u001b[0m (433.29 KB)\n"
      ]
     },
     "metadata": {},
     "output_type": "display_data"
    },
    {
     "data": {
      "text/html": [
       "<pre style=\"white-space:pre;overflow-x:auto;line-height:normal;font-family:Menlo,'DejaVu Sans Mono',consolas,'Courier New',monospace\"><span style=\"font-weight: bold\"> Non-trainable params: </span><span style=\"color: #00af00; text-decoration-color: #00af00\">448</span> (1.75 KB)\n",
       "</pre>\n"
      ],
      "text/plain": [
       "\u001b[1m Non-trainable params: \u001b[0m\u001b[38;5;34m448\u001b[0m (1.75 KB)\n"
      ]
     },
     "metadata": {},
     "output_type": "display_data"
    }
   ],
   "source": [
    "model = keras.Sequential([\n",
    "    layers.InputLayer(shape=(28, 28, 1)),\n",
    "    \n",
    "    #Image augmentation\n",
    "    layers.RandomRotation(0.05),\n",
    "    layers.RandomZoom(0.15),\n",
    "    layers.RandomHeight(0.1),\n",
    "    layers.RandomWidth(0.1),\n",
    "    layers.Resizing(28, 28),\n",
    "    \n",
    "    #Block 1\n",
    "    layers.Conv2D(filters=32, kernel_size=3, activation=\"relu\", padding=\"same\"),\n",
    "    layers.BatchNormalization(),\n",
    "    layers.MaxPool2D(),\n",
    "    layers.Dropout(0.2),\n",
    "    \n",
    "    #Block 2\n",
    "    layers.Conv2D(filters=64, kernel_size=3, activation=\"relu\", padding=\"same\"),\n",
    "    layers.BatchNormalization(),\n",
    "    layers.MaxPool2D(),\n",
    "    layers.Dropout(0.2),\n",
    "    \n",
    "    #Block 3\n",
    "    layers.Conv2D(filters=128, kernel_size=3, activation=\"relu\", padding=\"same\"),\n",
    "    layers.BatchNormalization(),\n",
    "    \n",
    "    layers.GlobalAveragePooling2D(),\n",
    "    \n",
    "    #Dense Head\n",
    "    layers.Flatten(),\n",
    "    layers.Dense(128, activation=\"relu\"),\n",
    "    layers.Dropout(0.2),\n",
    "    layers.Dense(10, activation=\"softmax\")\n",
    "])\n",
    "\n",
    "model.summary()"
   ]
  },
  {
   "cell_type": "markdown",
   "id": "59b50b1a",
   "metadata": {
    "papermill": {
     "duration": 0.011915,
     "end_time": "2024-09-01T08:54:27.659643",
     "exception": false,
     "start_time": "2024-09-01T08:54:27.647728",
     "status": "completed"
    },
    "tags": []
   },
   "source": [
    "Compile the model using Adam optimization"
   ]
  },
  {
   "cell_type": "code",
   "execution_count": 12,
   "id": "c5225f19",
   "metadata": {
    "execution": {
     "iopub.execute_input": "2024-09-01T08:54:27.684281Z",
     "iopub.status.busy": "2024-09-01T08:54:27.683936Z",
     "iopub.status.idle": "2024-09-01T08:54:27.696600Z",
     "shell.execute_reply": "2024-09-01T08:54:27.695879Z"
    },
    "papermill": {
     "duration": 0.027063,
     "end_time": "2024-09-01T08:54:27.698384",
     "exception": false,
     "start_time": "2024-09-01T08:54:27.671321",
     "status": "completed"
    },
    "tags": []
   },
   "outputs": [],
   "source": [
    "model.compile(optimizer=\"adam\", \n",
    "              loss=\"categorical_crossentropy\", \n",
    "              metrics=[\"accuracy\"])"
   ]
  },
  {
   "cell_type": "markdown",
   "id": "06b8d590",
   "metadata": {
    "papermill": {
     "duration": 0.011598,
     "end_time": "2024-09-01T08:54:27.721529",
     "exception": false,
     "start_time": "2024-09-01T08:54:27.709931",
     "status": "completed"
    },
    "tags": []
   },
   "source": [
    "Define a ReduceLR and EarlyStopping callback to help model performance and stop training if no progress."
   ]
  },
  {
   "cell_type": "code",
   "execution_count": 13,
   "id": "9744c806",
   "metadata": {
    "execution": {
     "iopub.execute_input": "2024-09-01T08:54:27.746261Z",
     "iopub.status.busy": "2024-09-01T08:54:27.745975Z",
     "iopub.status.idle": "2024-09-01T08:56:32.302411Z",
     "shell.execute_reply": "2024-09-01T08:56:32.301429Z"
    },
    "papermill": {
     "duration": 124.57165,
     "end_time": "2024-09-01T08:56:32.304832",
     "exception": false,
     "start_time": "2024-09-01T08:54:27.733182",
     "status": "completed"
    },
    "tags": []
   },
   "outputs": [
    {
     "name": "stdout",
     "output_type": "stream",
     "text": [
      "Epoch 1/50\n"
     ]
    },
    {
     "name": "stderr",
     "output_type": "stream",
     "text": [
      "2024-09-01 08:54:30.859099: E tensorflow/core/grappler/optimizers/meta_optimizer.cc:961] layout failed: INVALID_ARGUMENT: Size of values 0 does not match size of permutation 4 @ fanin shape inStatefulPartitionedCall/sequential_1_1/dropout_1/stateless_dropout/SelectV2-2-TransposeNHWCToNCHW-LayoutOptimizer\n"
     ]
    },
    {
     "name": "stdout",
     "output_type": "stream",
     "text": [
      "\u001b[1m591/591\u001b[0m \u001b[32m━━━━━━━━━━━━━━━━━━━━\u001b[0m\u001b[37m\u001b[0m \u001b[1m12s\u001b[0m 10ms/step - accuracy: 0.7532 - loss: 0.7857 - val_accuracy: 0.6481 - val_loss: 1.6905 - learning_rate: 0.0010\n",
      "Epoch 2/50\n",
      "\u001b[1m591/591\u001b[0m \u001b[32m━━━━━━━━━━━━━━━━━━━━\u001b[0m\u001b[37m\u001b[0m \u001b[1m5s\u001b[0m 9ms/step - accuracy: 0.9634 - loss: 0.1208 - val_accuracy: 0.9745 - val_loss: 0.0824 - learning_rate: 0.0010\n",
      "Epoch 3/50\n",
      "\u001b[1m591/591\u001b[0m \u001b[32m━━━━━━━━━━━━━━━━━━━━\u001b[0m\u001b[37m\u001b[0m \u001b[1m5s\u001b[0m 9ms/step - accuracy: 0.9729 - loss: 0.0879 - val_accuracy: 0.9721 - val_loss: 0.0967 - learning_rate: 0.0010\n",
      "Epoch 4/50\n",
      "\u001b[1m591/591\u001b[0m \u001b[32m━━━━━━━━━━━━━━━━━━━━\u001b[0m\u001b[37m\u001b[0m \u001b[1m5s\u001b[0m 9ms/step - accuracy: 0.9781 - loss: 0.0733 - val_accuracy: 0.9798 - val_loss: 0.0632 - learning_rate: 0.0010\n",
      "Epoch 5/50\n",
      "\u001b[1m591/591\u001b[0m \u001b[32m━━━━━━━━━━━━━━━━━━━━\u001b[0m\u001b[37m\u001b[0m \u001b[1m5s\u001b[0m 9ms/step - accuracy: 0.9793 - loss: 0.0612 - val_accuracy: 0.9793 - val_loss: 0.0642 - learning_rate: 0.0010\n",
      "Epoch 6/50\n",
      "\u001b[1m591/591\u001b[0m \u001b[32m━━━━━━━━━━━━━━━━━━━━\u001b[0m\u001b[37m\u001b[0m \u001b[1m5s\u001b[0m 9ms/step - accuracy: 0.9816 - loss: 0.0587 - val_accuracy: 0.9752 - val_loss: 0.0854 - learning_rate: 0.0010\n",
      "Epoch 7/50\n",
      "\u001b[1m591/591\u001b[0m \u001b[32m━━━━━━━━━━━━━━━━━━━━\u001b[0m\u001b[37m\u001b[0m \u001b[1m6s\u001b[0m 9ms/step - accuracy: 0.9829 - loss: 0.0540 - val_accuracy: 0.9852 - val_loss: 0.0488 - learning_rate: 0.0010\n",
      "Epoch 8/50\n",
      "\u001b[1m591/591\u001b[0m \u001b[32m━━━━━━━━━━━━━━━━━━━━\u001b[0m\u001b[37m\u001b[0m \u001b[1m5s\u001b[0m 9ms/step - accuracy: 0.9848 - loss: 0.0499 - val_accuracy: 0.9867 - val_loss: 0.0426 - learning_rate: 0.0010\n",
      "Epoch 9/50\n",
      "\u001b[1m591/591\u001b[0m \u001b[32m━━━━━━━━━━━━━━━━━━━━\u001b[0m\u001b[37m\u001b[0m \u001b[1m5s\u001b[0m 9ms/step - accuracy: 0.9858 - loss: 0.0455 - val_accuracy: 0.9855 - val_loss: 0.0487 - learning_rate: 0.0010\n",
      "Epoch 10/50\n",
      "\u001b[1m591/591\u001b[0m \u001b[32m━━━━━━━━━━━━━━━━━━━━\u001b[0m\u001b[37m\u001b[0m \u001b[1m5s\u001b[0m 9ms/step - accuracy: 0.9863 - loss: 0.0440 - val_accuracy: 0.9893 - val_loss: 0.0393 - learning_rate: 0.0010\n",
      "Epoch 11/50\n",
      "\u001b[1m591/591\u001b[0m \u001b[32m━━━━━━━━━━━━━━━━━━━━\u001b[0m\u001b[37m\u001b[0m \u001b[1m5s\u001b[0m 9ms/step - accuracy: 0.9847 - loss: 0.0452 - val_accuracy: 0.9869 - val_loss: 0.0389 - learning_rate: 0.0010\n",
      "Epoch 12/50\n",
      "\u001b[1m591/591\u001b[0m \u001b[32m━━━━━━━━━━━━━━━━━━━━\u001b[0m\u001b[37m\u001b[0m \u001b[1m5s\u001b[0m 9ms/step - accuracy: 0.9861 - loss: 0.0421 - val_accuracy: 0.9905 - val_loss: 0.0306 - learning_rate: 0.0010\n",
      "Epoch 13/50\n",
      "\u001b[1m591/591\u001b[0m \u001b[32m━━━━━━━━━━━━━━━━━━━━\u001b[0m\u001b[37m\u001b[0m \u001b[1m5s\u001b[0m 9ms/step - accuracy: 0.9878 - loss: 0.0389 - val_accuracy: 0.9912 - val_loss: 0.0272 - learning_rate: 0.0010\n",
      "Epoch 14/50\n",
      "\u001b[1m591/591\u001b[0m \u001b[32m━━━━━━━━━━━━━━━━━━━━\u001b[0m\u001b[37m\u001b[0m \u001b[1m5s\u001b[0m 9ms/step - accuracy: 0.9877 - loss: 0.0382 - val_accuracy: 0.9893 - val_loss: 0.0360 - learning_rate: 0.0010\n",
      "Epoch 15/50\n",
      "\u001b[1m591/591\u001b[0m \u001b[32m━━━━━━━━━━━━━━━━━━━━\u001b[0m\u001b[37m\u001b[0m \u001b[1m5s\u001b[0m 9ms/step - accuracy: 0.9879 - loss: 0.0360 - val_accuracy: 0.9931 - val_loss: 0.0207 - learning_rate: 0.0010\n",
      "Epoch 16/50\n",
      "\u001b[1m591/591\u001b[0m \u001b[32m━━━━━━━━━━━━━━━━━━━━\u001b[0m\u001b[37m\u001b[0m \u001b[1m5s\u001b[0m 9ms/step - accuracy: 0.9891 - loss: 0.0339 - val_accuracy: 0.9900 - val_loss: 0.0317 - learning_rate: 0.0010\n",
      "Epoch 17/50\n",
      "\u001b[1m591/591\u001b[0m \u001b[32m━━━━━━━━━━━━━━━━━━━━\u001b[0m\u001b[37m\u001b[0m \u001b[1m5s\u001b[0m 9ms/step - accuracy: 0.9889 - loss: 0.0354 - val_accuracy: 0.9919 - val_loss: 0.0314 - learning_rate: 0.0010\n",
      "Epoch 18/50\n",
      "\u001b[1m591/591\u001b[0m \u001b[32m━━━━━━━━━━━━━━━━━━━━\u001b[0m\u001b[37m\u001b[0m \u001b[1m5s\u001b[0m 9ms/step - accuracy: 0.9897 - loss: 0.0318 - val_accuracy: 0.9924 - val_loss: 0.0313 - learning_rate: 0.0010\n",
      "Epoch 19/50\n",
      "\u001b[1m591/591\u001b[0m \u001b[32m━━━━━━━━━━━━━━━━━━━━\u001b[0m\u001b[37m\u001b[0m \u001b[1m5s\u001b[0m 9ms/step - accuracy: 0.9903 - loss: 0.0293 - val_accuracy: 0.9938 - val_loss: 0.0233 - learning_rate: 5.0000e-04\n",
      "Epoch 20/50\n",
      "\u001b[1m591/591\u001b[0m \u001b[32m━━━━━━━━━━━━━━━━━━━━\u001b[0m\u001b[37m\u001b[0m \u001b[1m5s\u001b[0m 9ms/step - accuracy: 0.9920 - loss: 0.0254 - val_accuracy: 0.9912 - val_loss: 0.0268 - learning_rate: 5.0000e-04\n",
      "Epoch 21/50\n",
      "\u001b[1m591/591\u001b[0m \u001b[32m━━━━━━━━━━━━━━━━━━━━\u001b[0m\u001b[37m\u001b[0m \u001b[1m5s\u001b[0m 9ms/step - accuracy: 0.9923 - loss: 0.0237 - val_accuracy: 0.9929 - val_loss: 0.0256 - learning_rate: 5.0000e-04\n",
      "Epoch 22/50\n",
      "\u001b[1m591/591\u001b[0m \u001b[32m━━━━━━━━━━━━━━━━━━━━\u001b[0m\u001b[37m\u001b[0m \u001b[1m5s\u001b[0m 9ms/step - accuracy: 0.9927 - loss: 0.0232 - val_accuracy: 0.9919 - val_loss: 0.0295 - learning_rate: 5.0000e-04\n"
     ]
    }
   ],
   "source": [
    "epochs = 50\n",
    "batch_size = 64 \n",
    "\n",
    "#Reduce lr when no improvement\n",
    "reduce_lr = ReduceLROnPlateau(\n",
    "    monitor='val_accuracy',  \n",
    "    factor=0.5,  \n",
    "    patience=3,  \n",
    "    min_lr=1e-6  \n",
    ")\n",
    "\n",
    "#Early stopping\n",
    "early_stopping = EarlyStopping(\n",
    "    monitor='val_loss',  \n",
    "    patience=7, \n",
    "    restore_best_weights=True \n",
    ")\n",
    "\n",
    "history = model.fit(X_train, y_train,\n",
    "                    validation_data=(X_val, y_val),\n",
    "                    epochs=epochs,\n",
    "                    batch_size=batch_size,\n",
    "                    callbacks=[reduce_lr, early_stopping],\n",
    "                    verbose=1 )"
   ]
  },
  {
   "cell_type": "code",
   "execution_count": 14,
   "id": "5bb39f96",
   "metadata": {
    "execution": {
     "iopub.execute_input": "2024-09-01T08:56:32.719532Z",
     "iopub.status.busy": "2024-09-01T08:56:32.718855Z",
     "iopub.status.idle": "2024-09-01T08:56:33.271450Z",
     "shell.execute_reply": "2024-09-01T08:56:33.270521Z"
    },
    "papermill": {
     "duration": 0.740446,
     "end_time": "2024-09-01T08:56:33.273352",
     "exception": false,
     "start_time": "2024-09-01T08:56:32.532906",
     "status": "completed"
    },
    "tags": []
   },
   "outputs": [
    {
     "name": "stdout",
     "output_type": "stream",
     "text": [
      "Best validation loss: 0.020739249885082245\n",
      "Best validation accuracy: 0.9938095211982727\n"
     ]
    },
    {
     "data": {
      "image/png": "[encoded data removed]",
      "text/plain": [
       "<Figure size 640x480 with 1 Axes>"
      ]
     },
     "metadata": {},
     "output_type": "display_data"
    },
    {
     "data": {
      "image/png": "[encoded data removed]",
      "text/plain": [
       "<Figure size 640x480 with 1 Axes>"
      ]
     },
     "metadata": {},
     "output_type": "display_data"
    }
   ],
   "source": [
    "df_history = pd.DataFrame(history.history)\n",
    "print(f\"Best validation loss: {df_history['val_loss'].min()}\")\n",
    "print(f\"Best validation accuracy: {df_history['val_accuracy'].max()}\")\n",
    "df_history.loc[1:, ['loss', 'val_loss']].plot()\n",
    "df_history.loc[1:, ['accuracy', 'val_accuracy']].plot();"
   ]
  },
  {
   "cell_type": "markdown",
   "id": "11fa70e0",
   "metadata": {
    "papermill": {
     "duration": 0.186294,
     "end_time": "2024-09-01T08:56:33.648039",
     "exception": false,
     "start_time": "2024-09-01T08:56:33.461745",
     "status": "completed"
    },
    "tags": []
   },
   "source": [
    "Here are some logs of model iterations:\n",
    "    layers.Conv2D(filters=32, kernel_size=3, activation=\"relu\", padding=\"same\"),\n",
    "    layers.BatchNormalization(),\n",
    "    layers.MaxPool2D(),\n",
    "\n",
    "    layers.Conv2D(filters=64, kernel_size=3, activation=\"relu\", padding=\"same\"),\n",
    "    layers.BatchNormalization(),\n",
    "    layers.MaxPool2D(),\n",
    "\n",
    "    layers.Conv2D(filters=128, kernel_size=3, activation=\"relu\", padding=\"same\"),\n",
    "    layers.BatchNormalization(),\n",
    "\n",
    "    layers.GlobalAveragePooling2D(),\n",
    "\n",
    "    layers.Flatten(),\n",
    "    layers.Dense(64, activation=\"relu\"),\n",
    "    layers.Dropout(0.2),\n",
    "    layers.Dense(10, activation=\"softmax\")\n",
    "    Best validation loss: 0.042459383606910706\n",
    "    Best validation accuracy: 0.9902380704879761\n",
    "---\n",
    "    Added image augmentation\n",
    "    Best validation loss: 0.02707359939813614\n",
    "    Best validation accuracy: 0.9923809766769409\n",
    "---\n",
    "    Removed Global average pooling\n",
    "    Best validation loss: 0.04386579617857933\n",
    "    Best validation accuracy: 0.9902380704879761\n",
    "---\n",
    "    Reincorporated global average pooling\n",
    "    Added reducelr and earlystopping callbacks\n",
    "    increased number of neurons in dense layer to 128\n",
    "    Best validation loss: 0.029842104762792587\n",
    "    Best validation accuracy: 0.9933333396911621\n",
    "---\n",
    "    Added .2 Dropout after first two Conv2D blocks\n",
    "    50 Epochs\n",
    "    Best validation loss: 0.020908987149596214\n",
    "    Best validation accuracy: 0.9950000047683716"
   ]
  },
  {
   "cell_type": "code",
   "execution_count": 15,
   "id": "c218821e",
   "metadata": {
    "execution": {
     "iopub.execute_input": "2024-09-01T08:56:34.023238Z",
     "iopub.status.busy": "2024-09-01T08:56:34.022752Z",
     "iopub.status.idle": "2024-09-01T08:56:34.095755Z",
     "shell.execute_reply": "2024-09-01T08:56:34.094811Z"
    },
    "papermill": {
     "duration": 0.264205,
     "end_time": "2024-09-01T08:56:34.098111",
     "exception": false,
     "start_time": "2024-09-01T08:56:33.833906",
     "status": "completed"
    },
    "tags": []
   },
   "outputs": [],
   "source": [
    "model.save(\"/kaggle/working/mnist_model.keras\")"
   ]
  },
  {
   "cell_type": "code",
   "execution_count": 16,
   "id": "8ad51e71",
   "metadata": {
    "execution": {
     "iopub.execute_input": "2024-09-01T08:56:34.477940Z",
     "iopub.status.busy": "2024-09-01T08:56:34.477296Z",
     "iopub.status.idle": "2024-09-01T08:56:34.481623Z",
     "shell.execute_reply": "2024-09-01T08:56:34.480704Z"
    },
    "papermill": {
     "duration": 0.197224,
     "end_time": "2024-09-01T08:56:34.483570",
     "exception": false,
     "start_time": "2024-09-01T08:56:34.286346",
     "status": "completed"
    },
    "tags": []
   },
   "outputs": [],
   "source": [
    "# import os\n",
    "\n",
    "# file_path = '/kaggle/working/mnist_model.keras'\n",
    "\n",
    "\n",
    "# if os.path.exists(file_path):\n",
    "#     os.remove(file_path)\n",
    "#     print(f'{file_path} has been removed.')\n",
    "# else:\n",
    "#     print(f'The file {file_path} does not exist.')"
   ]
  },
  {
   "cell_type": "markdown",
   "id": "718ec42c",
   "metadata": {
    "papermill": {
     "duration": 0.188691,
     "end_time": "2024-09-01T08:56:34.861487",
     "exception": false,
     "start_time": "2024-09-01T08:56:34.672796",
     "status": "completed"
    },
    "tags": []
   },
   "source": [
    "# Create Submission #\n",
    "\n",
    "For competition submission"
   ]
  },
  {
   "cell_type": "code",
   "execution_count": 17,
   "id": "bbcf7055",
   "metadata": {
    "execution": {
     "iopub.execute_input": "2024-09-01T08:56:35.243323Z",
     "iopub.status.busy": "2024-09-01T08:56:35.242875Z",
     "iopub.status.idle": "2024-09-01T08:56:37.654485Z",
     "shell.execute_reply": "2024-09-01T08:56:37.653340Z"
    },
    "papermill": {
     "duration": 2.604476,
     "end_time": "2024-09-01T08:56:37.656903",
     "exception": false,
     "start_time": "2024-09-01T08:56:35.052427",
     "status": "completed"
    },
    "tags": []
   },
   "outputs": [
    {
     "name": "stdout",
     "output_type": "stream",
     "text": [
      "\u001b[1m875/875\u001b[0m \u001b[32m━━━━━━━━━━━━━━━━━━━━\u001b[0m\u001b[37m\u001b[0m \u001b[1m2s\u001b[0m 2ms/step\n"
     ]
    }
   ],
   "source": [
    "preds = model.predict(X_test)\n",
    "preds = np.argmax(preds,axis=1) #Get highest probability\n",
    "\n",
    "preds = pd.DataFrame({\n",
    "    'Label': preds\n",
    "}, index=df_test.index)\n",
    "preds.index += 1 #ImageIds should start at 1\n",
    "preds.index.name = 'ImageID'\n",
    "\n",
    "preds.to_csv(\"submission.csv\")"
   ]
  },
  {
   "cell_type": "code",
   "execution_count": 18,
   "id": "d7c41867",
   "metadata": {
    "execution": {
     "iopub.execute_input": "2024-09-01T08:56:38.041168Z",
     "iopub.status.busy": "2024-09-01T08:56:38.040755Z",
     "iopub.status.idle": "2024-09-01T08:56:38.050997Z",
     "shell.execute_reply": "2024-09-01T08:56:38.050096Z"
    },
    "papermill": {
     "duration": 0.205073,
     "end_time": "2024-09-01T08:56:38.053099",
     "exception": false,
     "start_time": "2024-09-01T08:56:37.848026",
     "status": "completed"
    },
    "tags": []
   },
   "outputs": [
    {
     "data": {
      "text/html": [
       "<div>\n",
       "<style scoped>\n",
       "    .dataframe tbody tr th:only-of-type {\n",
       "        vertical-align: middle;\n",
       "    }\n",
       "\n",
       "    .dataframe tbody tr th {\n",
       "        vertical-align: top;\n",
       "    }\n",
       "\n",
       "    .dataframe thead th {\n",
       "        text-align: right;\n",
       "    }\n",
       "</style>\n",
       "<table border=\"1\" class=\"dataframe\">\n",
       "  <thead>\n",
       "    <tr style=\"text-align: right;\">\n",
       "      <th></th>\n",
       "      <th>Label</th>\n",
       "    </tr>\n",
       "    <tr>\n",
       "      <th>ImageID</th>\n",
       "      <th></th>\n",
       "    </tr>\n",
       "  </thead>\n",
       "  <tbody>\n",
       "    <tr>\n",
       "      <th>1</th>\n",
       "      <td>2</td>\n",
       "    </tr>\n",
       "    <tr>\n",
       "      <th>2</th>\n",
       "      <td>0</td>\n",
       "    </tr>\n",
       "    <tr>\n",
       "      <th>3</th>\n",
       "      <td>9</td>\n",
       "    </tr>\n",
       "    <tr>\n",
       "      <th>4</th>\n",
       "      <td>0</td>\n",
       "    </tr>\n",
       "    <tr>\n",
       "      <th>5</th>\n",
       "      <td>3</td>\n",
       "    </tr>\n",
       "    <tr>\n",
       "      <th>...</th>\n",
       "      <td>...</td>\n",
       "    </tr>\n",
       "    <tr>\n",
       "      <th>27996</th>\n",
       "      <td>9</td>\n",
       "    </tr>\n",
       "    <tr>\n",
       "      <th>27997</th>\n",
       "      <td>7</td>\n",
       "    </tr>\n",
       "    <tr>\n",
       "      <th>27998</th>\n",
       "      <td>3</td>\n",
       "    </tr>\n",
       "    <tr>\n",
       "      <th>27999</th>\n",
       "      <td>9</td>\n",
       "    </tr>\n",
       "    <tr>\n",
       "      <th>28000</th>\n",
       "      <td>2</td>\n",
       "    </tr>\n",
       "  </tbody>\n",
       "</table>\n",
       "<p>28000 rows × 1 columns</p>\n",
       "</div>"
      ],
      "text/plain": [
       "         Label\n",
       "ImageID       \n",
       "1            2\n",
       "2            0\n",
       "3            9\n",
       "4            0\n",
       "5            3\n",
       "...        ...\n",
       "27996        9\n",
       "27997        7\n",
       "27998        3\n",
       "27999        9\n",
       "28000        2\n",
       "\n",
       "[28000 rows x 1 columns]"
      ]
     },
     "execution_count": 18,
     "metadata": {},
     "output_type": "execute_result"
    }
   ],
   "source": [
    "preds"
   ]
  },
  {
   "cell_type": "code",
   "execution_count": null,
   "id": "b0218aeb",
   "metadata": {
    "papermill": {
     "duration": 0.229931,
     "end_time": "2024-09-01T08:56:38.478932",
     "exception": false,
     "start_time": "2024-09-01T08:56:38.249001",
     "status": "completed"
    },
    "tags": []
   },
   "outputs": [],
   "source": []
  }
 ],
 "metadata": {
  "kaggle": {
   "accelerator": "gpu",
   "dataSources": [
    {
     "databundleVersionId": 861823,
     "sourceId": 3004,
     "sourceType": "competition"
    }
   ],
   "dockerImageVersionId": 30761,
   "isGpuEnabled": true,
   "isInternetEnabled": true,
   "language": "python",
   "sourceType": "notebook"
  },
  "kernelspec": {
   "display_name": "Python 3",
   "language": "python",
   "name": "python3"
  },
  "language_info": {
   "codemirror_mode": {
    "name": "ipython",
    "version": 3
   },
   "file_extension": ".py",
   "mimetype": "text/x-python",
   "name": "python",
   "nbconvert_exporter": "python",
   "pygments_lexer": "ipython3",
   "version": "3.10.14"
  },
  "papermill": {
   "default_parameters": {},
   "duration": 161.791466,
   "end_time": "2024-09-01T08:56:41.023153",
   "environment_variables": {},
   "exception": null,
   "input_path": "__notebook__.ipynb",
   "output_path": "__notebook__.ipynb",
   "parameters": {},
   "start_time": "2024-09-01T08:53:59.231687",
   "version": "2.6.0"
  }
 },
 "nbformat": 4,
 "nbformat_minor": 5
}
