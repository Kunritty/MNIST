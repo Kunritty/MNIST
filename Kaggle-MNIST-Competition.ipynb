{
 "cells": [
  {
   "cell_type": "markdown",
   "id": "86edf8f6",
   "metadata": {
    "papermill": {
     "duration": 0.008871,
     "end_time": "2024-09-03T06:11:16.896364",
     "exception": false,
     "start_time": "2024-09-03T06:11:16.887493",
     "status": "completed"
    },
    "tags": []
   },
   "source": [
    "This is my first attempt at creating and training my own neural network. I'll be training my model on the MNIST dataset to recognize numbers 0-9. This will be a convolutional neural network built from scratch. The problem is simple enough to not really need a pretrained base model.\n",
    "\n",
    "\n",
    "I may try to expand this project to include a drawing board where users can draw their own numbers and have my model predict them."
   ]
  },
  {
   "cell_type": "markdown",
   "id": "d5d93757",
   "metadata": {
    "papermill": {
     "duration": 0.007953,
     "end_time": "2024-09-03T06:11:16.912882",
     "exception": false,
     "start_time": "2024-09-03T06:11:16.904929",
     "status": "completed"
    },
    "tags": []
   },
   "source": [
    "# Imports #"
   ]
  },
  {
   "cell_type": "code",
   "execution_count": 1,
   "id": "48040e18",
   "metadata": {
    "_cell_guid": "b1076dfc-b9ad-4769-8c92-a6c4dae69d19",
    "_uuid": "8f2839f25d086af736a60e9eeb907d3b93b6e0e5",
    "execution": {
     "iopub.execute_input": "2024-09-03T06:11:16.930945Z",
     "iopub.status.busy": "2024-09-03T06:11:16.930106Z",
     "iopub.status.idle": "2024-09-03T06:11:31.150230Z",
     "shell.execute_reply": "2024-09-03T06:11:31.148946Z"
    },
    "papermill": {
     "duration": 14.231663,
     "end_time": "2024-09-03T06:11:31.152724",
     "exception": false,
     "start_time": "2024-09-03T06:11:16.921061",
     "status": "completed"
    },
    "tags": []
   },
   "outputs": [
    {
     "name": "stdout",
     "output_type": "stream",
     "text": [
      "2.16.1\n",
      "1.26.4\n",
      "2.2.2\n"
     ]
    }
   ],
   "source": [
    "import numpy as np \n",
    "import pandas as pd \n",
    "import tensorflow as tf\n",
    "import matplotlib.pyplot as plt\n",
    "import seaborn as sns\n",
    "\n",
    "from tensorflow import keras\n",
    "from tensorflow.keras import layers\n",
    "from tensorflow.keras.utils import to_categorical\n",
    "from tensorflow.keras.callbacks import ReduceLROnPlateau, EarlyStopping\n",
    "from sklearn.model_selection import train_test_split\n",
    "\n",
    "\n",
    "SEED = 31415\n",
    "\n",
    "np.random.seed(SEED)\n",
    "tf.random.set_seed(SEED)\n",
    "\n",
    "print(tf.__version__)\n",
    "print(np.__version__)\n",
    "print(pd.__version__)"
   ]
  },
  {
   "cell_type": "markdown",
   "id": "17aad54a",
   "metadata": {
    "papermill": {
     "duration": 0.008102,
     "end_time": "2024-09-03T06:11:31.169438",
     "exception": false,
     "start_time": "2024-09-03T06:11:31.161336",
     "status": "completed"
    },
    "tags": []
   },
   "source": [
    "# Loading Data #"
   ]
  },
  {
   "cell_type": "code",
   "execution_count": 2,
   "id": "21e6aed8",
   "metadata": {
    "execution": {
     "iopub.execute_input": "2024-09-03T06:11:31.187733Z",
     "iopub.status.busy": "2024-09-03T06:11:31.186790Z",
     "iopub.status.idle": "2024-09-03T06:11:35.012893Z",
     "shell.execute_reply": "2024-09-03T06:11:35.011946Z"
    },
    "papermill": {
     "duration": 3.83718,
     "end_time": "2024-09-03T06:11:35.014873",
     "exception": false,
     "start_time": "2024-09-03T06:11:31.177693",
     "status": "completed"
    },
    "tags": []
   },
   "outputs": [
    {
     "name": "stdout",
     "output_type": "stream",
     "text": [
      "(42000, 785)\n"
     ]
    },
    {
     "data": {
      "text/html": [
       "<div>\n",
       "<style scoped>\n",
       "    .dataframe tbody tr th:only-of-type {\n",
       "        vertical-align: middle;\n",
       "    }\n",
       "\n",
       "    .dataframe tbody tr th {\n",
       "        vertical-align: top;\n",
       "    }\n",
       "\n",
       "    .dataframe thead th {\n",
       "        text-align: right;\n",
       "    }\n",
       "</style>\n",
       "<table border=\"1\" class=\"dataframe\">\n",
       "  <thead>\n",
       "    <tr style=\"text-align: right;\">\n",
       "      <th></th>\n",
       "      <th>label</th>\n",
       "      <th>pixel0</th>\n",
       "      <th>pixel1</th>\n",
       "      <th>pixel2</th>\n",
       "      <th>pixel3</th>\n",
       "      <th>pixel4</th>\n",
       "      <th>pixel5</th>\n",
       "      <th>pixel6</th>\n",
       "      <th>pixel7</th>\n",
       "      <th>pixel8</th>\n",
       "      <th>...</th>\n",
       "      <th>pixel774</th>\n",
       "      <th>pixel775</th>\n",
       "      <th>pixel776</th>\n",
       "      <th>pixel777</th>\n",
       "      <th>pixel778</th>\n",
       "      <th>pixel779</th>\n",
       "      <th>pixel780</th>\n",
       "      <th>pixel781</th>\n",
       "      <th>pixel782</th>\n",
       "      <th>pixel783</th>\n",
       "    </tr>\n",
       "  </thead>\n",
       "  <tbody>\n",
       "    <tr>\n",
       "      <th>0</th>\n",
       "      <td>1</td>\n",
       "      <td>0</td>\n",
       "      <td>0</td>\n",
       "      <td>0</td>\n",
       "      <td>0</td>\n",
       "      <td>0</td>\n",
       "      <td>0</td>\n",
       "      <td>0</td>\n",
       "      <td>0</td>\n",
       "      <td>0</td>\n",
       "      <td>...</td>\n",
       "      <td>0</td>\n",
       "      <td>0</td>\n",
       "      <td>0</td>\n",
       "      <td>0</td>\n",
       "      <td>0</td>\n",
       "      <td>0</td>\n",
       "      <td>0</td>\n",
       "      <td>0</td>\n",
       "      <td>0</td>\n",
       "      <td>0</td>\n",
       "    </tr>\n",
       "    <tr>\n",
       "      <th>1</th>\n",
       "      <td>0</td>\n",
       "      <td>0</td>\n",
       "      <td>0</td>\n",
       "      <td>0</td>\n",
       "      <td>0</td>\n",
       "      <td>0</td>\n",
       "      <td>0</td>\n",
       "      <td>0</td>\n",
       "      <td>0</td>\n",
       "      <td>0</td>\n",
       "      <td>...</td>\n",
       "      <td>0</td>\n",
       "      <td>0</td>\n",
       "      <td>0</td>\n",
       "      <td>0</td>\n",
       "      <td>0</td>\n",
       "      <td>0</td>\n",
       "      <td>0</td>\n",
       "      <td>0</td>\n",
       "      <td>0</td>\n",
       "      <td>0</td>\n",
       "    </tr>\n",
       "    <tr>\n",
       "      <th>2</th>\n",
       "      <td>1</td>\n",
       "      <td>0</td>\n",
       "      <td>0</td>\n",
       "      <td>0</td>\n",
       "      <td>0</td>\n",
       "      <td>0</td>\n",
       "      <td>0</td>\n",
       "      <td>0</td>\n",
       "      <td>0</td>\n",
       "      <td>0</td>\n",
       "      <td>...</td>\n",
       "      <td>0</td>\n",
       "      <td>0</td>\n",
       "      <td>0</td>\n",
       "      <td>0</td>\n",
       "      <td>0</td>\n",
       "      <td>0</td>\n",
       "      <td>0</td>\n",
       "      <td>0</td>\n",
       "      <td>0</td>\n",
       "      <td>0</td>\n",
       "    </tr>\n",
       "    <tr>\n",
       "      <th>3</th>\n",
       "      <td>4</td>\n",
       "      <td>0</td>\n",
       "      <td>0</td>\n",
       "      <td>0</td>\n",
       "      <td>0</td>\n",
       "      <td>0</td>\n",
       "      <td>0</td>\n",
       "      <td>0</td>\n",
       "      <td>0</td>\n",
       "      <td>0</td>\n",
       "      <td>...</td>\n",
       "      <td>0</td>\n",
       "      <td>0</td>\n",
       "      <td>0</td>\n",
       "      <td>0</td>\n",
       "      <td>0</td>\n",
       "      <td>0</td>\n",
       "      <td>0</td>\n",
       "      <td>0</td>\n",
       "      <td>0</td>\n",
       "      <td>0</td>\n",
       "    </tr>\n",
       "    <tr>\n",
       "      <th>4</th>\n",
       "      <td>0</td>\n",
       "      <td>0</td>\n",
       "      <td>0</td>\n",
       "      <td>0</td>\n",
       "      <td>0</td>\n",
       "      <td>0</td>\n",
       "      <td>0</td>\n",
       "      <td>0</td>\n",
       "      <td>0</td>\n",
       "      <td>0</td>\n",
       "      <td>...</td>\n",
       "      <td>0</td>\n",
       "      <td>0</td>\n",
       "      <td>0</td>\n",
       "      <td>0</td>\n",
       "      <td>0</td>\n",
       "      <td>0</td>\n",
       "      <td>0</td>\n",
       "      <td>0</td>\n",
       "      <td>0</td>\n",
       "      <td>0</td>\n",
       "    </tr>\n",
       "  </tbody>\n",
       "</table>\n",
       "<p>5 rows × 785 columns</p>\n",
       "</div>"
      ],
      "text/plain": [
       "   label  pixel0  pixel1  pixel2  pixel3  pixel4  pixel5  pixel6  pixel7  \\\n",
       "0      1       0       0       0       0       0       0       0       0   \n",
       "1      0       0       0       0       0       0       0       0       0   \n",
       "2      1       0       0       0       0       0       0       0       0   \n",
       "3      4       0       0       0       0       0       0       0       0   \n",
       "4      0       0       0       0       0       0       0       0       0   \n",
       "\n",
       "   pixel8  ...  pixel774  pixel775  pixel776  pixel777  pixel778  pixel779  \\\n",
       "0       0  ...         0         0         0         0         0         0   \n",
       "1       0  ...         0         0         0         0         0         0   \n",
       "2       0  ...         0         0         0         0         0         0   \n",
       "3       0  ...         0         0         0         0         0         0   \n",
       "4       0  ...         0         0         0         0         0         0   \n",
       "\n",
       "   pixel780  pixel781  pixel782  pixel783  \n",
       "0         0         0         0         0  \n",
       "1         0         0         0         0  \n",
       "2         0         0         0         0  \n",
       "3         0         0         0         0  \n",
       "4         0         0         0         0  \n",
       "\n",
       "[5 rows x 785 columns]"
      ]
     },
     "execution_count": 2,
     "metadata": {},
     "output_type": "execute_result"
    }
   ],
   "source": [
    "df_train = pd.read_csv(\"../input/digit-recognizer/train.csv\")\n",
    "print(df_train.shape)\n",
    "df_train.head()"
   ]
  },
  {
   "cell_type": "code",
   "execution_count": 3,
   "id": "e4fcb5d5",
   "metadata": {
    "execution": {
     "iopub.execute_input": "2024-09-03T06:11:35.033916Z",
     "iopub.status.busy": "2024-09-03T06:11:35.033626Z",
     "iopub.status.idle": "2024-09-03T06:11:37.301898Z",
     "shell.execute_reply": "2024-09-03T06:11:37.300944Z"
    },
    "papermill": {
     "duration": 2.280305,
     "end_time": "2024-09-03T06:11:37.304147",
     "exception": false,
     "start_time": "2024-09-03T06:11:35.023842",
     "status": "completed"
    },
    "tags": []
   },
   "outputs": [
    {
     "name": "stdout",
     "output_type": "stream",
     "text": [
      "(28000, 784)\n"
     ]
    },
    {
     "data": {
      "text/html": [
       "<div>\n",
       "<style scoped>\n",
       "    .dataframe tbody tr th:only-of-type {\n",
       "        vertical-align: middle;\n",
       "    }\n",
       "\n",
       "    .dataframe tbody tr th {\n",
       "        vertical-align: top;\n",
       "    }\n",
       "\n",
       "    .dataframe thead th {\n",
       "        text-align: right;\n",
       "    }\n",
       "</style>\n",
       "<table border=\"1\" class=\"dataframe\">\n",
       "  <thead>\n",
       "    <tr style=\"text-align: right;\">\n",
       "      <th></th>\n",
       "      <th>pixel0</th>\n",
       "      <th>pixel1</th>\n",
       "      <th>pixel2</th>\n",
       "      <th>pixel3</th>\n",
       "      <th>pixel4</th>\n",
       "      <th>pixel5</th>\n",
       "      <th>pixel6</th>\n",
       "      <th>pixel7</th>\n",
       "      <th>pixel8</th>\n",
       "      <th>pixel9</th>\n",
       "      <th>...</th>\n",
       "      <th>pixel774</th>\n",
       "      <th>pixel775</th>\n",
       "      <th>pixel776</th>\n",
       "      <th>pixel777</th>\n",
       "      <th>pixel778</th>\n",
       "      <th>pixel779</th>\n",
       "      <th>pixel780</th>\n",
       "      <th>pixel781</th>\n",
       "      <th>pixel782</th>\n",
       "      <th>pixel783</th>\n",
       "    </tr>\n",
       "  </thead>\n",
       "  <tbody>\n",
       "    <tr>\n",
       "      <th>0</th>\n",
       "      <td>0</td>\n",
       "      <td>0</td>\n",
       "      <td>0</td>\n",
       "      <td>0</td>\n",
       "      <td>0</td>\n",
       "      <td>0</td>\n",
       "      <td>0</td>\n",
       "      <td>0</td>\n",
       "      <td>0</td>\n",
       "      <td>0</td>\n",
       "      <td>...</td>\n",
       "      <td>0</td>\n",
       "      <td>0</td>\n",
       "      <td>0</td>\n",
       "      <td>0</td>\n",
       "      <td>0</td>\n",
       "      <td>0</td>\n",
       "      <td>0</td>\n",
       "      <td>0</td>\n",
       "      <td>0</td>\n",
       "      <td>0</td>\n",
       "    </tr>\n",
       "    <tr>\n",
       "      <th>1</th>\n",
       "      <td>0</td>\n",
       "      <td>0</td>\n",
       "      <td>0</td>\n",
       "      <td>0</td>\n",
       "      <td>0</td>\n",
       "      <td>0</td>\n",
       "      <td>0</td>\n",
       "      <td>0</td>\n",
       "      <td>0</td>\n",
       "      <td>0</td>\n",
       "      <td>...</td>\n",
       "      <td>0</td>\n",
       "      <td>0</td>\n",
       "      <td>0</td>\n",
       "      <td>0</td>\n",
       "      <td>0</td>\n",
       "      <td>0</td>\n",
       "      <td>0</td>\n",
       "      <td>0</td>\n",
       "      <td>0</td>\n",
       "      <td>0</td>\n",
       "    </tr>\n",
       "    <tr>\n",
       "      <th>2</th>\n",
       "      <td>0</td>\n",
       "      <td>0</td>\n",
       "      <td>0</td>\n",
       "      <td>0</td>\n",
       "      <td>0</td>\n",
       "      <td>0</td>\n",
       "      <td>0</td>\n",
       "      <td>0</td>\n",
       "      <td>0</td>\n",
       "      <td>0</td>\n",
       "      <td>...</td>\n",
       "      <td>0</td>\n",
       "      <td>0</td>\n",
       "      <td>0</td>\n",
       "      <td>0</td>\n",
       "      <td>0</td>\n",
       "      <td>0</td>\n",
       "      <td>0</td>\n",
       "      <td>0</td>\n",
       "      <td>0</td>\n",
       "      <td>0</td>\n",
       "    </tr>\n",
       "    <tr>\n",
       "      <th>3</th>\n",
       "      <td>0</td>\n",
       "      <td>0</td>\n",
       "      <td>0</td>\n",
       "      <td>0</td>\n",
       "      <td>0</td>\n",
       "      <td>0</td>\n",
       "      <td>0</td>\n",
       "      <td>0</td>\n",
       "      <td>0</td>\n",
       "      <td>0</td>\n",
       "      <td>...</td>\n",
       "      <td>0</td>\n",
       "      <td>0</td>\n",
       "      <td>0</td>\n",
       "      <td>0</td>\n",
       "      <td>0</td>\n",
       "      <td>0</td>\n",
       "      <td>0</td>\n",
       "      <td>0</td>\n",
       "      <td>0</td>\n",
       "      <td>0</td>\n",
       "    </tr>\n",
       "    <tr>\n",
       "      <th>4</th>\n",
       "      <td>0</td>\n",
       "      <td>0</td>\n",
       "      <td>0</td>\n",
       "      <td>0</td>\n",
       "      <td>0</td>\n",
       "      <td>0</td>\n",
       "      <td>0</td>\n",
       "      <td>0</td>\n",
       "      <td>0</td>\n",
       "      <td>0</td>\n",
       "      <td>...</td>\n",
       "      <td>0</td>\n",
       "      <td>0</td>\n",
       "      <td>0</td>\n",
       "      <td>0</td>\n",
       "      <td>0</td>\n",
       "      <td>0</td>\n",
       "      <td>0</td>\n",
       "      <td>0</td>\n",
       "      <td>0</td>\n",
       "      <td>0</td>\n",
       "    </tr>\n",
       "  </tbody>\n",
       "</table>\n",
       "<p>5 rows × 784 columns</p>\n",
       "</div>"
      ],
      "text/plain": [
       "   pixel0  pixel1  pixel2  pixel3  pixel4  pixel5  pixel6  pixel7  pixel8  \\\n",
       "0       0       0       0       0       0       0       0       0       0   \n",
       "1       0       0       0       0       0       0       0       0       0   \n",
       "2       0       0       0       0       0       0       0       0       0   \n",
       "3       0       0       0       0       0       0       0       0       0   \n",
       "4       0       0       0       0       0       0       0       0       0   \n",
       "\n",
       "   pixel9  ...  pixel774  pixel775  pixel776  pixel777  pixel778  pixel779  \\\n",
       "0       0  ...         0         0         0         0         0         0   \n",
       "1       0  ...         0         0         0         0         0         0   \n",
       "2       0  ...         0         0         0         0         0         0   \n",
       "3       0  ...         0         0         0         0         0         0   \n",
       "4       0  ...         0         0         0         0         0         0   \n",
       "\n",
       "   pixel780  pixel781  pixel782  pixel783  \n",
       "0         0         0         0         0  \n",
       "1         0         0         0         0  \n",
       "2         0         0         0         0  \n",
       "3         0         0         0         0  \n",
       "4         0         0         0         0  \n",
       "\n",
       "[5 rows x 784 columns]"
      ]
     },
     "execution_count": 3,
     "metadata": {},
     "output_type": "execute_result"
    }
   ],
   "source": [
    "df_test = pd.read_csv(\"../input/digit-recognizer/test.csv\")\n",
    "print(df_test.shape)\n",
    "df_test.head()"
   ]
  },
  {
   "cell_type": "markdown",
   "id": "e50e120f",
   "metadata": {
    "papermill": {
     "duration": 0.008885,
     "end_time": "2024-09-03T06:11:37.322403",
     "exception": false,
     "start_time": "2024-09-03T06:11:37.313518",
     "status": "completed"
    },
    "tags": []
   },
   "source": [
    "Each image is represented using 784 features. Each feature represents a pixel in a 28\\*28 grid. The pixels are numbered left to right, top to bottom where the top left pixel is pixel0 and the pixel directly below it is pixel28. The `label` feature in the training data is the represented number.\n",
    "\n",
    "Each pixel can have a value from 0-255 where 0 is black and 255 is white."
   ]
  },
  {
   "cell_type": "markdown",
   "id": "c48edf26",
   "metadata": {
    "papermill": {
     "duration": 0.009645,
     "end_time": "2024-09-03T06:11:37.341025",
     "exception": false,
     "start_time": "2024-09-03T06:11:37.331380",
     "status": "completed"
    },
    "tags": []
   },
   "source": [
    "# Data Analysis #\n",
    "\n"
   ]
  },
  {
   "cell_type": "code",
   "execution_count": 4,
   "id": "193a3f2d",
   "metadata": {
    "execution": {
     "iopub.execute_input": "2024-09-03T06:11:37.360567Z",
     "iopub.status.busy": "2024-09-03T06:11:37.360267Z",
     "iopub.status.idle": "2024-09-03T06:11:37.411249Z",
     "shell.execute_reply": "2024-09-03T06:11:37.410368Z"
    },
    "papermill": {
     "duration": 0.0634,
     "end_time": "2024-09-03T06:11:37.413497",
     "exception": false,
     "start_time": "2024-09-03T06:11:37.350097",
     "status": "completed"
    },
    "tags": []
   },
   "outputs": [
    {
     "name": "stdout",
     "output_type": "stream",
     "text": [
      "Missing values:\n",
      "0\n",
      "0\n",
      "------------------\n",
      "int64    785\n",
      "Name: count, dtype: int64\n",
      "int64    784\n",
      "Name: count, dtype: int64\n"
     ]
    }
   ],
   "source": [
    "print(\"Missing values:\")\n",
    "print(df_train.isna().sum().sum())\n",
    "print(df_test.isna().sum().sum())\n",
    "print(\"------------------\")\n",
    "print(df_train.dtypes.value_counts())\n",
    "print(df_test.dtypes.value_counts())"
   ]
  },
  {
   "cell_type": "markdown",
   "id": "e80af65d",
   "metadata": {
    "papermill": {
     "duration": 0.009025,
     "end_time": "2024-09-03T06:11:37.431910",
     "exception": false,
     "start_time": "2024-09-03T06:11:37.422885",
     "status": "completed"
    },
    "tags": []
   },
   "source": [
    "The dataset has no missing values and all columns are appropriately encoded as type `int64`. This reduces the amount of preprocessing needed."
   ]
  },
  {
   "cell_type": "code",
   "execution_count": 5,
   "id": "555d93a3",
   "metadata": {
    "execution": {
     "iopub.execute_input": "2024-09-03T06:11:37.451266Z",
     "iopub.status.busy": "2024-09-03T06:11:37.450928Z",
     "iopub.status.idle": "2024-09-03T06:11:37.738032Z",
     "shell.execute_reply": "2024-09-03T06:11:37.737136Z"
    },
    "papermill": {
     "duration": 0.299019,
     "end_time": "2024-09-03T06:11:37.740015",
     "exception": false,
     "start_time": "2024-09-03T06:11:37.440996",
     "status": "completed"
    },
    "tags": []
   },
   "outputs": [
    {
     "data": {
      "text/plain": [
       "<Axes: xlabel='label', ylabel='count'>"
      ]
     },
     "execution_count": 5,
     "metadata": {},
     "output_type": "execute_result"
    },
    {
     "data": {
      "image/png": "[encoded data removed]",
      "text/plain": [
       "<Figure size 640x480 with 1 Axes>"
      ]
     },
     "metadata": {},
     "output_type": "display_data"
    }
   ],
   "source": [
    "sns.countplot(x=\"label\", data=df_train)"
   ]
  },
  {
   "cell_type": "markdown",
   "id": "bcb49f18",
   "metadata": {
    "papermill": {
     "duration": 0.009811,
     "end_time": "2024-09-03T06:11:37.759573",
     "exception": false,
     "start_time": "2024-09-03T06:11:37.749762",
     "status": "completed"
    },
    "tags": []
   },
   "source": [
    "We have a fairly even distribution of numbers within the training set."
   ]
  },
  {
   "cell_type": "markdown",
   "id": "87bad0d4",
   "metadata": {
    "papermill": {
     "duration": 0.009307,
     "end_time": "2024-09-03T06:11:37.778371",
     "exception": false,
     "start_time": "2024-09-03T06:11:37.769064",
     "status": "completed"
    },
    "tags": []
   },
   "source": [
    "# Preprocessing #\n",
    "\n",
    "We normalize the data and reshape it so that the CNN can handle it. "
   ]
  },
  {
   "cell_type": "code",
   "execution_count": 6,
   "id": "2efdd98f",
   "metadata": {
    "execution": {
     "iopub.execute_input": "2024-09-03T06:11:37.798906Z",
     "iopub.status.busy": "2024-09-03T06:11:37.798570Z",
     "iopub.status.idle": "2024-09-03T06:11:38.195455Z",
     "shell.execute_reply": "2024-09-03T06:11:38.194570Z"
    },
    "papermill": {
     "duration": 0.409857,
     "end_time": "2024-09-03T06:11:38.197837",
     "exception": false,
     "start_time": "2024-09-03T06:11:37.787980",
     "status": "completed"
    },
    "tags": []
   },
   "outputs": [],
   "source": [
    "X_train = df_train.copy()\n",
    "y_train = X_train.pop(\"label\")\n",
    "X_test = df_test.copy()\n",
    "\n",
    "#Normalize data\n",
    "X_train = X_train / 255\n",
    "X_test = X_test / 255\n",
    "\n",
    "#Reshape data, 28x28, 1 channel\n",
    "X_train = X_train.values.reshape(-1, 28, 28, 1)\n",
    "X_test = X_test.values.reshape(-1, 28, 28, 1)"
   ]
  },
  {
   "cell_type": "markdown",
   "id": "bc936fab",
   "metadata": {
    "papermill": {
     "duration": 0.009721,
     "end_time": "2024-09-03T06:11:38.217602",
     "exception": false,
     "start_time": "2024-09-03T06:11:38.207881",
     "status": "completed"
    },
    "tags": []
   },
   "source": [
    "Here's a look at the first couple entries of our training data"
   ]
  },
  {
   "cell_type": "code",
   "execution_count": 7,
   "id": "0296c5eb",
   "metadata": {
    "execution": {
     "iopub.execute_input": "2024-09-03T06:11:38.238729Z",
     "iopub.status.busy": "2024-09-03T06:11:38.238375Z",
     "iopub.status.idle": "2024-09-03T06:11:39.766963Z",
     "shell.execute_reply": "2024-09-03T06:11:39.766101Z"
    },
    "papermill": {
     "duration": 1.541413,
     "end_time": "2024-09-03T06:11:39.769103",
     "exception": false,
     "start_time": "2024-09-03T06:11:38.227690",
     "status": "completed"
    },
    "tags": []
   },
   "outputs": [
    {
     "data": {
      "image/png": "[encoded data removed]",
      "text/plain": [
       "<Figure size 2000x800 with 24 Axes>"
      ]
     },
     "metadata": {},
     "output_type": "display_data"
    }
   ],
   "source": [
    "#Display first n X_train entries\n",
    "n_rows, n_cols = 3, 8\n",
    "fig, axs = plt.subplots(n_rows, n_cols, figsize=(20,8))\n",
    "axs = axs.flatten()\n",
    "for i in range(n_rows*n_cols):\n",
    "    axs[i].imshow(X_train[i], cmap=\"gray\") \n",
    "    axs[i].set_title(y_train[i])\n",
    "    axs[i].axis(\"off\")"
   ]
  },
  {
   "cell_type": "markdown",
   "id": "f0e42472",
   "metadata": {
    "papermill": {
     "duration": 0.010048,
     "end_time": "2024-09-03T06:11:39.789506",
     "exception": false,
     "start_time": "2024-09-03T06:11:39.779458",
     "status": "completed"
    },
    "tags": []
   },
   "source": [
    "One-hot encoding the target also helps the CNN training. "
   ]
  },
  {
   "cell_type": "code",
   "execution_count": 8,
   "id": "a6cac074",
   "metadata": {
    "execution": {
     "iopub.execute_input": "2024-09-03T06:11:39.810941Z",
     "iopub.status.busy": "2024-09-03T06:11:39.810631Z",
     "iopub.status.idle": "2024-09-03T06:11:39.816322Z",
     "shell.execute_reply": "2024-09-03T06:11:39.815646Z"
    },
    "papermill": {
     "duration": 0.018531,
     "end_time": "2024-09-03T06:11:39.818122",
     "exception": false,
     "start_time": "2024-09-03T06:11:39.799591",
     "status": "completed"
    },
    "tags": []
   },
   "outputs": [],
   "source": [
    "#e.g. 4 becomes [0,0,0,0,1,0,0,0,0,0]\n",
    "y_train = to_categorical(y_train, num_classes=10)"
   ]
  },
  {
   "cell_type": "markdown",
   "id": "25aba9b2",
   "metadata": {
    "papermill": {
     "duration": 0.009757,
     "end_time": "2024-09-03T06:11:39.837958",
     "exception": false,
     "start_time": "2024-09-03T06:11:39.828201",
     "status": "completed"
    },
    "tags": []
   },
   "source": [
    "Now, we'll extract our validation data from our training data. Given that the dataset is relatively large, we'll use 10% of the training data as validation."
   ]
  },
  {
   "cell_type": "code",
   "execution_count": 9,
   "id": "d67c4a13",
   "metadata": {
    "execution": {
     "iopub.execute_input": "2024-09-03T06:11:39.859310Z",
     "iopub.status.busy": "2024-09-03T06:11:39.858997Z",
     "iopub.status.idle": "2024-09-03T06:11:40.251093Z",
     "shell.execute_reply": "2024-09-03T06:11:40.250268Z"
    },
    "papermill": {
     "duration": 0.40523,
     "end_time": "2024-09-03T06:11:40.253427",
     "exception": false,
     "start_time": "2024-09-03T06:11:39.848197",
     "status": "completed"
    },
    "tags": []
   },
   "outputs": [],
   "source": [
    "X_train, X_val, y_train, y_val = train_test_split(X_train, y_train, test_size=0.1, random_state=SEED)"
   ]
  },
  {
   "cell_type": "markdown",
   "id": "62f20baa",
   "metadata": {
    "papermill": {
     "duration": 0.009872,
     "end_time": "2024-09-03T06:11:40.273718",
     "exception": false,
     "start_time": "2024-09-03T06:11:40.263846",
     "status": "completed"
    },
    "tags": []
   },
   "source": [
    "# Model Creation and Training #\n",
    "\n",
    "To create the convolutional base, I opted for 3 blocks with batch normalization, same padding, and global pooling. Same padding is important since the images are already low resolution and border values seem to mainly be 0. Global pooling and batch normalization should help reduce overfitting and allow the model to capture the overall patterns."
   ]
  },
  {
   "cell_type": "markdown",
   "id": "a02f784b",
   "metadata": {
    "papermill": {
     "duration": 0.009695,
     "end_time": "2024-09-03T06:11:40.293372",
     "exception": false,
     "start_time": "2024-09-03T06:11:40.283677",
     "status": "completed"
    },
    "tags": []
   },
   "source": [
    "To help prevent overfitting, I also created a model to augment data. I chose to incorporate small amounts of rotation, zoom, and translation. I chose to exclude image flipping since that could drastically change the number being represented, especially with 6 and 9. I also tried to change brightness but the images seemed very sensitive to brightness changes and i couldn't get it to produce recognizable images consistently.\n",
    "\n",
    "The augmentation seemed to work well because the validation loss followed the training loss much better after applying it."
   ]
  },
  {
   "cell_type": "code",
   "execution_count": 10,
   "id": "3f321e08",
   "metadata": {
    "execution": {
     "iopub.execute_input": "2024-09-03T06:11:40.314724Z",
     "iopub.status.busy": "2024-09-03T06:11:40.314368Z",
     "iopub.status.idle": "2024-09-03T06:11:43.811805Z",
     "shell.execute_reply": "2024-09-03T06:11:43.810828Z"
    },
    "papermill": {
     "duration": 3.510381,
     "end_time": "2024-09-03T06:11:43.813805",
     "exception": false,
     "start_time": "2024-09-03T06:11:40.303424",
     "status": "completed"
    },
    "tags": []
   },
   "outputs": [
    {
     "data": {
      "image/png": "[encoded data removed]",
      "text/plain": [
       "<Figure size 2000x800 with 24 Axes>"
      ]
     },
     "metadata": {},
     "output_type": "display_data"
    }
   ],
   "source": [
    "#Data augmentation\n",
    "image_gen = keras.Sequential([\n",
    "    layers.RandomRotation(0.075),\n",
    "    layers.RandomZoom(0.15),\n",
    "    layers.RandomHeight(0.1),\n",
    "    layers.RandomWidth(0.1),\n",
    "    layers.Resizing(28, 28),\n",
    "])\n",
    "\n",
    "#Show some augmented examples\n",
    "image_index = 25\n",
    "n_rows, n_cols = 3, 8\n",
    "\n",
    "example = X_train[image_index]\n",
    "label = np.argmax(y_train[image_index])\n",
    "augmented_examples = [image_gen(example) for _ in range(n_rows*n_cols)]\n",
    "\n",
    "fig, axs = plt.subplots(n_rows, n_cols, figsize=(20, 8))\n",
    "axs = axs.flatten()\n",
    "for i in range(n_rows * n_cols):\n",
    "    axs[i].imshow(augmented_examples[i], cmap=\"gray\")\n",
    "    axs[i].set_title(label)\n",
    "    axs[i].axis(\"off\")"
   ]
  },
  {
   "cell_type": "code",
   "execution_count": 11,
   "id": "2effed2c",
   "metadata": {
    "execution": {
     "iopub.execute_input": "2024-09-03T06:11:43.837038Z",
     "iopub.status.busy": "2024-09-03T06:11:43.836686Z",
     "iopub.status.idle": "2024-09-03T06:11:43.967920Z",
     "shell.execute_reply": "2024-09-03T06:11:43.967054Z"
    },
    "papermill": {
     "duration": 0.144948,
     "end_time": "2024-09-03T06:11:43.969745",
     "exception": false,
     "start_time": "2024-09-03T06:11:43.824797",
     "status": "completed"
    },
    "tags": []
   },
   "outputs": [
    {
     "data": {
      "text/html": [
       "<pre style=\"white-space:pre;overflow-x:auto;line-height:normal;font-family:Menlo,'DejaVu Sans Mono',consolas,'Courier New',monospace\"><span style=\"font-weight: bold\">Model: \"sequential_1\"</span>\n",
       "</pre>\n"
      ],
      "text/plain": [
       "\u001b[1mModel: \"sequential_1\"\u001b[0m\n"
      ]
     },
     "metadata": {},
     "output_type": "display_data"
    },
    {
     "data": {
      "text/html": [
       "<pre style=\"white-space:pre;overflow-x:auto;line-height:normal;font-family:Menlo,'DejaVu Sans Mono',consolas,'Courier New',monospace\">┏━━━━━━━━━━━━━━━━━━━━━━━━━━━━━━━━━┳━━━━━━━━━━━━━━━━━━━━━━━━┳━━━━━━━━━━━━━━━┓\n",
       "┃<span style=\"font-weight: bold\"> Layer (type)                    </span>┃<span style=\"font-weight: bold\"> Output Shape           </span>┃<span style=\"font-weight: bold\">       Param # </span>┃\n",
       "┡━━━━━━━━━━━━━━━━━━━━━━━━━━━━━━━━━╇━━━━━━━━━━━━━━━━━━━━━━━━╇━━━━━━━━━━━━━━━┩\n",
       "│ random_rotation_1               │ (<span style=\"color: #00d7ff; text-decoration-color: #00d7ff\">None</span>, <span style=\"color: #00af00; text-decoration-color: #00af00\">28</span>, <span style=\"color: #00af00; text-decoration-color: #00af00\">28</span>, <span style=\"color: #00af00; text-decoration-color: #00af00\">1</span>)      │             <span style=\"color: #00af00; text-decoration-color: #00af00\">0</span> │\n",
       "│ (<span style=\"color: #0087ff; text-decoration-color: #0087ff\">RandomRotation</span>)                │                        │               │\n",
       "├─────────────────────────────────┼────────────────────────┼───────────────┤\n",
       "│ random_zoom_1 (<span style=\"color: #0087ff; text-decoration-color: #0087ff\">RandomZoom</span>)      │ (<span style=\"color: #00d7ff; text-decoration-color: #00d7ff\">None</span>, <span style=\"color: #00af00; text-decoration-color: #00af00\">28</span>, <span style=\"color: #00af00; text-decoration-color: #00af00\">28</span>, <span style=\"color: #00af00; text-decoration-color: #00af00\">1</span>)      │             <span style=\"color: #00af00; text-decoration-color: #00af00\">0</span> │\n",
       "├─────────────────────────────────┼────────────────────────┼───────────────┤\n",
       "│ random_height_1 (<span style=\"color: #0087ff; text-decoration-color: #0087ff\">RandomHeight</span>)  │ (<span style=\"color: #00d7ff; text-decoration-color: #00d7ff\">None</span>, <span style=\"color: #00d7ff; text-decoration-color: #00d7ff\">None</span>, <span style=\"color: #00af00; text-decoration-color: #00af00\">28</span>, <span style=\"color: #00af00; text-decoration-color: #00af00\">1</span>)    │             <span style=\"color: #00af00; text-decoration-color: #00af00\">0</span> │\n",
       "├─────────────────────────────────┼────────────────────────┼───────────────┤\n",
       "│ random_width_1 (<span style=\"color: #0087ff; text-decoration-color: #0087ff\">RandomWidth</span>)    │ (<span style=\"color: #00d7ff; text-decoration-color: #00d7ff\">None</span>, <span style=\"color: #00d7ff; text-decoration-color: #00d7ff\">None</span>, <span style=\"color: #00d7ff; text-decoration-color: #00d7ff\">None</span>, <span style=\"color: #00af00; text-decoration-color: #00af00\">1</span>)  │             <span style=\"color: #00af00; text-decoration-color: #00af00\">0</span> │\n",
       "├─────────────────────────────────┼────────────────────────┼───────────────┤\n",
       "│ resizing_1 (<span style=\"color: #0087ff; text-decoration-color: #0087ff\">Resizing</span>)           │ (<span style=\"color: #00d7ff; text-decoration-color: #00d7ff\">None</span>, <span style=\"color: #00af00; text-decoration-color: #00af00\">28</span>, <span style=\"color: #00af00; text-decoration-color: #00af00\">28</span>, <span style=\"color: #00af00; text-decoration-color: #00af00\">1</span>)      │             <span style=\"color: #00af00; text-decoration-color: #00af00\">0</span> │\n",
       "├─────────────────────────────────┼────────────────────────┼───────────────┤\n",
       "│ conv2d (<span style=\"color: #0087ff; text-decoration-color: #0087ff\">Conv2D</span>)                 │ (<span style=\"color: #00d7ff; text-decoration-color: #00d7ff\">None</span>, <span style=\"color: #00af00; text-decoration-color: #00af00\">28</span>, <span style=\"color: #00af00; text-decoration-color: #00af00\">28</span>, <span style=\"color: #00af00; text-decoration-color: #00af00\">32</span>)     │           <span style=\"color: #00af00; text-decoration-color: #00af00\">320</span> │\n",
       "├─────────────────────────────────┼────────────────────────┼───────────────┤\n",
       "│ batch_normalization             │ (<span style=\"color: #00d7ff; text-decoration-color: #00d7ff\">None</span>, <span style=\"color: #00af00; text-decoration-color: #00af00\">28</span>, <span style=\"color: #00af00; text-decoration-color: #00af00\">28</span>, <span style=\"color: #00af00; text-decoration-color: #00af00\">32</span>)     │           <span style=\"color: #00af00; text-decoration-color: #00af00\">128</span> │\n",
       "│ (<span style=\"color: #0087ff; text-decoration-color: #0087ff\">BatchNormalization</span>)            │                        │               │\n",
       "├─────────────────────────────────┼────────────────────────┼───────────────┤\n",
       "│ max_pooling2d (<span style=\"color: #0087ff; text-decoration-color: #0087ff\">MaxPooling2D</span>)    │ (<span style=\"color: #00d7ff; text-decoration-color: #00d7ff\">None</span>, <span style=\"color: #00af00; text-decoration-color: #00af00\">14</span>, <span style=\"color: #00af00; text-decoration-color: #00af00\">14</span>, <span style=\"color: #00af00; text-decoration-color: #00af00\">32</span>)     │             <span style=\"color: #00af00; text-decoration-color: #00af00\">0</span> │\n",
       "├─────────────────────────────────┼────────────────────────┼───────────────┤\n",
       "│ dropout (<span style=\"color: #0087ff; text-decoration-color: #0087ff\">Dropout</span>)               │ (<span style=\"color: #00d7ff; text-decoration-color: #00d7ff\">None</span>, <span style=\"color: #00af00; text-decoration-color: #00af00\">14</span>, <span style=\"color: #00af00; text-decoration-color: #00af00\">14</span>, <span style=\"color: #00af00; text-decoration-color: #00af00\">32</span>)     │             <span style=\"color: #00af00; text-decoration-color: #00af00\">0</span> │\n",
       "├─────────────────────────────────┼────────────────────────┼───────────────┤\n",
       "│ conv2d_1 (<span style=\"color: #0087ff; text-decoration-color: #0087ff\">Conv2D</span>)               │ (<span style=\"color: #00d7ff; text-decoration-color: #00d7ff\">None</span>, <span style=\"color: #00af00; text-decoration-color: #00af00\">14</span>, <span style=\"color: #00af00; text-decoration-color: #00af00\">14</span>, <span style=\"color: #00af00; text-decoration-color: #00af00\">64</span>)     │        <span style=\"color: #00af00; text-decoration-color: #00af00\">18,496</span> │\n",
       "├─────────────────────────────────┼────────────────────────┼───────────────┤\n",
       "│ batch_normalization_1           │ (<span style=\"color: #00d7ff; text-decoration-color: #00d7ff\">None</span>, <span style=\"color: #00af00; text-decoration-color: #00af00\">14</span>, <span style=\"color: #00af00; text-decoration-color: #00af00\">14</span>, <span style=\"color: #00af00; text-decoration-color: #00af00\">64</span>)     │           <span style=\"color: #00af00; text-decoration-color: #00af00\">256</span> │\n",
       "│ (<span style=\"color: #0087ff; text-decoration-color: #0087ff\">BatchNormalization</span>)            │                        │               │\n",
       "├─────────────────────────────────┼────────────────────────┼───────────────┤\n",
       "│ max_pooling2d_1 (<span style=\"color: #0087ff; text-decoration-color: #0087ff\">MaxPooling2D</span>)  │ (<span style=\"color: #00d7ff; text-decoration-color: #00d7ff\">None</span>, <span style=\"color: #00af00; text-decoration-color: #00af00\">7</span>, <span style=\"color: #00af00; text-decoration-color: #00af00\">7</span>, <span style=\"color: #00af00; text-decoration-color: #00af00\">64</span>)       │             <span style=\"color: #00af00; text-decoration-color: #00af00\">0</span> │\n",
       "├─────────────────────────────────┼────────────────────────┼───────────────┤\n",
       "│ dropout_1 (<span style=\"color: #0087ff; text-decoration-color: #0087ff\">Dropout</span>)             │ (<span style=\"color: #00d7ff; text-decoration-color: #00d7ff\">None</span>, <span style=\"color: #00af00; text-decoration-color: #00af00\">7</span>, <span style=\"color: #00af00; text-decoration-color: #00af00\">7</span>, <span style=\"color: #00af00; text-decoration-color: #00af00\">64</span>)       │             <span style=\"color: #00af00; text-decoration-color: #00af00\">0</span> │\n",
       "├─────────────────────────────────┼────────────────────────┼───────────────┤\n",
       "│ conv2d_2 (<span style=\"color: #0087ff; text-decoration-color: #0087ff\">Conv2D</span>)               │ (<span style=\"color: #00d7ff; text-decoration-color: #00d7ff\">None</span>, <span style=\"color: #00af00; text-decoration-color: #00af00\">7</span>, <span style=\"color: #00af00; text-decoration-color: #00af00\">7</span>, <span style=\"color: #00af00; text-decoration-color: #00af00\">128</span>)      │        <span style=\"color: #00af00; text-decoration-color: #00af00\">73,856</span> │\n",
       "├─────────────────────────────────┼────────────────────────┼───────────────┤\n",
       "│ batch_normalization_2           │ (<span style=\"color: #00d7ff; text-decoration-color: #00d7ff\">None</span>, <span style=\"color: #00af00; text-decoration-color: #00af00\">7</span>, <span style=\"color: #00af00; text-decoration-color: #00af00\">7</span>, <span style=\"color: #00af00; text-decoration-color: #00af00\">128</span>)      │           <span style=\"color: #00af00; text-decoration-color: #00af00\">512</span> │\n",
       "│ (<span style=\"color: #0087ff; text-decoration-color: #0087ff\">BatchNormalization</span>)            │                        │               │\n",
       "├─────────────────────────────────┼────────────────────────┼───────────────┤\n",
       "│ global_average_pooling2d        │ (<span style=\"color: #00d7ff; text-decoration-color: #00d7ff\">None</span>, <span style=\"color: #00af00; text-decoration-color: #00af00\">128</span>)            │             <span style=\"color: #00af00; text-decoration-color: #00af00\">0</span> │\n",
       "│ (<span style=\"color: #0087ff; text-decoration-color: #0087ff\">GlobalAveragePooling2D</span>)        │                        │               │\n",
       "├─────────────────────────────────┼────────────────────────┼───────────────┤\n",
       "│ flatten (<span style=\"color: #0087ff; text-decoration-color: #0087ff\">Flatten</span>)               │ (<span style=\"color: #00d7ff; text-decoration-color: #00d7ff\">None</span>, <span style=\"color: #00af00; text-decoration-color: #00af00\">128</span>)            │             <span style=\"color: #00af00; text-decoration-color: #00af00\">0</span> │\n",
       "├─────────────────────────────────┼────────────────────────┼───────────────┤\n",
       "│ dense (<span style=\"color: #0087ff; text-decoration-color: #0087ff\">Dense</span>)                   │ (<span style=\"color: #00d7ff; text-decoration-color: #00d7ff\">None</span>, <span style=\"color: #00af00; text-decoration-color: #00af00\">128</span>)            │        <span style=\"color: #00af00; text-decoration-color: #00af00\">16,512</span> │\n",
       "├─────────────────────────────────┼────────────────────────┼───────────────┤\n",
       "│ dropout_2 (<span style=\"color: #0087ff; text-decoration-color: #0087ff\">Dropout</span>)             │ (<span style=\"color: #00d7ff; text-decoration-color: #00d7ff\">None</span>, <span style=\"color: #00af00; text-decoration-color: #00af00\">128</span>)            │             <span style=\"color: #00af00; text-decoration-color: #00af00\">0</span> │\n",
       "├─────────────────────────────────┼────────────────────────┼───────────────┤\n",
       "│ dense_1 (<span style=\"color: #0087ff; text-decoration-color: #0087ff\">Dense</span>)                 │ (<span style=\"color: #00d7ff; text-decoration-color: #00d7ff\">None</span>, <span style=\"color: #00af00; text-decoration-color: #00af00\">10</span>)             │         <span style=\"color: #00af00; text-decoration-color: #00af00\">1,290</span> │\n",
       "└─────────────────────────────────┴────────────────────────┴───────────────┘\n",
       "</pre>\n"
      ],
      "text/plain": [
       "┏━━━━━━━━━━━━━━━━━━━━━━━━━━━━━━━━━┳━━━━━━━━━━━━━━━━━━━━━━━━┳━━━━━━━━━━━━━━━┓\n",
       "┃\u001b[1m \u001b[0m\u001b[1mLayer (type)                   \u001b[0m\u001b[1m \u001b[0m┃\u001b[1m \u001b[0m\u001b[1mOutput Shape          \u001b[0m\u001b[1m \u001b[0m┃\u001b[1m \u001b[0m\u001b[1m      Param #\u001b[0m\u001b[1m \u001b[0m┃\n",
       "┡━━━━━━━━━━━━━━━━━━━━━━━━━━━━━━━━━╇━━━━━━━━━━━━━━━━━━━━━━━━╇━━━━━━━━━━━━━━━┩\n",
       "│ random_rotation_1               │ (\u001b[38;5;45mNone\u001b[0m, \u001b[38;5;34m28\u001b[0m, \u001b[38;5;34m28\u001b[0m, \u001b[38;5;34m1\u001b[0m)      │             \u001b[38;5;34m0\u001b[0m │\n",
       "│ (\u001b[38;5;33mRandomRotation\u001b[0m)                │                        │               │\n",
       "├─────────────────────────────────┼────────────────────────┼───────────────┤\n",
       "│ random_zoom_1 (\u001b[38;5;33mRandomZoom\u001b[0m)      │ (\u001b[38;5;45mNone\u001b[0m, \u001b[38;5;34m28\u001b[0m, \u001b[38;5;34m28\u001b[0m, \u001b[38;5;34m1\u001b[0m)      │             \u001b[38;5;34m0\u001b[0m │\n",
       "├─────────────────────────────────┼────────────────────────┼───────────────┤\n",
       "│ random_height_1 (\u001b[38;5;33mRandomHeight\u001b[0m)  │ (\u001b[38;5;45mNone\u001b[0m, \u001b[38;5;45mNone\u001b[0m, \u001b[38;5;34m28\u001b[0m, \u001b[38;5;34m1\u001b[0m)    │             \u001b[38;5;34m0\u001b[0m │\n",
       "├─────────────────────────────────┼────────────────────────┼───────────────┤\n",
       "│ random_width_1 (\u001b[38;5;33mRandomWidth\u001b[0m)    │ (\u001b[38;5;45mNone\u001b[0m, \u001b[38;5;45mNone\u001b[0m, \u001b[38;5;45mNone\u001b[0m, \u001b[38;5;34m1\u001b[0m)  │             \u001b[38;5;34m0\u001b[0m │\n",
       "├─────────────────────────────────┼────────────────────────┼───────────────┤\n",
       "│ resizing_1 (\u001b[38;5;33mResizing\u001b[0m)           │ (\u001b[38;5;45mNone\u001b[0m, \u001b[38;5;34m28\u001b[0m, \u001b[38;5;34m28\u001b[0m, \u001b[38;5;34m1\u001b[0m)      │             \u001b[38;5;34m0\u001b[0m │\n",
       "├─────────────────────────────────┼────────────────────────┼───────────────┤\n",
       "│ conv2d (\u001b[38;5;33mConv2D\u001b[0m)                 │ (\u001b[38;5;45mNone\u001b[0m, \u001b[38;5;34m28\u001b[0m, \u001b[38;5;34m28\u001b[0m, \u001b[38;5;34m32\u001b[0m)     │           \u001b[38;5;34m320\u001b[0m │\n",
       "├─────────────────────────────────┼────────────────────────┼───────────────┤\n",
       "│ batch_normalization             │ (\u001b[38;5;45mNone\u001b[0m, \u001b[38;5;34m28\u001b[0m, \u001b[38;5;34m28\u001b[0m, \u001b[38;5;34m32\u001b[0m)     │           \u001b[38;5;34m128\u001b[0m │\n",
       "│ (\u001b[38;5;33mBatchNormalization\u001b[0m)            │                        │               │\n",
       "├─────────────────────────────────┼────────────────────────┼───────────────┤\n",
       "│ max_pooling2d (\u001b[38;5;33mMaxPooling2D\u001b[0m)    │ (\u001b[38;5;45mNone\u001b[0m, \u001b[38;5;34m14\u001b[0m, \u001b[38;5;34m14\u001b[0m, \u001b[38;5;34m32\u001b[0m)     │             \u001b[38;5;34m0\u001b[0m │\n",
       "├─────────────────────────────────┼────────────────────────┼───────────────┤\n",
       "│ dropout (\u001b[38;5;33mDropout\u001b[0m)               │ (\u001b[38;5;45mNone\u001b[0m, \u001b[38;5;34m14\u001b[0m, \u001b[38;5;34m14\u001b[0m, \u001b[38;5;34m32\u001b[0m)     │             \u001b[38;5;34m0\u001b[0m │\n",
       "├─────────────────────────────────┼────────────────────────┼───────────────┤\n",
       "│ conv2d_1 (\u001b[38;5;33mConv2D\u001b[0m)               │ (\u001b[38;5;45mNone\u001b[0m, \u001b[38;5;34m14\u001b[0m, \u001b[38;5;34m14\u001b[0m, \u001b[38;5;34m64\u001b[0m)     │        \u001b[38;5;34m18,496\u001b[0m │\n",
       "├─────────────────────────────────┼────────────────────────┼───────────────┤\n",
       "│ batch_normalization_1           │ (\u001b[38;5;45mNone\u001b[0m, \u001b[38;5;34m14\u001b[0m, \u001b[38;5;34m14\u001b[0m, \u001b[38;5;34m64\u001b[0m)     │           \u001b[38;5;34m256\u001b[0m │\n",
       "│ (\u001b[38;5;33mBatchNormalization\u001b[0m)            │                        │               │\n",
       "├─────────────────────────────────┼────────────────────────┼───────────────┤\n",
       "│ max_pooling2d_1 (\u001b[38;5;33mMaxPooling2D\u001b[0m)  │ (\u001b[38;5;45mNone\u001b[0m, \u001b[38;5;34m7\u001b[0m, \u001b[38;5;34m7\u001b[0m, \u001b[38;5;34m64\u001b[0m)       │             \u001b[38;5;34m0\u001b[0m │\n",
       "├─────────────────────────────────┼────────────────────────┼───────────────┤\n",
       "│ dropout_1 (\u001b[38;5;33mDropout\u001b[0m)             │ (\u001b[38;5;45mNone\u001b[0m, \u001b[38;5;34m7\u001b[0m, \u001b[38;5;34m7\u001b[0m, \u001b[38;5;34m64\u001b[0m)       │             \u001b[38;5;34m0\u001b[0m │\n",
       "├─────────────────────────────────┼────────────────────────┼───────────────┤\n",
       "│ conv2d_2 (\u001b[38;5;33mConv2D\u001b[0m)               │ (\u001b[38;5;45mNone\u001b[0m, \u001b[38;5;34m7\u001b[0m, \u001b[38;5;34m7\u001b[0m, \u001b[38;5;34m128\u001b[0m)      │        \u001b[38;5;34m73,856\u001b[0m │\n",
       "├─────────────────────────────────┼────────────────────────┼───────────────┤\n",
       "│ batch_normalization_2           │ (\u001b[38;5;45mNone\u001b[0m, \u001b[38;5;34m7\u001b[0m, \u001b[38;5;34m7\u001b[0m, \u001b[38;5;34m128\u001b[0m)      │           \u001b[38;5;34m512\u001b[0m │\n",
       "│ (\u001b[38;5;33mBatchNormalization\u001b[0m)            │                        │               │\n",
       "├─────────────────────────────────┼────────────────────────┼───────────────┤\n",
       "│ global_average_pooling2d        │ (\u001b[38;5;45mNone\u001b[0m, \u001b[38;5;34m128\u001b[0m)            │             \u001b[38;5;34m0\u001b[0m │\n",
       "│ (\u001b[38;5;33mGlobalAveragePooling2D\u001b[0m)        │                        │               │\n",
       "├─────────────────────────────────┼────────────────────────┼───────────────┤\n",
       "│ flatten (\u001b[38;5;33mFlatten\u001b[0m)               │ (\u001b[38;5;45mNone\u001b[0m, \u001b[38;5;34m128\u001b[0m)            │             \u001b[38;5;34m0\u001b[0m │\n",
       "├─────────────────────────────────┼────────────────────────┼───────────────┤\n",
       "│ dense (\u001b[38;5;33mDense\u001b[0m)                   │ (\u001b[38;5;45mNone\u001b[0m, \u001b[38;5;34m128\u001b[0m)            │        \u001b[38;5;34m16,512\u001b[0m │\n",
       "├─────────────────────────────────┼────────────────────────┼───────────────┤\n",
       "│ dropout_2 (\u001b[38;5;33mDropout\u001b[0m)             │ (\u001b[38;5;45mNone\u001b[0m, \u001b[38;5;34m128\u001b[0m)            │             \u001b[38;5;34m0\u001b[0m │\n",
       "├─────────────────────────────────┼────────────────────────┼───────────────┤\n",
       "│ dense_1 (\u001b[38;5;33mDense\u001b[0m)                 │ (\u001b[38;5;45mNone\u001b[0m, \u001b[38;5;34m10\u001b[0m)             │         \u001b[38;5;34m1,290\u001b[0m │\n",
       "└─────────────────────────────────┴────────────────────────┴───────────────┘\n"
      ]
     },
     "metadata": {},
     "output_type": "display_data"
    },
    {
     "data": {
      "text/html": [
       "<pre style=\"white-space:pre;overflow-x:auto;line-height:normal;font-family:Menlo,'DejaVu Sans Mono',consolas,'Courier New',monospace\"><span style=\"font-weight: bold\"> Total params: </span><span style=\"color: #00af00; text-decoration-color: #00af00\">111,370</span> (435.04 KB)\n",
       "</pre>\n"
      ],
      "text/plain": [
       "\u001b[1m Total params: \u001b[0m\u001b[38;5;34m111,370\u001b[0m (435.04 KB)\n"
      ]
     },
     "metadata": {},
     "output_type": "display_data"
    },
    {
     "data": {
      "text/html": [
       "<pre style=\"white-space:pre;overflow-x:auto;line-height:normal;font-family:Menlo,'DejaVu Sans Mono',consolas,'Courier New',monospace\"><span style=\"font-weight: bold\"> Trainable params: </span><span style=\"color: #00af00; text-decoration-color: #00af00\">110,922</span> (433.29 KB)\n",
       "</pre>\n"
      ],
      "text/plain": [
       "\u001b[1m Trainable params: \u001b[0m\u001b[38;5;34m110,922\u001b[0m (433.29 KB)\n"
      ]
     },
     "metadata": {},
     "output_type": "display_data"
    },
    {
     "data": {
      "text/html": [
       "<pre style=\"white-space:pre;overflow-x:auto;line-height:normal;font-family:Menlo,'DejaVu Sans Mono',consolas,'Courier New',monospace\"><span style=\"font-weight: bold\"> Non-trainable params: </span><span style=\"color: #00af00; text-decoration-color: #00af00\">448</span> (1.75 KB)\n",
       "</pre>\n"
      ],
      "text/plain": [
       "\u001b[1m Non-trainable params: \u001b[0m\u001b[38;5;34m448\u001b[0m (1.75 KB)\n"
      ]
     },
     "metadata": {},
     "output_type": "display_data"
    }
   ],
   "source": [
    "model = keras.Sequential([\n",
    "    layers.InputLayer(shape=(28, 28, 1)),\n",
    "    \n",
    "    #Image augmentation\n",
    "    layers.RandomRotation(0.05),\n",
    "    layers.RandomZoom(0.15),\n",
    "    layers.RandomHeight(0.1),\n",
    "    layers.RandomWidth(0.1),\n",
    "    layers.Resizing(28, 28),\n",
    "    \n",
    "    #Block 1\n",
    "    layers.Conv2D(filters=32, kernel_size=3, activation=\"relu\", padding=\"same\"),\n",
    "    layers.BatchNormalization(),\n",
    "    layers.MaxPool2D(),\n",
    "    layers.Dropout(0.2),\n",
    "    \n",
    "    #Block 2\n",
    "    layers.Conv2D(filters=64, kernel_size=3, activation=\"relu\", padding=\"same\"),\n",
    "    layers.BatchNormalization(),\n",
    "    layers.MaxPool2D(),\n",
    "    layers.Dropout(0.2),\n",
    "    \n",
    "    #Block 3\n",
    "    layers.Conv2D(filters=128, kernel_size=3, activation=\"relu\", padding=\"same\"),\n",
    "    layers.BatchNormalization(),\n",
    "    \n",
    "    layers.GlobalAveragePooling2D(),\n",
    "    \n",
    "    #Dense Head\n",
    "    layers.Flatten(),\n",
    "    layers.Dense(128, activation=\"relu\"),\n",
    "    layers.Dropout(0.2),\n",
    "    layers.Dense(10, activation=\"softmax\")\n",
    "])\n",
    "\n",
    "model.summary()"
   ]
  },
  {
   "cell_type": "markdown",
   "id": "636f4ea8",
   "metadata": {
    "papermill": {
     "duration": 0.011719,
     "end_time": "2024-09-03T06:11:43.993598",
     "exception": false,
     "start_time": "2024-09-03T06:11:43.981879",
     "status": "completed"
    },
    "tags": []
   },
   "source": [
    "Compile the model using Adam optimization"
   ]
  },
  {
   "cell_type": "code",
   "execution_count": 12,
   "id": "7bc66849",
   "metadata": {
    "execution": {
     "iopub.execute_input": "2024-09-03T06:11:44.018917Z",
     "iopub.status.busy": "2024-09-03T06:11:44.018549Z",
     "iopub.status.idle": "2024-09-03T06:11:44.031674Z",
     "shell.execute_reply": "2024-09-03T06:11:44.030930Z"
    },
    "papermill": {
     "duration": 0.027988,
     "end_time": "2024-09-03T06:11:44.033603",
     "exception": false,
     "start_time": "2024-09-03T06:11:44.005615",
     "status": "completed"
    },
    "tags": []
   },
   "outputs": [],
   "source": [
    "model.compile(optimizer=\"adam\", \n",
    "              loss=\"categorical_crossentropy\", \n",
    "              metrics=[\"accuracy\"])"
   ]
  },
  {
   "cell_type": "markdown",
   "id": "a628b506",
   "metadata": {
    "papermill": {
     "duration": 0.011608,
     "end_time": "2024-09-03T06:11:44.057123",
     "exception": false,
     "start_time": "2024-09-03T06:11:44.045515",
     "status": "completed"
    },
    "tags": []
   },
   "source": [
    "Define a ReduceLR and EarlyStopping callback to help model performance and stop training if no progress."
   ]
  },
  {
   "cell_type": "code",
   "execution_count": 13,
   "id": "6f880c59",
   "metadata": {
    "execution": {
     "iopub.execute_input": "2024-09-03T06:11:44.081898Z",
     "iopub.status.busy": "2024-09-03T06:11:44.081565Z",
     "iopub.status.idle": "2024-09-03T06:15:28.436104Z",
     "shell.execute_reply": "2024-09-03T06:15:28.435279Z"
    },
    "papermill": {
     "duration": 224.369681,
     "end_time": "2024-09-03T06:15:28.438422",
     "exception": false,
     "start_time": "2024-09-03T06:11:44.068741",
     "status": "completed"
    },
    "tags": []
   },
   "outputs": [
    {
     "name": "stdout",
     "output_type": "stream",
     "text": [
      "Epoch 1/50\n"
     ]
    },
    {
     "name": "stderr",
     "output_type": "stream",
     "text": [
      "2024-09-03 06:11:47.193753: E tensorflow/core/grappler/optimizers/meta_optimizer.cc:961] layout failed: INVALID_ARGUMENT: Size of values 0 does not match size of permutation 4 @ fanin shape inStatefulPartitionedCall/sequential_1_1/dropout_1/stateless_dropout/SelectV2-2-TransposeNHWCToNCHW-LayoutOptimizer\n"
     ]
    },
    {
     "name": "stdout",
     "output_type": "stream",
     "text": [
      "\u001b[1m591/591\u001b[0m \u001b[32m━━━━━━━━━━━━━━━━━━━━\u001b[0m\u001b[37m\u001b[0m \u001b[1m12s\u001b[0m 10ms/step - accuracy: 0.7523 - loss: 0.7893 - val_accuracy: 0.8245 - val_loss: 0.5706 - learning_rate: 0.0010\n",
      "Epoch 2/50\n",
      "\u001b[1m591/591\u001b[0m \u001b[32m━━━━━━━━━━━━━━━━━━━━\u001b[0m\u001b[37m\u001b[0m \u001b[1m5s\u001b[0m 9ms/step - accuracy: 0.9640 - loss: 0.1220 - val_accuracy: 0.9629 - val_loss: 0.1192 - learning_rate: 0.0010\n",
      "Epoch 3/50\n",
      "\u001b[1m591/591\u001b[0m \u001b[32m━━━━━━━━━━━━━━━━━━━━\u001b[0m\u001b[37m\u001b[0m \u001b[1m5s\u001b[0m 9ms/step - accuracy: 0.9732 - loss: 0.0888 - val_accuracy: 0.9814 - val_loss: 0.0586 - learning_rate: 0.0010\n",
      "Epoch 4/50\n",
      "\u001b[1m591/591\u001b[0m \u001b[32m━━━━━━━━━━━━━━━━━━━━\u001b[0m\u001b[37m\u001b[0m \u001b[1m5s\u001b[0m 9ms/step - accuracy: 0.9746 - loss: 0.0760 - val_accuracy: 0.9840 - val_loss: 0.0514 - learning_rate: 0.0010\n",
      "Epoch 5/50\n",
      "\u001b[1m591/591\u001b[0m \u001b[32m━━━━━━━━━━━━━━━━━━━━\u001b[0m\u001b[37m\u001b[0m \u001b[1m5s\u001b[0m 9ms/step - accuracy: 0.9800 - loss: 0.0654 - val_accuracy: 0.9831 - val_loss: 0.0500 - learning_rate: 0.0010\n",
      "Epoch 6/50\n",
      "\u001b[1m591/591\u001b[0m \u001b[32m━━━━━━━━━━━━━━━━━━━━\u001b[0m\u001b[37m\u001b[0m \u001b[1m5s\u001b[0m 9ms/step - accuracy: 0.9810 - loss: 0.0614 - val_accuracy: 0.9855 - val_loss: 0.0458 - learning_rate: 0.0010\n",
      "Epoch 7/50\n",
      "\u001b[1m591/591\u001b[0m \u001b[32m━━━━━━━━━━━━━━━━━━━━\u001b[0m\u001b[37m\u001b[0m \u001b[1m6s\u001b[0m 9ms/step - accuracy: 0.9845 - loss: 0.0495 - val_accuracy: 0.9845 - val_loss: 0.0522 - learning_rate: 0.0010\n",
      "Epoch 8/50\n",
      "\u001b[1m591/591\u001b[0m \u001b[32m━━━━━━━━━━━━━━━━━━━━\u001b[0m\u001b[37m\u001b[0m \u001b[1m5s\u001b[0m 9ms/step - accuracy: 0.9837 - loss: 0.0525 - val_accuracy: 0.9871 - val_loss: 0.0416 - learning_rate: 0.0010\n",
      "Epoch 9/50\n",
      "\u001b[1m591/591\u001b[0m \u001b[32m━━━━━━━━━━━━━━━━━━━━\u001b[0m\u001b[37m\u001b[0m \u001b[1m5s\u001b[0m 9ms/step - accuracy: 0.9854 - loss: 0.0480 - val_accuracy: 0.9864 - val_loss: 0.0418 - learning_rate: 0.0010\n",
      "Epoch 10/50\n",
      "\u001b[1m591/591\u001b[0m \u001b[32m━━━━━━━━━━━━━━━━━━━━\u001b[0m\u001b[37m\u001b[0m \u001b[1m5s\u001b[0m 9ms/step - accuracy: 0.9854 - loss: 0.0434 - val_accuracy: 0.9898 - val_loss: 0.0369 - learning_rate: 0.0010\n",
      "Epoch 11/50\n",
      "\u001b[1m591/591\u001b[0m \u001b[32m━━━━━━━━━━━━━━━━━━━━\u001b[0m\u001b[37m\u001b[0m \u001b[1m5s\u001b[0m 9ms/step - accuracy: 0.9863 - loss: 0.0426 - val_accuracy: 0.9893 - val_loss: 0.0387 - learning_rate: 0.0010\n",
      "Epoch 12/50\n",
      "\u001b[1m591/591\u001b[0m \u001b[32m━━━━━━━━━━━━━━━━━━━━\u001b[0m\u001b[37m\u001b[0m \u001b[1m6s\u001b[0m 9ms/step - accuracy: 0.9861 - loss: 0.0423 - val_accuracy: 0.9902 - val_loss: 0.0331 - learning_rate: 0.0010\n",
      "Epoch 13/50\n",
      "\u001b[1m591/591\u001b[0m \u001b[32m━━━━━━━━━━━━━━━━━━━━\u001b[0m\u001b[37m\u001b[0m \u001b[1m10s\u001b[0m 9ms/step - accuracy: 0.9865 - loss: 0.0409 - val_accuracy: 0.9912 - val_loss: 0.0367 - learning_rate: 0.0010\n",
      "Epoch 14/50\n",
      "\u001b[1m591/591\u001b[0m \u001b[32m━━━━━━━━━━━━━━━━━━━━\u001b[0m\u001b[37m\u001b[0m \u001b[1m5s\u001b[0m 9ms/step - accuracy: 0.9865 - loss: 0.0384 - val_accuracy: 0.9905 - val_loss: 0.0331 - learning_rate: 0.0010\n",
      "Epoch 15/50\n",
      "\u001b[1m591/591\u001b[0m \u001b[32m━━━━━━━━━━━━━━━━━━━━\u001b[0m\u001b[37m\u001b[0m \u001b[1m5s\u001b[0m 9ms/step - accuracy: 0.9878 - loss: 0.0365 - val_accuracy: 0.9919 - val_loss: 0.0307 - learning_rate: 0.0010\n",
      "Epoch 16/50\n",
      "\u001b[1m591/591\u001b[0m \u001b[32m━━━━━━━━━━━━━━━━━━━━\u001b[0m\u001b[37m\u001b[0m \u001b[1m5s\u001b[0m 9ms/step - accuracy: 0.9894 - loss: 0.0333 - val_accuracy: 0.9898 - val_loss: 0.0313 - learning_rate: 0.0010\n",
      "Epoch 17/50\n",
      "\u001b[1m591/591\u001b[0m \u001b[32m━━━━━━━━━━━━━━━━━━━━\u001b[0m\u001b[37m\u001b[0m \u001b[1m5s\u001b[0m 9ms/step - accuracy: 0.9898 - loss: 0.0356 - val_accuracy: 0.9936 - val_loss: 0.0257 - learning_rate: 0.0010\n",
      "Epoch 18/50\n",
      "\u001b[1m591/591\u001b[0m \u001b[32m━━━━━━━━━━━━━━━━━━━━\u001b[0m\u001b[37m\u001b[0m \u001b[1m5s\u001b[0m 9ms/step - accuracy: 0.9884 - loss: 0.0350 - val_accuracy: 0.9879 - val_loss: 0.0400 - learning_rate: 0.0010\n",
      "Epoch 19/50\n",
      "\u001b[1m591/591\u001b[0m \u001b[32m━━━━━━━━━━━━━━━━━━━━\u001b[0m\u001b[37m\u001b[0m \u001b[1m5s\u001b[0m 9ms/step - accuracy: 0.9896 - loss: 0.0328 - val_accuracy: 0.9919 - val_loss: 0.0327 - learning_rate: 0.0010\n",
      "Epoch 20/50\n",
      "\u001b[1m591/591\u001b[0m \u001b[32m━━━━━━━━━━━━━━━━━━━━\u001b[0m\u001b[37m\u001b[0m \u001b[1m5s\u001b[0m 9ms/step - accuracy: 0.9893 - loss: 0.0315 - val_accuracy: 0.9895 - val_loss: 0.0389 - learning_rate: 0.0010\n",
      "Epoch 21/50\n",
      "\u001b[1m591/591\u001b[0m \u001b[32m━━━━━━━━━━━━━━━━━━━━\u001b[0m\u001b[37m\u001b[0m \u001b[1m5s\u001b[0m 9ms/step - accuracy: 0.9918 - loss: 0.0270 - val_accuracy: 0.9938 - val_loss: 0.0266 - learning_rate: 5.0000e-04\n",
      "Epoch 22/50\n",
      "\u001b[1m591/591\u001b[0m \u001b[32m━━━━━━━━━━━━━━━━━━━━\u001b[0m\u001b[37m\u001b[0m \u001b[1m5s\u001b[0m 9ms/step - accuracy: 0.9931 - loss: 0.0235 - val_accuracy: 0.9936 - val_loss: 0.0265 - learning_rate: 5.0000e-04\n",
      "Epoch 23/50\n",
      "\u001b[1m591/591\u001b[0m \u001b[32m━━━━━━━━━━━━━━━━━━━━\u001b[0m\u001b[37m\u001b[0m \u001b[1m6s\u001b[0m 9ms/step - accuracy: 0.9919 - loss: 0.0254 - val_accuracy: 0.9943 - val_loss: 0.0252 - learning_rate: 5.0000e-04\n",
      "Epoch 24/50\n",
      "\u001b[1m591/591\u001b[0m \u001b[32m━━━━━━━━━━━━━━━━━━━━\u001b[0m\u001b[37m\u001b[0m \u001b[1m5s\u001b[0m 9ms/step - accuracy: 0.9920 - loss: 0.0237 - val_accuracy: 0.9940 - val_loss: 0.0252 - learning_rate: 5.0000e-04\n",
      "Epoch 25/50\n",
      "\u001b[1m591/591\u001b[0m \u001b[32m━━━━━━━━━━━━━━━━━━━━\u001b[0m\u001b[37m\u001b[0m \u001b[1m5s\u001b[0m 9ms/step - accuracy: 0.9917 - loss: 0.0234 - val_accuracy: 0.9943 - val_loss: 0.0252 - learning_rate: 5.0000e-04\n",
      "Epoch 26/50\n",
      "\u001b[1m591/591\u001b[0m \u001b[32m━━━━━━━━━━━━━━━━━━━━\u001b[0m\u001b[37m\u001b[0m \u001b[1m5s\u001b[0m 9ms/step - accuracy: 0.9929 - loss: 0.0226 - val_accuracy: 0.9943 - val_loss: 0.0253 - learning_rate: 5.0000e-04\n",
      "Epoch 27/50\n",
      "\u001b[1m591/591\u001b[0m \u001b[32m━━━━━━━━━━━━━━━━━━━━\u001b[0m\u001b[37m\u001b[0m \u001b[1m5s\u001b[0m 9ms/step - accuracy: 0.9932 - loss: 0.0210 - val_accuracy: 0.9943 - val_loss: 0.0242 - learning_rate: 2.5000e-04\n",
      "Epoch 28/50\n",
      "\u001b[1m591/591\u001b[0m \u001b[32m━━━━━━━━━━━━━━━━━━━━\u001b[0m\u001b[37m\u001b[0m \u001b[1m6s\u001b[0m 9ms/step - accuracy: 0.9931 - loss: 0.0195 - val_accuracy: 0.9940 - val_loss: 0.0275 - learning_rate: 2.5000e-04\n",
      "Epoch 29/50\n",
      "\u001b[1m591/591\u001b[0m \u001b[32m━━━━━━━━━━━━━━━━━━━━\u001b[0m\u001b[37m\u001b[0m \u001b[1m6s\u001b[0m 10ms/step - accuracy: 0.9932 - loss: 0.0204 - val_accuracy: 0.9950 - val_loss: 0.0239 - learning_rate: 2.5000e-04\n",
      "Epoch 30/50\n",
      "\u001b[1m591/591\u001b[0m \u001b[32m━━━━━━━━━━━━━━━━━━━━\u001b[0m\u001b[37m\u001b[0m \u001b[1m5s\u001b[0m 9ms/step - accuracy: 0.9939 - loss: 0.0183 - val_accuracy: 0.9948 - val_loss: 0.0253 - learning_rate: 2.5000e-04\n",
      "Epoch 31/50\n",
      "\u001b[1m591/591\u001b[0m \u001b[32m━━━━━━━━━━━━━━━━━━━━\u001b[0m\u001b[37m\u001b[0m \u001b[1m5s\u001b[0m 9ms/step - accuracy: 0.9949 - loss: 0.0183 - val_accuracy: 0.9945 - val_loss: 0.0267 - learning_rate: 2.5000e-04\n",
      "Epoch 32/50\n",
      "\u001b[1m591/591\u001b[0m \u001b[32m━━━━━━━━━━━━━━━━━━━━\u001b[0m\u001b[37m\u001b[0m \u001b[1m5s\u001b[0m 9ms/step - accuracy: 0.9948 - loss: 0.0156 - val_accuracy: 0.9950 - val_loss: 0.0273 - learning_rate: 2.5000e-04\n",
      "Epoch 33/50\n",
      "\u001b[1m591/591\u001b[0m \u001b[32m━━━━━━━━━━━━━━━━━━━━\u001b[0m\u001b[37m\u001b[0m \u001b[1m6s\u001b[0m 9ms/step - accuracy: 0.9945 - loss: 0.0172 - val_accuracy: 0.9950 - val_loss: 0.0268 - learning_rate: 1.2500e-04\n",
      "Epoch 34/50\n",
      "\u001b[1m591/591\u001b[0m \u001b[32m━━━━━━━━━━━━━━━━━━━━\u001b[0m\u001b[37m\u001b[0m \u001b[1m6s\u001b[0m 9ms/step - accuracy: 0.9944 - loss: 0.0169 - val_accuracy: 0.9950 - val_loss: 0.0256 - learning_rate: 1.2500e-04\n",
      "Epoch 35/50\n",
      "\u001b[1m591/591\u001b[0m \u001b[32m━━━━━━━━━━━━━━━━━━━━\u001b[0m\u001b[37m\u001b[0m \u001b[1m6s\u001b[0m 10ms/step - accuracy: 0.9954 - loss: 0.0156 - val_accuracy: 0.9950 - val_loss: 0.0262 - learning_rate: 1.2500e-04\n",
      "Epoch 36/50\n",
      "\u001b[1m591/591\u001b[0m \u001b[32m━━━━━━━━━━━━━━━━━━━━\u001b[0m\u001b[37m\u001b[0m \u001b[1m5s\u001b[0m 9ms/step - accuracy: 0.9947 - loss: 0.0155 - val_accuracy: 0.9952 - val_loss: 0.0259 - learning_rate: 6.2500e-05\n",
      "Epoch 37/50\n",
      "\u001b[1m591/591\u001b[0m \u001b[32m━━━━━━━━━━━━━━━━━━━━\u001b[0m\u001b[37m\u001b[0m \u001b[1m5s\u001b[0m 9ms/step - accuracy: 0.9957 - loss: 0.0139 - val_accuracy: 0.9952 - val_loss: 0.0269 - learning_rate: 6.2500e-05\n",
      "Epoch 38/50\n",
      "\u001b[1m591/591\u001b[0m \u001b[32m━━━━━━━━━━━━━━━━━━━━\u001b[0m\u001b[37m\u001b[0m \u001b[1m5s\u001b[0m 9ms/step - accuracy: 0.9950 - loss: 0.0152 - val_accuracy: 0.9950 - val_loss: 0.0263 - learning_rate: 6.2500e-05\n",
      "Epoch 39/50\n",
      "\u001b[1m591/591\u001b[0m \u001b[32m━━━━━━━━━━━━━━━━━━━━\u001b[0m\u001b[37m\u001b[0m \u001b[1m5s\u001b[0m 9ms/step - accuracy: 0.9946 - loss: 0.0159 - val_accuracy: 0.9948 - val_loss: 0.0259 - learning_rate: 3.1250e-05\n"
     ]
    }
   ],
   "source": [
    "epochs = 50\n",
    "batch_size = 64 \n",
    "\n",
    "#Reduce lr when no improvement\n",
    "reduce_lr = ReduceLROnPlateau(\n",
    "    monitor='val_loss',  \n",
    "    factor=0.5,  \n",
    "    patience=3,  \n",
    "    min_lr=1e-6  \n",
    ")\n",
    "\n",
    "#Early stopping\n",
    "early_stopping = EarlyStopping(\n",
    "    monitor='val_loss',  \n",
    "    patience=10, \n",
    "    restore_best_weights=True \n",
    ")\n",
    "\n",
    "history = model.fit(X_train, y_train,\n",
    "                    validation_data=(X_val, y_val),\n",
    "                    epochs=epochs,\n",
    "                    batch_size=batch_size,\n",
    "                    callbacks=[reduce_lr, early_stopping],\n",
    "                    verbose=1 )"
   ]
  },
  {
   "cell_type": "code",
   "execution_count": 14,
   "id": "eeabe4ad",
   "metadata": {
    "execution": {
     "iopub.execute_input": "2024-09-03T06:15:29.090256Z",
     "iopub.status.busy": "2024-09-03T06:15:29.089859Z",
     "iopub.status.idle": "2024-09-03T06:15:29.648172Z",
     "shell.execute_reply": "2024-09-03T06:15:29.647247Z"
    },
    "papermill": {
     "duration": 0.887765,
     "end_time": "2024-09-03T06:15:29.650461",
     "exception": false,
     "start_time": "2024-09-03T06:15:28.762696",
     "status": "completed"
    },
    "tags": []
   },
   "outputs": [
    {
     "name": "stdout",
     "output_type": "stream",
     "text": [
      "Best validation loss: 0.023901229724287987\n",
      "Best validation accuracy: 0.9952380657196045\n"
     ]
    },
    {
     "data": {
      "image/png": "[encoded data removed]",
      "text/plain": [
       "<Figure size 640x480 with 1 Axes>"
      ]
     },
     "metadata": {},
     "output_type": "display_data"
    },
    {
     "data": {
      "image/png": "[encoded data removed]",
      "text/plain": [
       "<Figure size 640x480 with 1 Axes>"
      ]
     },
     "metadata": {},
     "output_type": "display_data"
    }
   ],
   "source": [
    "df_history = pd.DataFrame(history.history)\n",
    "print(f\"Best validation loss: {df_history['val_loss'].min()}\")\n",
    "print(f\"Best validation accuracy: {df_history['val_accuracy'].max()}\")\n",
    "df_history.loc[1:, ['loss', 'val_loss']].plot()\n",
    "df_history.loc[1:, ['accuracy', 'val_accuracy']].plot();"
   ]
  },
  {
   "cell_type": "markdown",
   "id": "051712b0",
   "metadata": {
    "papermill": {
     "duration": 0.327588,
     "end_time": "2024-09-03T06:15:30.303544",
     "exception": false,
     "start_time": "2024-09-03T06:15:29.975956",
     "status": "completed"
    },
    "tags": []
   },
   "source": [
    "Here are some logs of model iterations:\n",
    "layers.Flatten(),\n",
    "layers.Dense(64, activation=\"relu\"),\n",
    "layers.Dropout(0.2),\n",
    "layers.Dense(10, activation=\"softmax\")\n",
    "    layers.Conv2D(filters=32, kernel_size=3, activation=\"relu\", padding=\"same\"),\n",
    "    layers.BatchNormalization(),\n",
    "    layers.MaxPool2D(),\n",
    "\n",
    "    layers.Conv2D(filters=64, kernel_size=3, activation=\"relu\", padding=\"same\"),\n",
    "    layers.BatchNormalization(),\n",
    "    layers.MaxPool2D(),\n",
    "\n",
    "    layers.Conv2D(filters=128, kernel_size=3, activation=\"relu\", padding=\"same\"),\n",
    "    layers.BatchNormalization(),\n",
    "\n",
    "    layers.GlobalAveragePooling2D(),\n",
    "\n",
    "    layers.Flatten(),\n",
    "    layers.Dense(64, activation=\"relu\"),\n",
    "    layers.Dropout(0.2),\n",
    "    layers.Dense(10, activation=\"softmax\")\n",
    "    Best validation loss: 0.042459383606910706\n",
    "    Best validation accuracy: 0.9902380704879761\n",
    "---\n",
    "    Added image augmentation\n",
    "    Best validation loss: 0.02707359939813614\n",
    "    Best validation accuracy: 0.9923809766769409\n",
    "---\n",
    "    Removed Global average pooling\n",
    "    Best validation loss: 0.04386579617857933\n",
    "    Best validation accuracy: 0.9902380704879761\n",
    "---\n",
    "    Reincorporated global average pooling\n",
    "    Added reducelr and earlystopping callbacks\n",
    "    increased number of neurons in dense layer to 128\n",
    "    Best validation loss: 0.029842104762792587\n",
    "    Best validation accuracy: 0.9933333396911621\n",
    "---\n",
    "    Added .2 Dropout after first two Conv2D blocks\n",
    "    50 Epochs\n",
    "    Best validation loss: 0.020908987149596214\n",
    "    Best validation accuracy: 0.9950000047683716\n",
    "---\n",
    "    Removed Global average pooling\n",
    "    Changed dense head:\n",
    "    layers.Flatten(),\n",
    "    layers.Dense(32, activation=\"relu\"),\n",
    "    layers.Dropout(0.2),\n",
    "    layers.BatchNormalization(),\n",
    "    layers.Dense(32, activation=\"relu\"),\n",
    "    layers.Dropout(0.2),\n",
    "    layers.Dense(10, activation=\"softmax\")\n",
    "    Best validation loss: 0.02835962548851967\n",
    "    Best validation accuracy: 0.9940476417541504"
   ]
  },
  {
   "cell_type": "code",
   "execution_count": 15,
   "id": "3e681882",
   "metadata": {
    "execution": {
     "iopub.execute_input": "2024-09-03T06:15:31.000193Z",
     "iopub.status.busy": "2024-09-03T06:15:30.999819Z",
     "iopub.status.idle": "2024-09-03T06:15:31.074396Z",
     "shell.execute_reply": "2024-09-03T06:15:31.073416Z"
    },
    "papermill": {
     "duration": 0.40017,
     "end_time": "2024-09-03T06:15:31.076971",
     "exception": false,
     "start_time": "2024-09-03T06:15:30.676801",
     "status": "completed"
    },
    "tags": []
   },
   "outputs": [],
   "source": [
    "model.save(\"/kaggle/working/mnist_model.keras\")"
   ]
  },
  {
   "cell_type": "code",
   "execution_count": 16,
   "id": "f345de4f",
   "metadata": {
    "execution": {
     "iopub.execute_input": "2024-09-03T06:15:31.746766Z",
     "iopub.status.busy": "2024-09-03T06:15:31.746062Z",
     "iopub.status.idle": "2024-09-03T06:15:31.750465Z",
     "shell.execute_reply": "2024-09-03T06:15:31.749566Z"
    },
    "papermill": {
     "duration": 0.345914,
     "end_time": "2024-09-03T06:15:31.752398",
     "exception": false,
     "start_time": "2024-09-03T06:15:31.406484",
     "status": "completed"
    },
    "tags": []
   },
   "outputs": [],
   "source": [
    "# import os\n",
    "\n",
    "# file_path = '/kaggle/working/mnist_model.keras'\n",
    "\n",
    "\n",
    "# if os.path.exists(file_path):\n",
    "#     os.remove(file_path)\n",
    "#     print(f'{file_path} has been removed.')\n",
    "# else:\n",
    "#     print(f'The file {file_path} does not exist.')"
   ]
  },
  {
   "cell_type": "markdown",
   "id": "587b45e1",
   "metadata": {
    "papermill": {
     "duration": 0.326165,
     "end_time": "2024-09-03T06:15:32.401445",
     "exception": false,
     "start_time": "2024-09-03T06:15:32.075280",
     "status": "completed"
    },
    "tags": []
   },
   "source": [
    "# Create Submission #\n",
    "\n",
    "For competition submission"
   ]
  },
  {
   "cell_type": "code",
   "execution_count": 17,
   "id": "eb17b74c",
   "metadata": {
    "execution": {
     "iopub.execute_input": "2024-09-03T06:15:33.050642Z",
     "iopub.status.busy": "2024-09-03T06:15:33.050222Z",
     "iopub.status.idle": "2024-09-03T06:15:35.517061Z",
     "shell.execute_reply": "2024-09-03T06:15:35.516270Z"
    },
    "papermill": {
     "duration": 2.791765,
     "end_time": "2024-09-03T06:15:35.519336",
     "exception": false,
     "start_time": "2024-09-03T06:15:32.727571",
     "status": "completed"
    },
    "tags": []
   },
   "outputs": [
    {
     "name": "stdout",
     "output_type": "stream",
     "text": [
      "\u001b[1m875/875\u001b[0m \u001b[32m━━━━━━━━━━━━━━━━━━━━\u001b[0m\u001b[37m\u001b[0m \u001b[1m2s\u001b[0m 2ms/step\n"
     ]
    }
   ],
   "source": [
    "preds = model.predict(X_test)\n",
    "preds = np.argmax(preds,axis=1) #Get highest probability\n",
    "\n",
    "preds = pd.DataFrame({\n",
    "    'Label': preds\n",
    "}, index=df_test.index)\n",
    "preds.index += 1 #ImageIds should start at 1\n",
    "preds.index.name = 'ImageID'\n",
    "\n",
    "preds.to_csv(\"submission.csv\")"
   ]
  },
  {
   "cell_type": "code",
   "execution_count": 18,
   "id": "8687ec38",
   "metadata": {
    "execution": {
     "iopub.execute_input": "2024-09-03T06:15:36.221475Z",
     "iopub.status.busy": "2024-09-03T06:15:36.220986Z",
     "iopub.status.idle": "2024-09-03T06:15:36.232635Z",
     "shell.execute_reply": "2024-09-03T06:15:36.231870Z"
    },
    "papermill": {
     "duration": 0.341268,
     "end_time": "2024-09-03T06:15:36.234518",
     "exception": false,
     "start_time": "2024-09-03T06:15:35.893250",
     "status": "completed"
    },
    "tags": []
   },
   "outputs": [
    {
     "data": {
      "text/html": [
       "<div>\n",
       "<style scoped>\n",
       "    .dataframe tbody tr th:only-of-type {\n",
       "        vertical-align: middle;\n",
       "    }\n",
       "\n",
       "    .dataframe tbody tr th {\n",
       "        vertical-align: top;\n",
       "    }\n",
       "\n",
       "    .dataframe thead th {\n",
       "        text-align: right;\n",
       "    }\n",
       "</style>\n",
       "<table border=\"1\" class=\"dataframe\">\n",
       "  <thead>\n",
       "    <tr style=\"text-align: right;\">\n",
       "      <th></th>\n",
       "      <th>Label</th>\n",
       "    </tr>\n",
       "    <tr>\n",
       "      <th>ImageID</th>\n",
       "      <th></th>\n",
       "    </tr>\n",
       "  </thead>\n",
       "  <tbody>\n",
       "    <tr>\n",
       "      <th>1</th>\n",
       "      <td>2</td>\n",
       "    </tr>\n",
       "    <tr>\n",
       "      <th>2</th>\n",
       "      <td>0</td>\n",
       "    </tr>\n",
       "    <tr>\n",
       "      <th>3</th>\n",
       "      <td>9</td>\n",
       "    </tr>\n",
       "    <tr>\n",
       "      <th>4</th>\n",
       "      <td>0</td>\n",
       "    </tr>\n",
       "    <tr>\n",
       "      <th>5</th>\n",
       "      <td>3</td>\n",
       "    </tr>\n",
       "    <tr>\n",
       "      <th>...</th>\n",
       "      <td>...</td>\n",
       "    </tr>\n",
       "    <tr>\n",
       "      <th>27996</th>\n",
       "      <td>9</td>\n",
       "    </tr>\n",
       "    <tr>\n",
       "      <th>27997</th>\n",
       "      <td>7</td>\n",
       "    </tr>\n",
       "    <tr>\n",
       "      <th>27998</th>\n",
       "      <td>3</td>\n",
       "    </tr>\n",
       "    <tr>\n",
       "      <th>27999</th>\n",
       "      <td>9</td>\n",
       "    </tr>\n",
       "    <tr>\n",
       "      <th>28000</th>\n",
       "      <td>2</td>\n",
       "    </tr>\n",
       "  </tbody>\n",
       "</table>\n",
       "<p>28000 rows × 1 columns</p>\n",
       "</div>"
      ],
      "text/plain": [
       "         Label\n",
       "ImageID       \n",
       "1            2\n",
       "2            0\n",
       "3            9\n",
       "4            0\n",
       "5            3\n",
       "...        ...\n",
       "27996        9\n",
       "27997        7\n",
       "27998        3\n",
       "27999        9\n",
       "28000        2\n",
       "\n",
       "[28000 rows x 1 columns]"
      ]
     },
     "execution_count": 18,
     "metadata": {},
     "output_type": "execute_result"
    }
   ],
   "source": [
    "preds"
   ]
  },
  {
   "cell_type": "code",
   "execution_count": null,
   "id": "cb9c2cd0",
   "metadata": {
    "papermill": {
     "duration": 0.327332,
     "end_time": "2024-09-03T06:15:36.887385",
     "exception": false,
     "start_time": "2024-09-03T06:15:36.560053",
     "status": "completed"
    },
    "tags": []
   },
   "outputs": [],
   "source": []
  }
 ],
 "metadata": {
  "kaggle": {
   "accelerator": "gpu",
   "dataSources": [
    {
     "databundleVersionId": 861823,
     "sourceId": 3004,
     "sourceType": "competition"
    }
   ],
   "dockerImageVersionId": 30761,
   "isGpuEnabled": true,
   "isInternetEnabled": true,
   "language": "python",
   "sourceType": "notebook"
  },
  "kernelspec": {
   "display_name": "Python 3",
   "language": "python",
   "name": "python3"
  },
  "language_info": {
   "codemirror_mode": {
    "name": "ipython",
    "version": 3
   },
   "file_extension": ".py",
   "mimetype": "text/x-python",
   "name": "python",
   "nbconvert_exporter": "python",
   "pygments_lexer": "ipython3",
   "version": "3.10.14"
  },
  "papermill": {
   "default_parameters": {},
   "duration": 265.94454,
   "end_time": "2024-09-03T06:15:40.138928",
   "environment_variables": {},
   "exception": null,
   "input_path": "__notebook__.ipynb",
   "output_path": "__notebook__.ipynb",
   "parameters": {},
   "start_time": "2024-09-03T06:11:14.194388",
   "version": "2.6.0"
  }
 },
 "nbformat": 4,
 "nbformat_minor": 5
}
