{
 "cells": [
  {
   "cell_type": "markdown",
   "id": "5c630712",
   "metadata": {
    "papermill": {
     "duration": 0.00849,
     "end_time": "2024-09-01T07:57:39.627611",
     "exception": false,
     "start_time": "2024-09-01T07:57:39.619121",
     "status": "completed"
    },
    "tags": []
   },
   "source": [
    "This is my first attempt at creating and training my own neural network. I'll be training my model on the MNIST dataset to recognize numbers 0-9. This will be a convolutional neural network built from scratch. The problem is simple enough to not really need a pretrained base model.\n",
    "\n",
    "\n",
    "I may try to expand this project to include a drawing board where users can draw their own numbers and have my model predict them."
   ]
  },
  {
   "cell_type": "markdown",
   "id": "4de9747f",
   "metadata": {
    "papermill": {
     "duration": 0.008059,
     "end_time": "2024-09-01T07:57:39.643715",
     "exception": false,
     "start_time": "2024-09-01T07:57:39.635656",
     "status": "completed"
    },
    "tags": []
   },
   "source": [
    "# Imports #"
   ]
  },
  {
   "cell_type": "code",
   "execution_count": 1,
   "id": "73ec634e",
   "metadata": {
    "_cell_guid": "b1076dfc-b9ad-4769-8c92-a6c4dae69d19",
    "_uuid": "8f2839f25d086af736a60e9eeb907d3b93b6e0e5",
    "execution": {
     "iopub.execute_input": "2024-09-01T07:57:39.660501Z",
     "iopub.status.busy": "2024-09-01T07:57:39.660145Z",
     "iopub.status.idle": "2024-09-01T07:57:53.409899Z",
     "shell.execute_reply": "2024-09-01T07:57:53.408873Z"
    },
    "papermill": {
     "duration": 13.760926,
     "end_time": "2024-09-01T07:57:53.412238",
     "exception": false,
     "start_time": "2024-09-01T07:57:39.651312",
     "status": "completed"
    },
    "tags": []
   },
   "outputs": [],
   "source": [
    "import numpy as np \n",
    "import pandas as pd \n",
    "import tensorflow as tf\n",
    "import matplotlib.pyplot as plt\n",
    "import seaborn as sns\n",
    "\n",
    "from tensorflow import keras\n",
    "from tensorflow.keras import layers\n",
    "from tensorflow.keras.utils import to_categorical\n",
    "from tensorflow.keras.callbacks import ReduceLROnPlateau, EarlyStopping\n",
    "from sklearn.model_selection import train_test_split\n",
    "\n",
    "\n",
    "SEED = 31415\n",
    "\n",
    "np.random.seed(SEED)\n",
    "tf.random.set_seed(SEED)"
   ]
  },
  {
   "cell_type": "markdown",
   "id": "0f1b8b49",
   "metadata": {
    "papermill": {
     "duration": 0.007471,
     "end_time": "2024-09-01T07:57:53.427806",
     "exception": false,
     "start_time": "2024-09-01T07:57:53.420335",
     "status": "completed"
    },
    "tags": []
   },
   "source": [
    "# Loading Data #"
   ]
  },
  {
   "cell_type": "code",
   "execution_count": 2,
   "id": "83547d87",
   "metadata": {
    "execution": {
     "iopub.execute_input": "2024-09-01T07:57:53.444520Z",
     "iopub.status.busy": "2024-09-01T07:57:53.443944Z",
     "iopub.status.idle": "2024-09-01T07:57:58.099087Z",
     "shell.execute_reply": "2024-09-01T07:57:58.098079Z"
    },
    "papermill": {
     "duration": 4.666273,
     "end_time": "2024-09-01T07:57:58.101731",
     "exception": false,
     "start_time": "2024-09-01T07:57:53.435458",
     "status": "completed"
    },
    "tags": []
   },
   "outputs": [
    {
     "name": "stdout",
     "output_type": "stream",
     "text": [
      "(42000, 785)\n"
     ]
    },
    {
     "data": {
      "text/html": [
       "<div>\n",
       "<style scoped>\n",
       "    .dataframe tbody tr th:only-of-type {\n",
       "        vertical-align: middle;\n",
       "    }\n",
       "\n",
       "    .dataframe tbody tr th {\n",
       "        vertical-align: top;\n",
       "    }\n",
       "\n",
       "    .dataframe thead th {\n",
       "        text-align: right;\n",
       "    }\n",
       "</style>\n",
       "<table border=\"1\" class=\"dataframe\">\n",
       "  <thead>\n",
       "    <tr style=\"text-align: right;\">\n",
       "      <th></th>\n",
       "      <th>label</th>\n",
       "      <th>pixel0</th>\n",
       "      <th>pixel1</th>\n",
       "      <th>pixel2</th>\n",
       "      <th>pixel3</th>\n",
       "      <th>pixel4</th>\n",
       "      <th>pixel5</th>\n",
       "      <th>pixel6</th>\n",
       "      <th>pixel7</th>\n",
       "      <th>pixel8</th>\n",
       "      <th>...</th>\n",
       "      <th>pixel774</th>\n",
       "      <th>pixel775</th>\n",
       "      <th>pixel776</th>\n",
       "      <th>pixel777</th>\n",
       "      <th>pixel778</th>\n",
       "      <th>pixel779</th>\n",
       "      <th>pixel780</th>\n",
       "      <th>pixel781</th>\n",
       "      <th>pixel782</th>\n",
       "      <th>pixel783</th>\n",
       "    </tr>\n",
       "  </thead>\n",
       "  <tbody>\n",
       "    <tr>\n",
       "      <th>0</th>\n",
       "      <td>1</td>\n",
       "      <td>0</td>\n",
       "      <td>0</td>\n",
       "      <td>0</td>\n",
       "      <td>0</td>\n",
       "      <td>0</td>\n",
       "      <td>0</td>\n",
       "      <td>0</td>\n",
       "      <td>0</td>\n",
       "      <td>0</td>\n",
       "      <td>...</td>\n",
       "      <td>0</td>\n",
       "      <td>0</td>\n",
       "      <td>0</td>\n",
       "      <td>0</td>\n",
       "      <td>0</td>\n",
       "      <td>0</td>\n",
       "      <td>0</td>\n",
       "      <td>0</td>\n",
       "      <td>0</td>\n",
       "      <td>0</td>\n",
       "    </tr>\n",
       "    <tr>\n",
       "      <th>1</th>\n",
       "      <td>0</td>\n",
       "      <td>0</td>\n",
       "      <td>0</td>\n",
       "      <td>0</td>\n",
       "      <td>0</td>\n",
       "      <td>0</td>\n",
       "      <td>0</td>\n",
       "      <td>0</td>\n",
       "      <td>0</td>\n",
       "      <td>0</td>\n",
       "      <td>...</td>\n",
       "      <td>0</td>\n",
       "      <td>0</td>\n",
       "      <td>0</td>\n",
       "      <td>0</td>\n",
       "      <td>0</td>\n",
       "      <td>0</td>\n",
       "      <td>0</td>\n",
       "      <td>0</td>\n",
       "      <td>0</td>\n",
       "      <td>0</td>\n",
       "    </tr>\n",
       "    <tr>\n",
       "      <th>2</th>\n",
       "      <td>1</td>\n",
       "      <td>0</td>\n",
       "      <td>0</td>\n",
       "      <td>0</td>\n",
       "      <td>0</td>\n",
       "      <td>0</td>\n",
       "      <td>0</td>\n",
       "      <td>0</td>\n",
       "      <td>0</td>\n",
       "      <td>0</td>\n",
       "      <td>...</td>\n",
       "      <td>0</td>\n",
       "      <td>0</td>\n",
       "      <td>0</td>\n",
       "      <td>0</td>\n",
       "      <td>0</td>\n",
       "      <td>0</td>\n",
       "      <td>0</td>\n",
       "      <td>0</td>\n",
       "      <td>0</td>\n",
       "      <td>0</td>\n",
       "    </tr>\n",
       "    <tr>\n",
       "      <th>3</th>\n",
       "      <td>4</td>\n",
       "      <td>0</td>\n",
       "      <td>0</td>\n",
       "      <td>0</td>\n",
       "      <td>0</td>\n",
       "      <td>0</td>\n",
       "      <td>0</td>\n",
       "      <td>0</td>\n",
       "      <td>0</td>\n",
       "      <td>0</td>\n",
       "      <td>...</td>\n",
       "      <td>0</td>\n",
       "      <td>0</td>\n",
       "      <td>0</td>\n",
       "      <td>0</td>\n",
       "      <td>0</td>\n",
       "      <td>0</td>\n",
       "      <td>0</td>\n",
       "      <td>0</td>\n",
       "      <td>0</td>\n",
       "      <td>0</td>\n",
       "    </tr>\n",
       "    <tr>\n",
       "      <th>4</th>\n",
       "      <td>0</td>\n",
       "      <td>0</td>\n",
       "      <td>0</td>\n",
       "      <td>0</td>\n",
       "      <td>0</td>\n",
       "      <td>0</td>\n",
       "      <td>0</td>\n",
       "      <td>0</td>\n",
       "      <td>0</td>\n",
       "      <td>0</td>\n",
       "      <td>...</td>\n",
       "      <td>0</td>\n",
       "      <td>0</td>\n",
       "      <td>0</td>\n",
       "      <td>0</td>\n",
       "      <td>0</td>\n",
       "      <td>0</td>\n",
       "      <td>0</td>\n",
       "      <td>0</td>\n",
       "      <td>0</td>\n",
       "      <td>0</td>\n",
       "    </tr>\n",
       "  </tbody>\n",
       "</table>\n",
       "<p>5 rows × 785 columns</p>\n",
       "</div>"
      ],
      "text/plain": [
       "   label  pixel0  pixel1  pixel2  pixel3  pixel4  pixel5  pixel6  pixel7  \\\n",
       "0      1       0       0       0       0       0       0       0       0   \n",
       "1      0       0       0       0       0       0       0       0       0   \n",
       "2      1       0       0       0       0       0       0       0       0   \n",
       "3      4       0       0       0       0       0       0       0       0   \n",
       "4      0       0       0       0       0       0       0       0       0   \n",
       "\n",
       "   pixel8  ...  pixel774  pixel775  pixel776  pixel777  pixel778  pixel779  \\\n",
       "0       0  ...         0         0         0         0         0         0   \n",
       "1       0  ...         0         0         0         0         0         0   \n",
       "2       0  ...         0         0         0         0         0         0   \n",
       "3       0  ...         0         0         0         0         0         0   \n",
       "4       0  ...         0         0         0         0         0         0   \n",
       "\n",
       "   pixel780  pixel781  pixel782  pixel783  \n",
       "0         0         0         0         0  \n",
       "1         0         0         0         0  \n",
       "2         0         0         0         0  \n",
       "3         0         0         0         0  \n",
       "4         0         0         0         0  \n",
       "\n",
       "[5 rows x 785 columns]"
      ]
     },
     "execution_count": 2,
     "metadata": {},
     "output_type": "execute_result"
    }
   ],
   "source": [
    "df_train = pd.read_csv(\"../input/digit-recognizer/train.csv\")\n",
    "print(df_train.shape)\n",
    "df_train.head()"
   ]
  },
  {
   "cell_type": "code",
   "execution_count": 3,
   "id": "e156d813",
   "metadata": {
    "execution": {
     "iopub.execute_input": "2024-09-01T07:57:58.120346Z",
     "iopub.status.busy": "2024-09-01T07:57:58.119711Z",
     "iopub.status.idle": "2024-09-01T07:58:00.948713Z",
     "shell.execute_reply": "2024-09-01T07:58:00.947807Z"
    },
    "papermill": {
     "duration": 2.840439,
     "end_time": "2024-09-01T07:58:00.950891",
     "exception": false,
     "start_time": "2024-09-01T07:57:58.110452",
     "status": "completed"
    },
    "tags": []
   },
   "outputs": [
    {
     "name": "stdout",
     "output_type": "stream",
     "text": [
      "(28000, 784)\n"
     ]
    },
    {
     "data": {
      "text/html": [
       "<div>\n",
       "<style scoped>\n",
       "    .dataframe tbody tr th:only-of-type {\n",
       "        vertical-align: middle;\n",
       "    }\n",
       "\n",
       "    .dataframe tbody tr th {\n",
       "        vertical-align: top;\n",
       "    }\n",
       "\n",
       "    .dataframe thead th {\n",
       "        text-align: right;\n",
       "    }\n",
       "</style>\n",
       "<table border=\"1\" class=\"dataframe\">\n",
       "  <thead>\n",
       "    <tr style=\"text-align: right;\">\n",
       "      <th></th>\n",
       "      <th>pixel0</th>\n",
       "      <th>pixel1</th>\n",
       "      <th>pixel2</th>\n",
       "      <th>pixel3</th>\n",
       "      <th>pixel4</th>\n",
       "      <th>pixel5</th>\n",
       "      <th>pixel6</th>\n",
       "      <th>pixel7</th>\n",
       "      <th>pixel8</th>\n",
       "      <th>pixel9</th>\n",
       "      <th>...</th>\n",
       "      <th>pixel774</th>\n",
       "      <th>pixel775</th>\n",
       "      <th>pixel776</th>\n",
       "      <th>pixel777</th>\n",
       "      <th>pixel778</th>\n",
       "      <th>pixel779</th>\n",
       "      <th>pixel780</th>\n",
       "      <th>pixel781</th>\n",
       "      <th>pixel782</th>\n",
       "      <th>pixel783</th>\n",
       "    </tr>\n",
       "  </thead>\n",
       "  <tbody>\n",
       "    <tr>\n",
       "      <th>0</th>\n",
       "      <td>0</td>\n",
       "      <td>0</td>\n",
       "      <td>0</td>\n",
       "      <td>0</td>\n",
       "      <td>0</td>\n",
       "      <td>0</td>\n",
       "      <td>0</td>\n",
       "      <td>0</td>\n",
       "      <td>0</td>\n",
       "      <td>0</td>\n",
       "      <td>...</td>\n",
       "      <td>0</td>\n",
       "      <td>0</td>\n",
       "      <td>0</td>\n",
       "      <td>0</td>\n",
       "      <td>0</td>\n",
       "      <td>0</td>\n",
       "      <td>0</td>\n",
       "      <td>0</td>\n",
       "      <td>0</td>\n",
       "      <td>0</td>\n",
       "    </tr>\n",
       "    <tr>\n",
       "      <th>1</th>\n",
       "      <td>0</td>\n",
       "      <td>0</td>\n",
       "      <td>0</td>\n",
       "      <td>0</td>\n",
       "      <td>0</td>\n",
       "      <td>0</td>\n",
       "      <td>0</td>\n",
       "      <td>0</td>\n",
       "      <td>0</td>\n",
       "      <td>0</td>\n",
       "      <td>...</td>\n",
       "      <td>0</td>\n",
       "      <td>0</td>\n",
       "      <td>0</td>\n",
       "      <td>0</td>\n",
       "      <td>0</td>\n",
       "      <td>0</td>\n",
       "      <td>0</td>\n",
       "      <td>0</td>\n",
       "      <td>0</td>\n",
       "      <td>0</td>\n",
       "    </tr>\n",
       "    <tr>\n",
       "      <th>2</th>\n",
       "      <td>0</td>\n",
       "      <td>0</td>\n",
       "      <td>0</td>\n",
       "      <td>0</td>\n",
       "      <td>0</td>\n",
       "      <td>0</td>\n",
       "      <td>0</td>\n",
       "      <td>0</td>\n",
       "      <td>0</td>\n",
       "      <td>0</td>\n",
       "      <td>...</td>\n",
       "      <td>0</td>\n",
       "      <td>0</td>\n",
       "      <td>0</td>\n",
       "      <td>0</td>\n",
       "      <td>0</td>\n",
       "      <td>0</td>\n",
       "      <td>0</td>\n",
       "      <td>0</td>\n",
       "      <td>0</td>\n",
       "      <td>0</td>\n",
       "    </tr>\n",
       "    <tr>\n",
       "      <th>3</th>\n",
       "      <td>0</td>\n",
       "      <td>0</td>\n",
       "      <td>0</td>\n",
       "      <td>0</td>\n",
       "      <td>0</td>\n",
       "      <td>0</td>\n",
       "      <td>0</td>\n",
       "      <td>0</td>\n",
       "      <td>0</td>\n",
       "      <td>0</td>\n",
       "      <td>...</td>\n",
       "      <td>0</td>\n",
       "      <td>0</td>\n",
       "      <td>0</td>\n",
       "      <td>0</td>\n",
       "      <td>0</td>\n",
       "      <td>0</td>\n",
       "      <td>0</td>\n",
       "      <td>0</td>\n",
       "      <td>0</td>\n",
       "      <td>0</td>\n",
       "    </tr>\n",
       "    <tr>\n",
       "      <th>4</th>\n",
       "      <td>0</td>\n",
       "      <td>0</td>\n",
       "      <td>0</td>\n",
       "      <td>0</td>\n",
       "      <td>0</td>\n",
       "      <td>0</td>\n",
       "      <td>0</td>\n",
       "      <td>0</td>\n",
       "      <td>0</td>\n",
       "      <td>0</td>\n",
       "      <td>...</td>\n",
       "      <td>0</td>\n",
       "      <td>0</td>\n",
       "      <td>0</td>\n",
       "      <td>0</td>\n",
       "      <td>0</td>\n",
       "      <td>0</td>\n",
       "      <td>0</td>\n",
       "      <td>0</td>\n",
       "      <td>0</td>\n",
       "      <td>0</td>\n",
       "    </tr>\n",
       "  </tbody>\n",
       "</table>\n",
       "<p>5 rows × 784 columns</p>\n",
       "</div>"
      ],
      "text/plain": [
       "   pixel0  pixel1  pixel2  pixel3  pixel4  pixel5  pixel6  pixel7  pixel8  \\\n",
       "0       0       0       0       0       0       0       0       0       0   \n",
       "1       0       0       0       0       0       0       0       0       0   \n",
       "2       0       0       0       0       0       0       0       0       0   \n",
       "3       0       0       0       0       0       0       0       0       0   \n",
       "4       0       0       0       0       0       0       0       0       0   \n",
       "\n",
       "   pixel9  ...  pixel774  pixel775  pixel776  pixel777  pixel778  pixel779  \\\n",
       "0       0  ...         0         0         0         0         0         0   \n",
       "1       0  ...         0         0         0         0         0         0   \n",
       "2       0  ...         0         0         0         0         0         0   \n",
       "3       0  ...         0         0         0         0         0         0   \n",
       "4       0  ...         0         0         0         0         0         0   \n",
       "\n",
       "   pixel780  pixel781  pixel782  pixel783  \n",
       "0         0         0         0         0  \n",
       "1         0         0         0         0  \n",
       "2         0         0         0         0  \n",
       "3         0         0         0         0  \n",
       "4         0         0         0         0  \n",
       "\n",
       "[5 rows x 784 columns]"
      ]
     },
     "execution_count": 3,
     "metadata": {},
     "output_type": "execute_result"
    }
   ],
   "source": [
    "df_test = pd.read_csv(\"../input/digit-recognizer/test.csv\")\n",
    "print(df_test.shape)\n",
    "df_test.head()"
   ]
  },
  {
   "cell_type": "markdown",
   "id": "52a5ac4a",
   "metadata": {
    "papermill": {
     "duration": 0.009475,
     "end_time": "2024-09-01T07:58:00.970106",
     "exception": false,
     "start_time": "2024-09-01T07:58:00.960631",
     "status": "completed"
    },
    "tags": []
   },
   "source": [
    "Each image is represented using 784 features. Each feature represents a pixel in a 28\\*28 grid. The pixels are numbered left to right, top to bottom where the top left pixel is pixel0 and the pixel directly below it is pixel28. The `label` feature in the training data is the represented number.\n",
    "\n",
    "Each pixel can have a value from 0-255 where 0 is black and 255 is white."
   ]
  },
  {
   "cell_type": "markdown",
   "id": "d0ce3f0c",
   "metadata": {
    "papermill": {
     "duration": 0.009688,
     "end_time": "2024-09-01T07:58:00.989880",
     "exception": false,
     "start_time": "2024-09-01T07:58:00.980192",
     "status": "completed"
    },
    "tags": []
   },
   "source": [
    "# Data Analysis #\n",
    "\n"
   ]
  },
  {
   "cell_type": "code",
   "execution_count": 4,
   "id": "193846e6",
   "metadata": {
    "execution": {
     "iopub.execute_input": "2024-09-01T07:58:01.011024Z",
     "iopub.status.busy": "2024-09-01T07:58:01.010069Z",
     "iopub.status.idle": "2024-09-01T07:58:01.062397Z",
     "shell.execute_reply": "2024-09-01T07:58:01.061216Z"
    },
    "papermill": {
     "duration": 0.065142,
     "end_time": "2024-09-01T07:58:01.064934",
     "exception": false,
     "start_time": "2024-09-01T07:58:00.999792",
     "status": "completed"
    },
    "tags": []
   },
   "outputs": [
    {
     "name": "stdout",
     "output_type": "stream",
     "text": [
      "Missing values:\n",
      "0\n",
      "0\n",
      "------------------\n",
      "int64    785\n",
      "Name: count, dtype: int64\n",
      "int64    784\n",
      "Name: count, dtype: int64\n"
     ]
    }
   ],
   "source": [
    "print(\"Missing values:\")\n",
    "print(df_train.isna().sum().sum())\n",
    "print(df_test.isna().sum().sum())\n",
    "print(\"------------------\")\n",
    "print(df_train.dtypes.value_counts())\n",
    "print(df_test.dtypes.value_counts())"
   ]
  },
  {
   "cell_type": "markdown",
   "id": "ada36c86",
   "metadata": {
    "papermill": {
     "duration": 0.008473,
     "end_time": "2024-09-01T07:58:01.082111",
     "exception": false,
     "start_time": "2024-09-01T07:58:01.073638",
     "status": "completed"
    },
    "tags": []
   },
   "source": [
    "The dataset has no missing values and all columns are appropriately encoded as type `int64`. This reduces the amount of preprocessing needed."
   ]
  },
  {
   "cell_type": "code",
   "execution_count": 5,
   "id": "4969e441",
   "metadata": {
    "execution": {
     "iopub.execute_input": "2024-09-01T07:58:01.100569Z",
     "iopub.status.busy": "2024-09-01T07:58:01.100008Z",
     "iopub.status.idle": "2024-09-01T07:58:01.396937Z",
     "shell.execute_reply": "2024-09-01T07:58:01.396020Z"
    },
    "papermill": {
     "duration": 0.308367,
     "end_time": "2024-09-01T07:58:01.399019",
     "exception": false,
     "start_time": "2024-09-01T07:58:01.090652",
     "status": "completed"
    },
    "tags": []
   },
   "outputs": [
    {
     "data": {
      "text/plain": [
       "<Axes: xlabel='label', ylabel='count'>"
      ]
     },
     "execution_count": 5,
     "metadata": {},
     "output_type": "execute_result"
    },
    {
     "data": {
      "image/png": "[encoded data removed]",
      "text/plain": [
       "<Figure size 640x480 with 1 Axes>"
      ]
     },
     "metadata": {},
     "output_type": "display_data"
    }
   ],
   "source": [
    "sns.countplot(x=\"label\", data=df_train)"
   ]
  },
  {
   "cell_type": "markdown",
   "id": "aaf218f0",
   "metadata": {
    "papermill": {
     "duration": 0.008877,
     "end_time": "2024-09-01T07:58:01.417359",
     "exception": false,
     "start_time": "2024-09-01T07:58:01.408482",
     "status": "completed"
    },
    "tags": []
   },
   "source": [
    "We have a fairly even distribution of numbers within the training set."
   ]
  },
  {
   "cell_type": "markdown",
   "id": "95dda37a",
   "metadata": {
    "papermill": {
     "duration": 0.008791,
     "end_time": "2024-09-01T07:58:01.435393",
     "exception": false,
     "start_time": "2024-09-01T07:58:01.426602",
     "status": "completed"
    },
    "tags": []
   },
   "source": [
    "# Preprocessing #\n",
    "\n",
    "We normalize the data and reshape it so that the CNN can handle it. "
   ]
  },
  {
   "cell_type": "code",
   "execution_count": 6,
   "id": "da2c1af1",
   "metadata": {
    "execution": {
     "iopub.execute_input": "2024-09-01T07:58:01.454698Z",
     "iopub.status.busy": "2024-09-01T07:58:01.454300Z",
     "iopub.status.idle": "2024-09-01T07:58:01.856035Z",
     "shell.execute_reply": "2024-09-01T07:58:01.855203Z"
    },
    "papermill": {
     "duration": 0.414125,
     "end_time": "2024-09-01T07:58:01.858372",
     "exception": false,
     "start_time": "2024-09-01T07:58:01.444247",
     "status": "completed"
    },
    "tags": []
   },
   "outputs": [],
   "source": [
    "X_train = df_train.copy()\n",
    "y_train = X_train.pop(\"label\")\n",
    "X_test = df_test.copy()\n",
    "\n",
    "#Normalize data\n",
    "X_train = X_train / 255\n",
    "X_test = X_test / 255\n",
    "\n",
    "#Reshape data, 28x28, 1 channel\n",
    "X_train = X_train.values.reshape(-1, 28, 28, 1)\n",
    "X_test = X_test.values.reshape(-1, 28, 28, 1)"
   ]
  },
  {
   "cell_type": "markdown",
   "id": "1e18e35e",
   "metadata": {
    "papermill": {
     "duration": 0.008712,
     "end_time": "2024-09-01T07:58:01.876385",
     "exception": false,
     "start_time": "2024-09-01T07:58:01.867673",
     "status": "completed"
    },
    "tags": []
   },
   "source": [
    "Here's a look at the first couple entries of our training data"
   ]
  },
  {
   "cell_type": "code",
   "execution_count": 7,
   "id": "8ab16cb1",
   "metadata": {
    "execution": {
     "iopub.execute_input": "2024-09-01T07:58:01.895679Z",
     "iopub.status.busy": "2024-09-01T07:58:01.895323Z",
     "iopub.status.idle": "2024-09-01T07:58:03.483201Z",
     "shell.execute_reply": "2024-09-01T07:58:03.482208Z"
    },
    "papermill": {
     "duration": 1.599892,
     "end_time": "2024-09-01T07:58:03.485307",
     "exception": false,
     "start_time": "2024-09-01T07:58:01.885415",
     "status": "completed"
    },
    "tags": []
   },
   "outputs": [
    {
     "data": {
      "image/png": "[encoded data removed]",
      "text/plain": [
       "<Figure size 2000x800 with 24 Axes>"
      ]
     },
     "metadata": {},
     "output_type": "display_data"
    }
   ],
   "source": [
    "#Display first n X_train entries\n",
    "n_rows, n_cols = 3, 8\n",
    "fig, axs = plt.subplots(n_rows, n_cols, figsize=(20,8))\n",
    "axs = axs.flatten()\n",
    "for i in range(n_rows*n_cols):\n",
    "    axs[i].imshow(X_train[i], cmap=\"gray\") \n",
    "    axs[i].set_title(y_train[i])\n",
    "    axs[i].axis(\"off\")"
   ]
  },
  {
   "cell_type": "markdown",
   "id": "d4925cfd",
   "metadata": {
    "papermill": {
     "duration": 0.009186,
     "end_time": "2024-09-01T07:58:03.504231",
     "exception": false,
     "start_time": "2024-09-01T07:58:03.495045",
     "status": "completed"
    },
    "tags": []
   },
   "source": [
    "One-hot encoding the target also helps the CNN training. "
   ]
  },
  {
   "cell_type": "code",
   "execution_count": 8,
   "id": "1f8c2340",
   "metadata": {
    "execution": {
     "iopub.execute_input": "2024-09-01T07:58:03.524613Z",
     "iopub.status.busy": "2024-09-01T07:58:03.524035Z",
     "iopub.status.idle": "2024-09-01T07:58:03.530116Z",
     "shell.execute_reply": "2024-09-01T07:58:03.529208Z"
    },
    "papermill": {
     "duration": 0.018462,
     "end_time": "2024-09-01T07:58:03.532150",
     "exception": false,
     "start_time": "2024-09-01T07:58:03.513688",
     "status": "completed"
    },
    "tags": []
   },
   "outputs": [],
   "source": [
    "#e.g. 4 becomes [0,0,0,0,1,0,0,0,0,0]\n",
    "y_train = to_categorical(y_train, num_classes=10)"
   ]
  },
  {
   "cell_type": "markdown",
   "id": "21fe71b7",
   "metadata": {
    "papermill": {
     "duration": 0.00981,
     "end_time": "2024-09-01T07:58:03.551392",
     "exception": false,
     "start_time": "2024-09-01T07:58:03.541582",
     "status": "completed"
    },
    "tags": []
   },
   "source": [
    "Now, we'll extract our validation data from our training data. Given that the dataset is relatively large, we'll use 10% of the training data as validation."
   ]
  },
  {
   "cell_type": "code",
   "execution_count": 9,
   "id": "16a08ed5",
   "metadata": {
    "execution": {
     "iopub.execute_input": "2024-09-01T07:58:03.572940Z",
     "iopub.status.busy": "2024-09-01T07:58:03.572071Z",
     "iopub.status.idle": "2024-09-01T07:58:03.963638Z",
     "shell.execute_reply": "2024-09-01T07:58:03.962484Z"
    },
    "papermill": {
     "duration": 0.404723,
     "end_time": "2024-09-01T07:58:03.966031",
     "exception": false,
     "start_time": "2024-09-01T07:58:03.561308",
     "status": "completed"
    },
    "tags": []
   },
   "outputs": [],
   "source": [
    "X_train, X_val, y_train, y_val = train_test_split(X_train, y_train, test_size=0.1, random_state=SEED)"
   ]
  },
  {
   "cell_type": "markdown",
   "id": "20807caa",
   "metadata": {
    "papermill": {
     "duration": 0.009461,
     "end_time": "2024-09-01T07:58:03.985398",
     "exception": false,
     "start_time": "2024-09-01T07:58:03.975937",
     "status": "completed"
    },
    "tags": []
   },
   "source": [
    "# Model Creation and Training #\n",
    "\n",
    "To create the convolutional base, I opted for 3 blocks with batch normalization, same padding, and global pooling. Same padding is important since the images are already low resolution and border values seem to mainly be 0. Global pooling and batch normalization should help reduce overfitting and allow the model to capture the overall patterns."
   ]
  },
  {
   "cell_type": "markdown",
   "id": "2e0dbd8b",
   "metadata": {
    "papermill": {
     "duration": 0.009473,
     "end_time": "2024-09-01T07:58:04.004407",
     "exception": false,
     "start_time": "2024-09-01T07:58:03.994934",
     "status": "completed"
    },
    "tags": []
   },
   "source": [
    "To help prevent overfitting, I also created a model to augment data. I chose to incorporate small amounts of rotation, zoom, and translation. I chose to exclude image flipping since that could drastically change the number being represented, especially with 6 and 9. I also tried to change brightness but the images seemed very sensitive to brightness changes and i couldn't get it to produce recognizable images consistently.\n",
    "\n",
    "The augmentation seemed to work well because the validation loss followed the training loss much better after applying it."
   ]
  },
  {
   "cell_type": "code",
   "execution_count": 10,
   "id": "43b039ae",
   "metadata": {
    "execution": {
     "iopub.execute_input": "2024-09-01T07:58:04.024863Z",
     "iopub.status.busy": "2024-09-01T07:58:04.024542Z",
     "iopub.status.idle": "2024-09-01T07:58:07.541523Z",
     "shell.execute_reply": "2024-09-01T07:58:07.540544Z"
    },
    "papermill": {
     "duration": 3.529628,
     "end_time": "2024-09-01T07:58:07.543547",
     "exception": false,
     "start_time": "2024-09-01T07:58:04.013919",
     "status": "completed"
    },
    "tags": []
   },
   "outputs": [
    {
     "data": {
      "image/png": "[encoded data removed]",
      "text/plain": [
       "<Figure size 2000x800 with 24 Axes>"
      ]
     },
     "metadata": {},
     "output_type": "display_data"
    }
   ],
   "source": [
    "#Data augmentation\n",
    "image_gen = keras.Sequential([\n",
    "    layers.RandomRotation(0.05),\n",
    "    layers.RandomZoom(0.15),\n",
    "    layers.RandomHeight(0.1),\n",
    "    layers.RandomWidth(0.1),\n",
    "    layers.Resizing(28, 28),\n",
    "])\n",
    "\n",
    "#Show some augmented examples\n",
    "image_index = 14\n",
    "n_rows, n_cols = 3, 8\n",
    "\n",
    "example = X_train[image_index]\n",
    "label = np.argmax(y_train[image_index])\n",
    "augmented_examples = [image_gen(example) for _ in range(n_rows*n_cols)]\n",
    "\n",
    "fig, axs = plt.subplots(n_rows, n_cols, figsize=(20, 8))\n",
    "axs = axs.flatten()\n",
    "for i in range(n_rows * n_cols):\n",
    "    axs[i].imshow(augmented_examples[i], cmap=\"gray\")\n",
    "    axs[i].set_title(label)\n",
    "    axs[i].axis(\"off\")"
   ]
  },
  {
   "cell_type": "code",
   "execution_count": 11,
   "id": "ce53c42d",
   "metadata": {
    "execution": {
     "iopub.execute_input": "2024-09-01T07:58:07.565788Z",
     "iopub.status.busy": "2024-09-01T07:58:07.565391Z",
     "iopub.status.idle": "2024-09-01T07:58:07.698772Z",
     "shell.execute_reply": "2024-09-01T07:58:07.697902Z"
    },
    "papermill": {
     "duration": 0.146597,
     "end_time": "2024-09-01T07:58:07.700762",
     "exception": false,
     "start_time": "2024-09-01T07:58:07.554165",
     "status": "completed"
    },
    "tags": []
   },
   "outputs": [
    {
     "data": {
      "text/html": [
       "<pre style=\"white-space:pre;overflow-x:auto;line-height:normal;font-family:Menlo,'DejaVu Sans Mono',consolas,'Courier New',monospace\"><span style=\"font-weight: bold\">Model: \"sequential_1\"</span>\n",
       "</pre>\n"
      ],
      "text/plain": [
       "\u001b[1mModel: \"sequential_1\"\u001b[0m\n"
      ]
     },
     "metadata": {},
     "output_type": "display_data"
    },
    {
     "data": {
      "text/html": [
       "<pre style=\"white-space:pre;overflow-x:auto;line-height:normal;font-family:Menlo,'DejaVu Sans Mono',consolas,'Courier New',monospace\">┏━━━━━━━━━━━━━━━━━━━━━━━━━━━━━━━━━┳━━━━━━━━━━━━━━━━━━━━━━━━┳━━━━━━━━━━━━━━━┓\n",
       "┃<span style=\"font-weight: bold\"> Layer (type)                    </span>┃<span style=\"font-weight: bold\"> Output Shape           </span>┃<span style=\"font-weight: bold\">       Param # </span>┃\n",
       "┡━━━━━━━━━━━━━━━━━━━━━━━━━━━━━━━━━╇━━━━━━━━━━━━━━━━━━━━━━━━╇━━━━━━━━━━━━━━━┩\n",
       "│ random_rotation_1               │ (<span style=\"color: #00d7ff; text-decoration-color: #00d7ff\">None</span>, <span style=\"color: #00af00; text-decoration-color: #00af00\">28</span>, <span style=\"color: #00af00; text-decoration-color: #00af00\">28</span>, <span style=\"color: #00af00; text-decoration-color: #00af00\">1</span>)      │             <span style=\"color: #00af00; text-decoration-color: #00af00\">0</span> │\n",
       "│ (<span style=\"color: #0087ff; text-decoration-color: #0087ff\">RandomRotation</span>)                │                        │               │\n",
       "├─────────────────────────────────┼────────────────────────┼───────────────┤\n",
       "│ random_zoom_1 (<span style=\"color: #0087ff; text-decoration-color: #0087ff\">RandomZoom</span>)      │ (<span style=\"color: #00d7ff; text-decoration-color: #00d7ff\">None</span>, <span style=\"color: #00af00; text-decoration-color: #00af00\">28</span>, <span style=\"color: #00af00; text-decoration-color: #00af00\">28</span>, <span style=\"color: #00af00; text-decoration-color: #00af00\">1</span>)      │             <span style=\"color: #00af00; text-decoration-color: #00af00\">0</span> │\n",
       "├─────────────────────────────────┼────────────────────────┼───────────────┤\n",
       "│ random_height_1 (<span style=\"color: #0087ff; text-decoration-color: #0087ff\">RandomHeight</span>)  │ (<span style=\"color: #00d7ff; text-decoration-color: #00d7ff\">None</span>, <span style=\"color: #00d7ff; text-decoration-color: #00d7ff\">None</span>, <span style=\"color: #00af00; text-decoration-color: #00af00\">28</span>, <span style=\"color: #00af00; text-decoration-color: #00af00\">1</span>)    │             <span style=\"color: #00af00; text-decoration-color: #00af00\">0</span> │\n",
       "├─────────────────────────────────┼────────────────────────┼───────────────┤\n",
       "│ random_width_1 (<span style=\"color: #0087ff; text-decoration-color: #0087ff\">RandomWidth</span>)    │ (<span style=\"color: #00d7ff; text-decoration-color: #00d7ff\">None</span>, <span style=\"color: #00d7ff; text-decoration-color: #00d7ff\">None</span>, <span style=\"color: #00d7ff; text-decoration-color: #00d7ff\">None</span>, <span style=\"color: #00af00; text-decoration-color: #00af00\">1</span>)  │             <span style=\"color: #00af00; text-decoration-color: #00af00\">0</span> │\n",
       "├─────────────────────────────────┼────────────────────────┼───────────────┤\n",
       "│ resizing_1 (<span style=\"color: #0087ff; text-decoration-color: #0087ff\">Resizing</span>)           │ (<span style=\"color: #00d7ff; text-decoration-color: #00d7ff\">None</span>, <span style=\"color: #00af00; text-decoration-color: #00af00\">28</span>, <span style=\"color: #00af00; text-decoration-color: #00af00\">28</span>, <span style=\"color: #00af00; text-decoration-color: #00af00\">1</span>)      │             <span style=\"color: #00af00; text-decoration-color: #00af00\">0</span> │\n",
       "├─────────────────────────────────┼────────────────────────┼───────────────┤\n",
       "│ conv2d (<span style=\"color: #0087ff; text-decoration-color: #0087ff\">Conv2D</span>)                 │ (<span style=\"color: #00d7ff; text-decoration-color: #00d7ff\">None</span>, <span style=\"color: #00af00; text-decoration-color: #00af00\">28</span>, <span style=\"color: #00af00; text-decoration-color: #00af00\">28</span>, <span style=\"color: #00af00; text-decoration-color: #00af00\">32</span>)     │           <span style=\"color: #00af00; text-decoration-color: #00af00\">320</span> │\n",
       "├─────────────────────────────────┼────────────────────────┼───────────────┤\n",
       "│ batch_normalization             │ (<span style=\"color: #00d7ff; text-decoration-color: #00d7ff\">None</span>, <span style=\"color: #00af00; text-decoration-color: #00af00\">28</span>, <span style=\"color: #00af00; text-decoration-color: #00af00\">28</span>, <span style=\"color: #00af00; text-decoration-color: #00af00\">32</span>)     │           <span style=\"color: #00af00; text-decoration-color: #00af00\">128</span> │\n",
       "│ (<span style=\"color: #0087ff; text-decoration-color: #0087ff\">BatchNormalization</span>)            │                        │               │\n",
       "├─────────────────────────────────┼────────────────────────┼───────────────┤\n",
       "│ max_pooling2d (<span style=\"color: #0087ff; text-decoration-color: #0087ff\">MaxPooling2D</span>)    │ (<span style=\"color: #00d7ff; text-decoration-color: #00d7ff\">None</span>, <span style=\"color: #00af00; text-decoration-color: #00af00\">14</span>, <span style=\"color: #00af00; text-decoration-color: #00af00\">14</span>, <span style=\"color: #00af00; text-decoration-color: #00af00\">32</span>)     │             <span style=\"color: #00af00; text-decoration-color: #00af00\">0</span> │\n",
       "├─────────────────────────────────┼────────────────────────┼───────────────┤\n",
       "│ dropout (<span style=\"color: #0087ff; text-decoration-color: #0087ff\">Dropout</span>)               │ (<span style=\"color: #00d7ff; text-decoration-color: #00d7ff\">None</span>, <span style=\"color: #00af00; text-decoration-color: #00af00\">14</span>, <span style=\"color: #00af00; text-decoration-color: #00af00\">14</span>, <span style=\"color: #00af00; text-decoration-color: #00af00\">32</span>)     │             <span style=\"color: #00af00; text-decoration-color: #00af00\">0</span> │\n",
       "├─────────────────────────────────┼────────────────────────┼───────────────┤\n",
       "│ conv2d_1 (<span style=\"color: #0087ff; text-decoration-color: #0087ff\">Conv2D</span>)               │ (<span style=\"color: #00d7ff; text-decoration-color: #00d7ff\">None</span>, <span style=\"color: #00af00; text-decoration-color: #00af00\">14</span>, <span style=\"color: #00af00; text-decoration-color: #00af00\">14</span>, <span style=\"color: #00af00; text-decoration-color: #00af00\">64</span>)     │        <span style=\"color: #00af00; text-decoration-color: #00af00\">18,496</span> │\n",
       "├─────────────────────────────────┼────────────────────────┼───────────────┤\n",
       "│ batch_normalization_1           │ (<span style=\"color: #00d7ff; text-decoration-color: #00d7ff\">None</span>, <span style=\"color: #00af00; text-decoration-color: #00af00\">14</span>, <span style=\"color: #00af00; text-decoration-color: #00af00\">14</span>, <span style=\"color: #00af00; text-decoration-color: #00af00\">64</span>)     │           <span style=\"color: #00af00; text-decoration-color: #00af00\">256</span> │\n",
       "│ (<span style=\"color: #0087ff; text-decoration-color: #0087ff\">BatchNormalization</span>)            │                        │               │\n",
       "├─────────────────────────────────┼────────────────────────┼───────────────┤\n",
       "│ max_pooling2d_1 (<span style=\"color: #0087ff; text-decoration-color: #0087ff\">MaxPooling2D</span>)  │ (<span style=\"color: #00d7ff; text-decoration-color: #00d7ff\">None</span>, <span style=\"color: #00af00; text-decoration-color: #00af00\">7</span>, <span style=\"color: #00af00; text-decoration-color: #00af00\">7</span>, <span style=\"color: #00af00; text-decoration-color: #00af00\">64</span>)       │             <span style=\"color: #00af00; text-decoration-color: #00af00\">0</span> │\n",
       "├─────────────────────────────────┼────────────────────────┼───────────────┤\n",
       "│ dropout_1 (<span style=\"color: #0087ff; text-decoration-color: #0087ff\">Dropout</span>)             │ (<span style=\"color: #00d7ff; text-decoration-color: #00d7ff\">None</span>, <span style=\"color: #00af00; text-decoration-color: #00af00\">7</span>, <span style=\"color: #00af00; text-decoration-color: #00af00\">7</span>, <span style=\"color: #00af00; text-decoration-color: #00af00\">64</span>)       │             <span style=\"color: #00af00; text-decoration-color: #00af00\">0</span> │\n",
       "├─────────────────────────────────┼────────────────────────┼───────────────┤\n",
       "│ conv2d_2 (<span style=\"color: #0087ff; text-decoration-color: #0087ff\">Conv2D</span>)               │ (<span style=\"color: #00d7ff; text-decoration-color: #00d7ff\">None</span>, <span style=\"color: #00af00; text-decoration-color: #00af00\">7</span>, <span style=\"color: #00af00; text-decoration-color: #00af00\">7</span>, <span style=\"color: #00af00; text-decoration-color: #00af00\">128</span>)      │        <span style=\"color: #00af00; text-decoration-color: #00af00\">73,856</span> │\n",
       "├─────────────────────────────────┼────────────────────────┼───────────────┤\n",
       "│ batch_normalization_2           │ (<span style=\"color: #00d7ff; text-decoration-color: #00d7ff\">None</span>, <span style=\"color: #00af00; text-decoration-color: #00af00\">7</span>, <span style=\"color: #00af00; text-decoration-color: #00af00\">7</span>, <span style=\"color: #00af00; text-decoration-color: #00af00\">128</span>)      │           <span style=\"color: #00af00; text-decoration-color: #00af00\">512</span> │\n",
       "│ (<span style=\"color: #0087ff; text-decoration-color: #0087ff\">BatchNormalization</span>)            │                        │               │\n",
       "├─────────────────────────────────┼────────────────────────┼───────────────┤\n",
       "│ global_average_pooling2d        │ (<span style=\"color: #00d7ff; text-decoration-color: #00d7ff\">None</span>, <span style=\"color: #00af00; text-decoration-color: #00af00\">128</span>)            │             <span style=\"color: #00af00; text-decoration-color: #00af00\">0</span> │\n",
       "│ (<span style=\"color: #0087ff; text-decoration-color: #0087ff\">GlobalAveragePooling2D</span>)        │                        │               │\n",
       "├─────────────────────────────────┼────────────────────────┼───────────────┤\n",
       "│ flatten (<span style=\"color: #0087ff; text-decoration-color: #0087ff\">Flatten</span>)               │ (<span style=\"color: #00d7ff; text-decoration-color: #00d7ff\">None</span>, <span style=\"color: #00af00; text-decoration-color: #00af00\">128</span>)            │             <span style=\"color: #00af00; text-decoration-color: #00af00\">0</span> │\n",
       "├─────────────────────────────────┼────────────────────────┼───────────────┤\n",
       "│ dense (<span style=\"color: #0087ff; text-decoration-color: #0087ff\">Dense</span>)                   │ (<span style=\"color: #00d7ff; text-decoration-color: #00d7ff\">None</span>, <span style=\"color: #00af00; text-decoration-color: #00af00\">128</span>)            │        <span style=\"color: #00af00; text-decoration-color: #00af00\">16,512</span> │\n",
       "├─────────────────────────────────┼────────────────────────┼───────────────┤\n",
       "│ dropout_2 (<span style=\"color: #0087ff; text-decoration-color: #0087ff\">Dropout</span>)             │ (<span style=\"color: #00d7ff; text-decoration-color: #00d7ff\">None</span>, <span style=\"color: #00af00; text-decoration-color: #00af00\">128</span>)            │             <span style=\"color: #00af00; text-decoration-color: #00af00\">0</span> │\n",
       "├─────────────────────────────────┼────────────────────────┼───────────────┤\n",
       "│ dense_1 (<span style=\"color: #0087ff; text-decoration-color: #0087ff\">Dense</span>)                 │ (<span style=\"color: #00d7ff; text-decoration-color: #00d7ff\">None</span>, <span style=\"color: #00af00; text-decoration-color: #00af00\">10</span>)             │         <span style=\"color: #00af00; text-decoration-color: #00af00\">1,290</span> │\n",
       "└─────────────────────────────────┴────────────────────────┴───────────────┘\n",
       "</pre>\n"
      ],
      "text/plain": [
       "┏━━━━━━━━━━━━━━━━━━━━━━━━━━━━━━━━━┳━━━━━━━━━━━━━━━━━━━━━━━━┳━━━━━━━━━━━━━━━┓\n",
       "┃\u001b[1m \u001b[0m\u001b[1mLayer (type)                   \u001b[0m\u001b[1m \u001b[0m┃\u001b[1m \u001b[0m\u001b[1mOutput Shape          \u001b[0m\u001b[1m \u001b[0m┃\u001b[1m \u001b[0m\u001b[1m      Param #\u001b[0m\u001b[1m \u001b[0m┃\n",
       "┡━━━━━━━━━━━━━━━━━━━━━━━━━━━━━━━━━╇━━━━━━━━━━━━━━━━━━━━━━━━╇━━━━━━━━━━━━━━━┩\n",
       "│ random_rotation_1               │ (\u001b[38;5;45mNone\u001b[0m, \u001b[38;5;34m28\u001b[0m, \u001b[38;5;34m28\u001b[0m, \u001b[38;5;34m1\u001b[0m)      │             \u001b[38;5;34m0\u001b[0m │\n",
       "│ (\u001b[38;5;33mRandomRotation\u001b[0m)                │                        │               │\n",
       "├─────────────────────────────────┼────────────────────────┼───────────────┤\n",
       "│ random_zoom_1 (\u001b[38;5;33mRandomZoom\u001b[0m)      │ (\u001b[38;5;45mNone\u001b[0m, \u001b[38;5;34m28\u001b[0m, \u001b[38;5;34m28\u001b[0m, \u001b[38;5;34m1\u001b[0m)      │             \u001b[38;5;34m0\u001b[0m │\n",
       "├─────────────────────────────────┼────────────────────────┼───────────────┤\n",
       "│ random_height_1 (\u001b[38;5;33mRandomHeight\u001b[0m)  │ (\u001b[38;5;45mNone\u001b[0m, \u001b[38;5;45mNone\u001b[0m, \u001b[38;5;34m28\u001b[0m, \u001b[38;5;34m1\u001b[0m)    │             \u001b[38;5;34m0\u001b[0m │\n",
       "├─────────────────────────────────┼────────────────────────┼───────────────┤\n",
       "│ random_width_1 (\u001b[38;5;33mRandomWidth\u001b[0m)    │ (\u001b[38;5;45mNone\u001b[0m, \u001b[38;5;45mNone\u001b[0m, \u001b[38;5;45mNone\u001b[0m, \u001b[38;5;34m1\u001b[0m)  │             \u001b[38;5;34m0\u001b[0m │\n",
       "├─────────────────────────────────┼────────────────────────┼───────────────┤\n",
       "│ resizing_1 (\u001b[38;5;33mResizing\u001b[0m)           │ (\u001b[38;5;45mNone\u001b[0m, \u001b[38;5;34m28\u001b[0m, \u001b[38;5;34m28\u001b[0m, \u001b[38;5;34m1\u001b[0m)      │             \u001b[38;5;34m0\u001b[0m │\n",
       "├─────────────────────────────────┼────────────────────────┼───────────────┤\n",
       "│ conv2d (\u001b[38;5;33mConv2D\u001b[0m)                 │ (\u001b[38;5;45mNone\u001b[0m, \u001b[38;5;34m28\u001b[0m, \u001b[38;5;34m28\u001b[0m, \u001b[38;5;34m32\u001b[0m)     │           \u001b[38;5;34m320\u001b[0m │\n",
       "├─────────────────────────────────┼────────────────────────┼───────────────┤\n",
       "│ batch_normalization             │ (\u001b[38;5;45mNone\u001b[0m, \u001b[38;5;34m28\u001b[0m, \u001b[38;5;34m28\u001b[0m, \u001b[38;5;34m32\u001b[0m)     │           \u001b[38;5;34m128\u001b[0m │\n",
       "│ (\u001b[38;5;33mBatchNormalization\u001b[0m)            │                        │               │\n",
       "├─────────────────────────────────┼────────────────────────┼───────────────┤\n",
       "│ max_pooling2d (\u001b[38;5;33mMaxPooling2D\u001b[0m)    │ (\u001b[38;5;45mNone\u001b[0m, \u001b[38;5;34m14\u001b[0m, \u001b[38;5;34m14\u001b[0m, \u001b[38;5;34m32\u001b[0m)     │             \u001b[38;5;34m0\u001b[0m │\n",
       "├─────────────────────────────────┼────────────────────────┼───────────────┤\n",
       "│ dropout (\u001b[38;5;33mDropout\u001b[0m)               │ (\u001b[38;5;45mNone\u001b[0m, \u001b[38;5;34m14\u001b[0m, \u001b[38;5;34m14\u001b[0m, \u001b[38;5;34m32\u001b[0m)     │             \u001b[38;5;34m0\u001b[0m │\n",
       "├─────────────────────────────────┼────────────────────────┼───────────────┤\n",
       "│ conv2d_1 (\u001b[38;5;33mConv2D\u001b[0m)               │ (\u001b[38;5;45mNone\u001b[0m, \u001b[38;5;34m14\u001b[0m, \u001b[38;5;34m14\u001b[0m, \u001b[38;5;34m64\u001b[0m)     │        \u001b[38;5;34m18,496\u001b[0m │\n",
       "├─────────────────────────────────┼────────────────────────┼───────────────┤\n",
       "│ batch_normalization_1           │ (\u001b[38;5;45mNone\u001b[0m, \u001b[38;5;34m14\u001b[0m, \u001b[38;5;34m14\u001b[0m, \u001b[38;5;34m64\u001b[0m)     │           \u001b[38;5;34m256\u001b[0m │\n",
       "│ (\u001b[38;5;33mBatchNormalization\u001b[0m)            │                        │               │\n",
       "├─────────────────────────────────┼────────────────────────┼───────────────┤\n",
       "│ max_pooling2d_1 (\u001b[38;5;33mMaxPooling2D\u001b[0m)  │ (\u001b[38;5;45mNone\u001b[0m, \u001b[38;5;34m7\u001b[0m, \u001b[38;5;34m7\u001b[0m, \u001b[38;5;34m64\u001b[0m)       │             \u001b[38;5;34m0\u001b[0m │\n",
       "├─────────────────────────────────┼────────────────────────┼───────────────┤\n",
       "│ dropout_1 (\u001b[38;5;33mDropout\u001b[0m)             │ (\u001b[38;5;45mNone\u001b[0m, \u001b[38;5;34m7\u001b[0m, \u001b[38;5;34m7\u001b[0m, \u001b[38;5;34m64\u001b[0m)       │             \u001b[38;5;34m0\u001b[0m │\n",
       "├─────────────────────────────────┼────────────────────────┼───────────────┤\n",
       "│ conv2d_2 (\u001b[38;5;33mConv2D\u001b[0m)               │ (\u001b[38;5;45mNone\u001b[0m, \u001b[38;5;34m7\u001b[0m, \u001b[38;5;34m7\u001b[0m, \u001b[38;5;34m128\u001b[0m)      │        \u001b[38;5;34m73,856\u001b[0m │\n",
       "├─────────────────────────────────┼────────────────────────┼───────────────┤\n",
       "│ batch_normalization_2           │ (\u001b[38;5;45mNone\u001b[0m, \u001b[38;5;34m7\u001b[0m, \u001b[38;5;34m7\u001b[0m, \u001b[38;5;34m128\u001b[0m)      │           \u001b[38;5;34m512\u001b[0m │\n",
       "│ (\u001b[38;5;33mBatchNormalization\u001b[0m)            │                        │               │\n",
       "├─────────────────────────────────┼────────────────────────┼───────────────┤\n",
       "│ global_average_pooling2d        │ (\u001b[38;5;45mNone\u001b[0m, \u001b[38;5;34m128\u001b[0m)            │             \u001b[38;5;34m0\u001b[0m │\n",
       "│ (\u001b[38;5;33mGlobalAveragePooling2D\u001b[0m)        │                        │               │\n",
       "├─────────────────────────────────┼────────────────────────┼───────────────┤\n",
       "│ flatten (\u001b[38;5;33mFlatten\u001b[0m)               │ (\u001b[38;5;45mNone\u001b[0m, \u001b[38;5;34m128\u001b[0m)            │             \u001b[38;5;34m0\u001b[0m │\n",
       "├─────────────────────────────────┼────────────────────────┼───────────────┤\n",
       "│ dense (\u001b[38;5;33mDense\u001b[0m)                   │ (\u001b[38;5;45mNone\u001b[0m, \u001b[38;5;34m128\u001b[0m)            │        \u001b[38;5;34m16,512\u001b[0m │\n",
       "├─────────────────────────────────┼────────────────────────┼───────────────┤\n",
       "│ dropout_2 (\u001b[38;5;33mDropout\u001b[0m)             │ (\u001b[38;5;45mNone\u001b[0m, \u001b[38;5;34m128\u001b[0m)            │             \u001b[38;5;34m0\u001b[0m │\n",
       "├─────────────────────────────────┼────────────────────────┼───────────────┤\n",
       "│ dense_1 (\u001b[38;5;33mDense\u001b[0m)                 │ (\u001b[38;5;45mNone\u001b[0m, \u001b[38;5;34m10\u001b[0m)             │         \u001b[38;5;34m1,290\u001b[0m │\n",
       "└─────────────────────────────────┴────────────────────────┴───────────────┘\n"
      ]
     },
     "metadata": {},
     "output_type": "display_data"
    },
    {
     "data": {
      "text/html": [
       "<pre style=\"white-space:pre;overflow-x:auto;line-height:normal;font-family:Menlo,'DejaVu Sans Mono',consolas,'Courier New',monospace\"><span style=\"font-weight: bold\"> Total params: </span><span style=\"color: #00af00; text-decoration-color: #00af00\">111,370</span> (435.04 KB)\n",
       "</pre>\n"
      ],
      "text/plain": [
       "\u001b[1m Total params: \u001b[0m\u001b[38;5;34m111,370\u001b[0m (435.04 KB)\n"
      ]
     },
     "metadata": {},
     "output_type": "display_data"
    },
    {
     "data": {
      "text/html": [
       "<pre style=\"white-space:pre;overflow-x:auto;line-height:normal;font-family:Menlo,'DejaVu Sans Mono',consolas,'Courier New',monospace\"><span style=\"font-weight: bold\"> Trainable params: </span><span style=\"color: #00af00; text-decoration-color: #00af00\">110,922</span> (433.29 KB)\n",
       "</pre>\n"
      ],
      "text/plain": [
       "\u001b[1m Trainable params: \u001b[0m\u001b[38;5;34m110,922\u001b[0m (433.29 KB)\n"
      ]
     },
     "metadata": {},
     "output_type": "display_data"
    },
    {
     "data": {
      "text/html": [
       "<pre style=\"white-space:pre;overflow-x:auto;line-height:normal;font-family:Menlo,'DejaVu Sans Mono',consolas,'Courier New',monospace\"><span style=\"font-weight: bold\"> Non-trainable params: </span><span style=\"color: #00af00; text-decoration-color: #00af00\">448</span> (1.75 KB)\n",
       "</pre>\n"
      ],
      "text/plain": [
       "\u001b[1m Non-trainable params: \u001b[0m\u001b[38;5;34m448\u001b[0m (1.75 KB)\n"
      ]
     },
     "metadata": {},
     "output_type": "display_data"
    }
   ],
   "source": [
    "model = keras.Sequential([\n",
    "    layers.InputLayer(shape=(28, 28, 1)),\n",
    "    \n",
    "    #Image augmentation\n",
    "    layers.RandomRotation(0.05),\n",
    "    layers.RandomZoom(0.15),\n",
    "    layers.RandomHeight(0.1),\n",
    "    layers.RandomWidth(0.1),\n",
    "    layers.Resizing(28, 28),\n",
    "    \n",
    "    #Block 1\n",
    "    layers.Conv2D(filters=32, kernel_size=3, activation=\"relu\", padding=\"same\"),\n",
    "    layers.BatchNormalization(),\n",
    "    layers.MaxPool2D(),\n",
    "    layers.Dropout(0.2),\n",
    "    \n",
    "    #Block 2\n",
    "    layers.Conv2D(filters=64, kernel_size=3, activation=\"relu\", padding=\"same\"),\n",
    "    layers.BatchNormalization(),\n",
    "    layers.MaxPool2D(),\n",
    "    layers.Dropout(0.2),\n",
    "    \n",
    "    #Block 3\n",
    "    layers.Conv2D(filters=128, kernel_size=3, activation=\"relu\", padding=\"same\"),\n",
    "    layers.BatchNormalization(),\n",
    "    \n",
    "    layers.GlobalAveragePooling2D(),\n",
    "    \n",
    "    #Dense Head\n",
    "    layers.Flatten(),\n",
    "    layers.Dense(128, activation=\"relu\"),\n",
    "    layers.Dropout(0.2),\n",
    "    layers.Dense(10, activation=\"softmax\")\n",
    "])\n",
    "\n",
    "model.summary()"
   ]
  },
  {
   "cell_type": "markdown",
   "id": "2d377a28",
   "metadata": {
    "papermill": {
     "duration": 0.011132,
     "end_time": "2024-09-01T07:58:07.723587",
     "exception": false,
     "start_time": "2024-09-01T07:58:07.712455",
     "status": "completed"
    },
    "tags": []
   },
   "source": [
    "Compile the model using Adam optimization"
   ]
  },
  {
   "cell_type": "code",
   "execution_count": 12,
   "id": "ece429df",
   "metadata": {
    "execution": {
     "iopub.execute_input": "2024-09-01T07:58:07.747269Z",
     "iopub.status.busy": "2024-09-01T07:58:07.746933Z",
     "iopub.status.idle": "2024-09-01T07:58:07.759232Z",
     "shell.execute_reply": "2024-09-01T07:58:07.758531Z"
    },
    "papermill": {
     "duration": 0.02634,
     "end_time": "2024-09-01T07:58:07.761128",
     "exception": false,
     "start_time": "2024-09-01T07:58:07.734788",
     "status": "completed"
    },
    "tags": []
   },
   "outputs": [],
   "source": [
    "model.compile(optimizer=\"adam\", \n",
    "              loss=\"categorical_crossentropy\", \n",
    "              metrics=[\"accuracy\"])"
   ]
  },
  {
   "cell_type": "markdown",
   "id": "4ad93bca",
   "metadata": {
    "papermill": {
     "duration": 0.010898,
     "end_time": "2024-09-01T07:58:07.783212",
     "exception": false,
     "start_time": "2024-09-01T07:58:07.772314",
     "status": "completed"
    },
    "tags": []
   },
   "source": [
    "Define a ReduceLR and EarlyStopping callback to help model performance and stop training if no progress."
   ]
  },
  {
   "cell_type": "code",
   "execution_count": 13,
   "id": "a2a70b6b",
   "metadata": {
    "execution": {
     "iopub.execute_input": "2024-09-01T07:58:07.806796Z",
     "iopub.status.busy": "2024-09-01T07:58:07.806465Z",
     "iopub.status.idle": "2024-09-01T08:00:35.374026Z",
     "shell.execute_reply": "2024-09-01T08:00:35.373170Z"
    },
    "papermill": {
     "duration": 147.581807,
     "end_time": "2024-09-01T08:00:35.376179",
     "exception": false,
     "start_time": "2024-09-01T07:58:07.794372",
     "status": "completed"
    },
    "tags": []
   },
   "outputs": [
    {
     "name": "stdout",
     "output_type": "stream",
     "text": [
      "Epoch 1/50\n"
     ]
    },
    {
     "name": "stderr",
     "output_type": "stream",
     "text": [
      "2024-09-01 07:58:10.985578: E tensorflow/core/grappler/optimizers/meta_optimizer.cc:961] layout failed: INVALID_ARGUMENT: Size of values 0 does not match size of permutation 4 @ fanin shape inStatefulPartitionedCall/sequential_1_1/dropout_1/stateless_dropout/SelectV2-2-TransposeNHWCToNCHW-LayoutOptimizer\n"
     ]
    },
    {
     "name": "stdout",
     "output_type": "stream",
     "text": [
      "\u001b[1m591/591\u001b[0m \u001b[32m━━━━━━━━━━━━━━━━━━━━\u001b[0m\u001b[37m\u001b[0m \u001b[1m12s\u001b[0m 10ms/step - accuracy: 0.7520 - loss: 0.7906 - val_accuracy: 0.8705 - val_loss: 0.3941 - learning_rate: 0.0010\n",
      "Epoch 2/50\n",
      "\u001b[1m591/591\u001b[0m \u001b[32m━━━━━━━━━━━━━━━━━━━━\u001b[0m\u001b[37m\u001b[0m \u001b[1m6s\u001b[0m 10ms/step - accuracy: 0.9641 - loss: 0.1152 - val_accuracy: 0.9798 - val_loss: 0.0635 - learning_rate: 0.0010\n",
      "Epoch 3/50\n",
      "\u001b[1m591/591\u001b[0m \u001b[32m━━━━━━━━━━━━━━━━━━━━\u001b[0m\u001b[37m\u001b[0m \u001b[1m5s\u001b[0m 9ms/step - accuracy: 0.9722 - loss: 0.0896 - val_accuracy: 0.9836 - val_loss: 0.0521 - learning_rate: 0.0010\n",
      "Epoch 4/50\n",
      "\u001b[1m591/591\u001b[0m \u001b[32m━━━━━━━━━━━━━━━━━━━━\u001b[0m\u001b[37m\u001b[0m \u001b[1m5s\u001b[0m 9ms/step - accuracy: 0.9778 - loss: 0.0718 - val_accuracy: 0.9774 - val_loss: 0.0657 - learning_rate: 0.0010\n",
      "Epoch 5/50\n",
      "\u001b[1m591/591\u001b[0m \u001b[32m━━━━━━━━━━━━━━━━━━━━\u001b[0m\u001b[37m\u001b[0m \u001b[1m5s\u001b[0m 9ms/step - accuracy: 0.9798 - loss: 0.0620 - val_accuracy: 0.9860 - val_loss: 0.0458 - learning_rate: 0.0010\n",
      "Epoch 6/50\n",
      "\u001b[1m591/591\u001b[0m \u001b[32m━━━━━━━━━━━━━━━━━━━━\u001b[0m\u001b[37m\u001b[0m \u001b[1m5s\u001b[0m 9ms/step - accuracy: 0.9830 - loss: 0.0570 - val_accuracy: 0.9810 - val_loss: 0.0667 - learning_rate: 0.0010\n",
      "Epoch 7/50\n",
      "\u001b[1m591/591\u001b[0m \u001b[32m━━━━━━━━━━━━━━━━━━━━\u001b[0m\u001b[37m\u001b[0m \u001b[1m5s\u001b[0m 9ms/step - accuracy: 0.9826 - loss: 0.0554 - val_accuracy: 0.9888 - val_loss: 0.0392 - learning_rate: 0.0010\n",
      "Epoch 8/50\n",
      "\u001b[1m591/591\u001b[0m \u001b[32m━━━━━━━━━━━━━━━━━━━━\u001b[0m\u001b[37m\u001b[0m \u001b[1m6s\u001b[0m 9ms/step - accuracy: 0.9846 - loss: 0.0499 - val_accuracy: 0.9871 - val_loss: 0.0409 - learning_rate: 0.0010\n",
      "Epoch 9/50\n",
      "\u001b[1m591/591\u001b[0m \u001b[32m━━━━━━━━━━━━━━━━━━━━\u001b[0m\u001b[37m\u001b[0m \u001b[1m5s\u001b[0m 9ms/step - accuracy: 0.9865 - loss: 0.0452 - val_accuracy: 0.9902 - val_loss: 0.0369 - learning_rate: 0.0010\n",
      "Epoch 10/50\n",
      "\u001b[1m591/591\u001b[0m \u001b[32m━━━━━━━━━━━━━━━━━━━━\u001b[0m\u001b[37m\u001b[0m \u001b[1m5s\u001b[0m 9ms/step - accuracy: 0.9856 - loss: 0.0451 - val_accuracy: 0.9917 - val_loss: 0.0301 - learning_rate: 0.0010\n",
      "Epoch 11/50\n",
      "\u001b[1m591/591\u001b[0m \u001b[32m━━━━━━━━━━━━━━━━━━━━\u001b[0m\u001b[37m\u001b[0m \u001b[1m5s\u001b[0m 9ms/step - accuracy: 0.9858 - loss: 0.0449 - val_accuracy: 0.9871 - val_loss: 0.0375 - learning_rate: 0.0010\n",
      "Epoch 12/50\n",
      "\u001b[1m591/591\u001b[0m \u001b[32m━━━━━━━━━━━━━━━━━━━━\u001b[0m\u001b[37m\u001b[0m \u001b[1m5s\u001b[0m 9ms/step - accuracy: 0.9870 - loss: 0.0417 - val_accuracy: 0.9857 - val_loss: 0.0446 - learning_rate: 0.0010\n",
      "Epoch 13/50\n",
      "\u001b[1m591/591\u001b[0m \u001b[32m━━━━━━━━━━━━━━━━━━━━\u001b[0m\u001b[37m\u001b[0m \u001b[1m5s\u001b[0m 9ms/step - accuracy: 0.9860 - loss: 0.0442 - val_accuracy: 0.9924 - val_loss: 0.0263 - learning_rate: 0.0010\n",
      "Epoch 14/50\n",
      "\u001b[1m591/591\u001b[0m \u001b[32m━━━━━━━━━━━━━━━━━━━━\u001b[0m\u001b[37m\u001b[0m \u001b[1m6s\u001b[0m 9ms/step - accuracy: 0.9880 - loss: 0.0389 - val_accuracy: 0.9910 - val_loss: 0.0321 - learning_rate: 0.0010\n",
      "Epoch 15/50\n",
      "\u001b[1m591/591\u001b[0m \u001b[32m━━━━━━━━━━━━━━━━━━━━\u001b[0m\u001b[37m\u001b[0m \u001b[1m5s\u001b[0m 9ms/step - accuracy: 0.9874 - loss: 0.0383 - val_accuracy: 0.9902 - val_loss: 0.0312 - learning_rate: 0.0010\n",
      "Epoch 16/50\n",
      "\u001b[1m591/591\u001b[0m \u001b[32m━━━━━━━━━━━━━━━━━━━━\u001b[0m\u001b[37m\u001b[0m \u001b[1m5s\u001b[0m 9ms/step - accuracy: 0.9880 - loss: 0.0383 - val_accuracy: 0.9917 - val_loss: 0.0321 - learning_rate: 0.0010\n",
      "Epoch 17/50\n",
      "\u001b[1m591/591\u001b[0m \u001b[32m━━━━━━━━━━━━━━━━━━━━\u001b[0m\u001b[37m\u001b[0m \u001b[1m5s\u001b[0m 9ms/step - accuracy: 0.9905 - loss: 0.0291 - val_accuracy: 0.9940 - val_loss: 0.0200 - learning_rate: 5.0000e-04\n",
      "Epoch 18/50\n",
      "\u001b[1m591/591\u001b[0m \u001b[32m━━━━━━━━━━━━━━━━━━━━\u001b[0m\u001b[37m\u001b[0m \u001b[1m5s\u001b[0m 9ms/step - accuracy: 0.9911 - loss: 0.0279 - val_accuracy: 0.9919 - val_loss: 0.0239 - learning_rate: 5.0000e-04\n",
      "Epoch 19/50\n",
      "\u001b[1m591/591\u001b[0m \u001b[32m━━━━━━━━━━━━━━━━━━━━\u001b[0m\u001b[37m\u001b[0m \u001b[1m5s\u001b[0m 9ms/step - accuracy: 0.9919 - loss: 0.0246 - val_accuracy: 0.9926 - val_loss: 0.0254 - learning_rate: 5.0000e-04\n",
      "Epoch 20/50\n",
      "\u001b[1m591/591\u001b[0m \u001b[32m━━━━━━━━━━━━━━━━━━━━\u001b[0m\u001b[37m\u001b[0m \u001b[1m5s\u001b[0m 9ms/step - accuracy: 0.9922 - loss: 0.0231 - val_accuracy: 0.9933 - val_loss: 0.0211 - learning_rate: 5.0000e-04\n",
      "Epoch 21/50\n",
      "\u001b[1m591/591\u001b[0m \u001b[32m━━━━━━━━━━━━━━━━━━━━\u001b[0m\u001b[37m\u001b[0m \u001b[1m5s\u001b[0m 9ms/step - accuracy: 0.9917 - loss: 0.0240 - val_accuracy: 0.9940 - val_loss: 0.0195 - learning_rate: 2.5000e-04\n",
      "Epoch 22/50\n",
      "\u001b[1m591/591\u001b[0m \u001b[32m━━━━━━━━━━━━━━━━━━━━\u001b[0m\u001b[37m\u001b[0m \u001b[1m5s\u001b[0m 9ms/step - accuracy: 0.9932 - loss: 0.0220 - val_accuracy: 0.9945 - val_loss: 0.0208 - learning_rate: 2.5000e-04\n",
      "Epoch 23/50\n",
      "\u001b[1m591/591\u001b[0m \u001b[32m━━━━━━━━━━━━━━━━━━━━\u001b[0m\u001b[37m\u001b[0m \u001b[1m5s\u001b[0m 9ms/step - accuracy: 0.9934 - loss: 0.0203 - val_accuracy: 0.9933 - val_loss: 0.0241 - learning_rate: 2.5000e-04\n",
      "Epoch 24/50\n",
      "\u001b[1m591/591\u001b[0m \u001b[32m━━━━━━━━━━━━━━━━━━━━\u001b[0m\u001b[37m\u001b[0m \u001b[1m5s\u001b[0m 9ms/step - accuracy: 0.9921 - loss: 0.0253 - val_accuracy: 0.9948 - val_loss: 0.0202 - learning_rate: 2.5000e-04\n",
      "Epoch 25/50\n",
      "\u001b[1m591/591\u001b[0m \u001b[32m━━━━━━━━━━━━━━━━━━━━\u001b[0m\u001b[37m\u001b[0m \u001b[1m5s\u001b[0m 9ms/step - accuracy: 0.9937 - loss: 0.0191 - val_accuracy: 0.9938 - val_loss: 0.0203 - learning_rate: 2.5000e-04\n",
      "Epoch 26/50\n",
      "\u001b[1m591/591\u001b[0m \u001b[32m━━━━━━━━━━━━━━━━━━━━\u001b[0m\u001b[37m\u001b[0m \u001b[1m5s\u001b[0m 9ms/step - accuracy: 0.9939 - loss: 0.0193 - val_accuracy: 0.9931 - val_loss: 0.0231 - learning_rate: 2.5000e-04\n"
     ]
    }
   ],
   "source": [
    "epochs = 50\n",
    "batch_size = 64 \n",
    "\n",
    "#Reduce lr when no improvement\n",
    "reduce_lr = ReduceLROnPlateau(\n",
    "    monitor='val_accuracy',  \n",
    "    factor=0.5,  \n",
    "    patience=3,  \n",
    "    min_lr=1e-6  \n",
    ")\n",
    "\n",
    "#Early stopping\n",
    "early_stopping = EarlyStopping(\n",
    "    monitor='val_loss',  \n",
    "    patience=5, \n",
    "    restore_best_weights=True \n",
    ")\n",
    "\n",
    "history = model.fit(X_train, y_train,\n",
    "                    validation_data=(X_val, y_val),\n",
    "                    epochs=epochs,\n",
    "                    batch_size=batch_size,\n",
    "                    callbacks=[reduce_lr, early_stopping],\n",
    "                    verbose=1 )"
   ]
  },
  {
   "cell_type": "code",
   "execution_count": 14,
   "id": "50af79af",
   "metadata": {
    "execution": {
     "iopub.execute_input": "2024-09-01T08:00:35.868910Z",
     "iopub.status.busy": "2024-09-01T08:00:35.868079Z",
     "iopub.status.idle": "2024-09-01T08:00:36.436073Z",
     "shell.execute_reply": "2024-09-01T08:00:36.435130Z"
    },
    "papermill": {
     "duration": 0.79138,
     "end_time": "2024-09-01T08:00:36.438062",
     "exception": false,
     "start_time": "2024-09-01T08:00:35.646682",
     "status": "completed"
    },
    "tags": []
   },
   "outputs": [
    {
     "name": "stdout",
     "output_type": "stream",
     "text": [
      "Best validation loss: 0.019504794850945473\n",
      "Best validation accuracy: 0.9947618842124939\n"
     ]
    },
    {
     "data": {
      "image/png": "[encoded data removed]",
      "text/plain": [
       "<Figure size 640x480 with 1 Axes>"
      ]
     },
     "metadata": {},
     "output_type": "display_data"
    },
    {
     "data": {
      "image/png": "[encoded data removed]",
      "text/plain": [
       "<Figure size 640x480 with 1 Axes>"
      ]
     },
     "metadata": {},
     "output_type": "display_data"
    }
   ],
   "source": [
    "df_history = pd.DataFrame(history.history)\n",
    "print(f\"Best validation loss: {df_history['val_loss'].min()}\")\n",
    "print(f\"Best validation accuracy: {df_history['val_accuracy'].max()}\")\n",
    "df_history.loc[1:, ['loss', 'val_loss']].plot()\n",
    "df_history.loc[1:, ['accuracy', 'val_accuracy']].plot();"
   ]
  },
  {
   "cell_type": "markdown",
   "id": "0cc61b5a",
   "metadata": {
    "papermill": {
     "duration": 0.220546,
     "end_time": "2024-09-01T08:00:36.878310",
     "exception": false,
     "start_time": "2024-09-01T08:00:36.657764",
     "status": "completed"
    },
    "tags": []
   },
   "source": [
    "Here are some logs of model iterations:\n",
    "    layers.Conv2D(filters=32, kernel_size=3, activation=\"relu\", padding=\"same\"),\n",
    "    layers.BatchNormalization(),\n",
    "    layers.MaxPool2D(),\n",
    "\n",
    "    layers.Conv2D(filters=64, kernel_size=3, activation=\"relu\", padding=\"same\"),\n",
    "    layers.BatchNormalization(),\n",
    "    layers.MaxPool2D(),\n",
    "\n",
    "    layers.Conv2D(filters=128, kernel_size=3, activation=\"relu\", padding=\"same\"),\n",
    "    layers.BatchNormalization(),\n",
    "\n",
    "    layers.GlobalAveragePooling2D(),\n",
    "\n",
    "    layers.Flatten(),\n",
    "    layers.Dense(64, activation=\"relu\"),\n",
    "    layers.Dropout(0.2),\n",
    "    layers.Dense(10, activation=\"softmax\")\n",
    "    Best validation loss: 0.042459383606910706\n",
    "    Best validation accuracy: 0.9902380704879761\n",
    "---\n",
    "    Added image augmentation\n",
    "    Best validation loss: 0.02707359939813614\n",
    "    Best validation accuracy: 0.9923809766769409\n",
    "---\n",
    "    Removed Global average pooling\n",
    "    Best validation loss: 0.04386579617857933\n",
    "    Best validation accuracy: 0.9902380704879761\n",
    "---\n",
    "    Reincorporated global average pooling\n",
    "    Added reducelr and earlystopping callbacks\n",
    "    increased number of neurons in dense layer to 128\n",
    "    Best validation loss: 0.029842104762792587\n",
    "    Best validation accuracy: 0.9933333396911621\n",
    "---\n",
    "    Added .2 Dropout after first two Conv2D blocks\n",
    "    Best validation loss: 0.02464003674685955\n",
    "    Best validation accuracy: 0.993571400642395"
   ]
  },
  {
   "cell_type": "code",
   "execution_count": 15,
   "id": "9cdf32fd",
   "metadata": {
    "execution": {
     "iopub.execute_input": "2024-09-01T08:00:37.323789Z",
     "iopub.status.busy": "2024-09-01T08:00:37.323128Z",
     "iopub.status.idle": "2024-09-01T08:00:37.397067Z",
     "shell.execute_reply": "2024-09-01T08:00:37.396207Z"
    },
    "papermill": {
     "duration": 0.299287,
     "end_time": "2024-09-01T08:00:37.399141",
     "exception": false,
     "start_time": "2024-09-01T08:00:37.099854",
     "status": "completed"
    },
    "tags": []
   },
   "outputs": [],
   "source": [
    "model.save(\"/kaggle/working/mnist_model_acc_0.99357.keras\")"
   ]
  },
  {
   "cell_type": "code",
   "execution_count": 16,
   "id": "9f995d9c",
   "metadata": {
    "execution": {
     "iopub.execute_input": "2024-09-01T08:00:37.837985Z",
     "iopub.status.busy": "2024-09-01T08:00:37.837203Z",
     "iopub.status.idle": "2024-09-01T08:00:37.841396Z",
     "shell.execute_reply": "2024-09-01T08:00:37.840541Z"
    },
    "papermill": {
     "duration": 0.225693,
     "end_time": "2024-09-01T08:00:37.843456",
     "exception": false,
     "start_time": "2024-09-01T08:00:37.617763",
     "status": "completed"
    },
    "tags": []
   },
   "outputs": [],
   "source": [
    "# import os\n",
    "\n",
    "# file_path = '/kaggle/working/mnist_model.keras'\n",
    "\n",
    "\n",
    "# if os.path.exists(file_path):\n",
    "#     os.remove(file_path)\n",
    "#     print(f'{file_path} has been removed.')\n",
    "# else:\n",
    "#     print(f'The file {file_path} does not exist.')"
   ]
  },
  {
   "cell_type": "code",
   "execution_count": null,
   "id": "8aa19b54",
   "metadata": {
    "papermill": {
     "duration": 0.228496,
     "end_time": "2024-09-01T08:00:38.295053",
     "exception": false,
     "start_time": "2024-09-01T08:00:38.066557",
     "status": "completed"
    },
    "tags": []
   },
   "outputs": [],
   "source": []
  }
 ],
 "metadata": {
  "kaggle": {
   "accelerator": "gpu",
   "dataSources": [
    {
     "databundleVersionId": 861823,
     "sourceId": 3004,
     "sourceType": "competition"
    }
   ],
   "dockerImageVersionId": 30761,
   "isGpuEnabled": true,
   "isInternetEnabled": true,
   "language": "python",
   "sourceType": "notebook"
  },
  "kernelspec": {
   "display_name": "Python 3",
   "language": "python",
   "name": "python3"
  },
  "language_info": {
   "codemirror_mode": {
    "name": "ipython",
    "version": 3
   },
   "file_extension": ".py",
   "mimetype": "text/x-python",
   "name": "python",
   "nbconvert_exporter": "python",
   "pygments_lexer": "ipython3",
   "version": "3.10.14"
  },
  "papermill": {
   "default_parameters": {},
   "duration": 183.584824,
   "end_time": "2024-09-01T08:00:40.543238",
   "environment_variables": {},
   "exception": null,
   "input_path": "__notebook__.ipynb",
   "output_path": "__notebook__.ipynb",
   "parameters": {},
   "start_time": "2024-09-01T07:57:36.958414",
   "version": "2.6.0"
  }
 },
 "nbformat": 4,
 "nbformat_minor": 5
}
